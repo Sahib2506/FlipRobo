{
 "cells": [
  {
   "cell_type": "markdown",
   "metadata": {},
   "source": [
    "### WEB SCRAPING ASSIGNMENT-2\n",
    "#### Sahib Hussain\n",
    "#### Internship 17"
   ]
  },
  {
   "cell_type": "code",
   "execution_count": 1,
   "metadata": {},
   "outputs": [
    {
     "name": "stdout",
     "output_type": "stream",
     "text": [
      "Requirement already satisfied: selenium in c:\\users\\owner\\anaconda3\\lib\\site-packages (3.141.0)\n",
      "Requirement already satisfied: urllib3 in c:\\users\\owner\\anaconda3\\lib\\site-packages (from selenium) (1.25.11)\n"
     ]
    }
   ],
   "source": [
    "!pip install selenium\n",
    "import pandas as pd\n",
    "import numpy as np\n",
    "from selenium import webdriver\n",
    "driver = webdriver.Chrome(r\"C:\\Users\\OWNER\\Downloads\\chromedriver.exe\")"
   ]
  },
  {
   "cell_type": "code",
   "execution_count": 35,
   "metadata": {},
   "outputs": [],
   "source": [
    "import time\n",
    "from selenium.common.exceptions import NoSuchElementException"
   ]
  },
  {
   "cell_type": "markdown",
   "metadata": {},
   "source": [
    "### Q1: Write a python program to scrape data for “Data Analyst” Job position in “Bangalore” location. You have to scrape the job-title, job-location, company_name, experience_required. You have to scrape first 10 jobs data."
   ]
  },
  {
   "cell_type": "code",
   "execution_count": 11,
   "metadata": {},
   "outputs": [],
   "source": [
    "# 1. first get the webpage https://www.naukri.com/"
   ]
  },
  {
   "cell_type": "code",
   "execution_count": 10,
   "metadata": {},
   "outputs": [],
   "source": [
    "driver.get('https://www.naukri.com/')"
   ]
  },
  {
   "cell_type": "code",
   "execution_count": 12,
   "metadata": {},
   "outputs": [],
   "source": [
    "#2. Enter “Data Analyst” in “Skill,Designations,Companies” field and enter “Bangalore” in “enter the location” field."
   ]
  },
  {
   "cell_type": "code",
   "execution_count": 13,
   "metadata": {},
   "outputs": [
    {
     "data": {
      "text/plain": [
       "<selenium.webdriver.remote.webelement.WebElement (session=\"dd7e32013d294fd0780ce0bdbbf9895f\", element=\"70685775-a7a9-43c7-875f-21afb780d4cc\")>"
      ]
     },
     "execution_count": 13,
     "metadata": {},
     "output_type": "execute_result"
    }
   ],
   "source": [
    "Job = driver.find_element_by_id('qsb-keyword-sugg')\n",
    "Job"
   ]
  },
  {
   "cell_type": "code",
   "execution_count": 14,
   "metadata": {},
   "outputs": [],
   "source": [
    "Job.send_keys('Data Analyst')"
   ]
  },
  {
   "cell_type": "code",
   "execution_count": 17,
   "metadata": {},
   "outputs": [],
   "source": [
    "location = driver.find_element_by_id('qsb-location-sugg')\n",
    "location.send_keys('Bangalore')"
   ]
  },
  {
   "cell_type": "code",
   "execution_count": 19,
   "metadata": {},
   "outputs": [],
   "source": [
    "#3. Then click the search button."
   ]
  },
  {
   "cell_type": "code",
   "execution_count": 18,
   "metadata": {},
   "outputs": [],
   "source": [
    "button = driver.find_element_by_xpath(\"//button[@class='btn']\")\n",
    "button.click()"
   ]
  },
  {
   "cell_type": "code",
   "execution_count": 20,
   "metadata": {},
   "outputs": [],
   "source": [
    "#4. Then scrape the data for the first 10 jobs results you get."
   ]
  },
  {
   "cell_type": "code",
   "execution_count": 33,
   "metadata": {},
   "outputs": [
    {
     "data": {
      "text/plain": [
       "[<selenium.webdriver.remote.webelement.WebElement (session=\"dd7e32013d294fd0780ce0bdbbf9895f\", element=\"43b6fc05-53a0-4a11-a111-11dbb42530c9\")>,\n",
       " <selenium.webdriver.remote.webelement.WebElement (session=\"dd7e32013d294fd0780ce0bdbbf9895f\", element=\"6738a074-b1d7-4ab6-861d-259fd9eadd19\")>,\n",
       " <selenium.webdriver.remote.webelement.WebElement (session=\"dd7e32013d294fd0780ce0bdbbf9895f\", element=\"642fd5e7-1eb0-4d3b-897f-bd0199aebb72\")>,\n",
       " <selenium.webdriver.remote.webelement.WebElement (session=\"dd7e32013d294fd0780ce0bdbbf9895f\", element=\"d257726f-f012-4070-8686-42814ddd4ba4\")>,\n",
       " <selenium.webdriver.remote.webelement.WebElement (session=\"dd7e32013d294fd0780ce0bdbbf9895f\", element=\"9277ecc3-5f0c-49fc-bc02-ec7c2ab19e32\")>,\n",
       " <selenium.webdriver.remote.webelement.WebElement (session=\"dd7e32013d294fd0780ce0bdbbf9895f\", element=\"6d3624e3-7c8b-4a97-a1df-2bcc4790d1f2\")>,\n",
       " <selenium.webdriver.remote.webelement.WebElement (session=\"dd7e32013d294fd0780ce0bdbbf9895f\", element=\"33fe0ae3-43be-46ed-aebb-960c721251ee\")>,\n",
       " <selenium.webdriver.remote.webelement.WebElement (session=\"dd7e32013d294fd0780ce0bdbbf9895f\", element=\"ffa883b2-520b-4945-bf56-b92d74806eb1\")>,\n",
       " <selenium.webdriver.remote.webelement.WebElement (session=\"dd7e32013d294fd0780ce0bdbbf9895f\", element=\"aafd0958-f02c-4c74-afbb-bca56fb789bf\")>,\n",
       " <selenium.webdriver.remote.webelement.WebElement (session=\"dd7e32013d294fd0780ce0bdbbf9895f\", element=\"2c1d092a-957c-4246-ab00-897cf17a69f1\")>]"
      ]
     },
     "execution_count": 33,
     "metadata": {},
     "output_type": "execute_result"
    }
   ],
   "source": [
    "#Titles\n",
    "titles = driver.find_elements_by_xpath(\"//a[@class='title fw500 ellipsis']\")[:10]\n",
    "titles"
   ]
  },
  {
   "cell_type": "code",
   "execution_count": 34,
   "metadata": {},
   "outputs": [],
   "source": [
    "Titles = []\n",
    "\n",
    "for i in titles:\n",
    "    Titles.append(i.text)"
   ]
  },
  {
   "cell_type": "code",
   "execution_count": 35,
   "metadata": {},
   "outputs": [
    {
     "data": {
      "text/plain": [
       "['Business Analyst / Data Analyst - SQL Queries, Power BI & Python exp.',\n",
       " 'Senior Data Analyst',\n",
       " 'Immediate job openings For Partner Consultant - Sizing(Data Analyst) ',\n",
       " 'Data Analyst',\n",
       " 'Data Analyst',\n",
       " 'Senior Data Analyst',\n",
       " 'Senior Data Analyst',\n",
       " 'Hiring- SR Data Analyst /Bangalore Start Up Company',\n",
       " 'Senior Data Analyst',\n",
       " 'Data Analyst, Component Engineering']"
      ]
     },
     "execution_count": 35,
     "metadata": {},
     "output_type": "execute_result"
    }
   ],
   "source": [
    "Titles"
   ]
  },
  {
   "cell_type": "code",
   "execution_count": 41,
   "metadata": {},
   "outputs": [
    {
     "data": {
      "text/plain": [
       "[<selenium.webdriver.remote.webelement.WebElement (session=\"dd7e32013d294fd0780ce0bdbbf9895f\", element=\"9b26aff0-2e76-4ba3-a3a2-ad440cd855b6\")>,\n",
       " <selenium.webdriver.remote.webelement.WebElement (session=\"dd7e32013d294fd0780ce0bdbbf9895f\", element=\"15c0e6f0-7647-4d1c-9e21-9e33f5839784\")>,\n",
       " <selenium.webdriver.remote.webelement.WebElement (session=\"dd7e32013d294fd0780ce0bdbbf9895f\", element=\"dbff4128-9896-4e17-9896-f1779be96f84\")>,\n",
       " <selenium.webdriver.remote.webelement.WebElement (session=\"dd7e32013d294fd0780ce0bdbbf9895f\", element=\"e9b2a1ad-d51e-41da-a8c4-e982dd9371a8\")>,\n",
       " <selenium.webdriver.remote.webelement.WebElement (session=\"dd7e32013d294fd0780ce0bdbbf9895f\", element=\"18cf897a-4a7d-405a-90ba-b9e57f8d0e4e\")>,\n",
       " <selenium.webdriver.remote.webelement.WebElement (session=\"dd7e32013d294fd0780ce0bdbbf9895f\", element=\"525b7d06-fe1d-47a2-8a9a-3e2bcda605a3\")>,\n",
       " <selenium.webdriver.remote.webelement.WebElement (session=\"dd7e32013d294fd0780ce0bdbbf9895f\", element=\"4379040e-5c5d-4cc1-ab40-4ad2b2091093\")>,\n",
       " <selenium.webdriver.remote.webelement.WebElement (session=\"dd7e32013d294fd0780ce0bdbbf9895f\", element=\"42cf8010-002f-4c5f-86ed-02f050302bb1\")>,\n",
       " <selenium.webdriver.remote.webelement.WebElement (session=\"dd7e32013d294fd0780ce0bdbbf9895f\", element=\"0031e6cc-0cc1-4714-bfef-8bc34445f63c\")>,\n",
       " <selenium.webdriver.remote.webelement.WebElement (session=\"dd7e32013d294fd0780ce0bdbbf9895f\", element=\"ab2924b3-44cd-4abc-8dd8-073e3b216a85\")>]"
      ]
     },
     "execution_count": 41,
     "metadata": {},
     "output_type": "execute_result"
    }
   ],
   "source": [
    "#Location\n",
    "loc = driver.find_elements_by_xpath(\"//li[@class='fleft grey-text br2 placeHolderLi location']//span\")[:10]\n",
    "loc"
   ]
  },
  {
   "cell_type": "code",
   "execution_count": 42,
   "metadata": {},
   "outputs": [],
   "source": [
    "Location = []\n",
    "\n",
    "for i in loc:\n",
    "    Location.append(i.text)"
   ]
  },
  {
   "cell_type": "code",
   "execution_count": 43,
   "metadata": {},
   "outputs": [
    {
     "data": {
      "text/plain": [
       "['Chennai, Coimbatore, Bangalore/Bengaluru',\n",
       " 'Bangalore/Bengaluru',\n",
       " 'Bangalore/Bengaluru(Marathahalli)',\n",
       " 'Bangalore/Bengaluru',\n",
       " 'Bangalore/Bengaluru',\n",
       " 'Bangalore/Bengaluru',\n",
       " 'Bangalore/Bengaluru',\n",
       " 'Bangalore/Bengaluru',\n",
       " 'Bangalore/Bengaluru(2nd Phase JP Nagar)',\n",
       " 'Bangalore/Bengaluru']"
      ]
     },
     "execution_count": 43,
     "metadata": {},
     "output_type": "execute_result"
    }
   ],
   "source": [
    "Location"
   ]
  },
  {
   "cell_type": "code",
   "execution_count": 44,
   "metadata": {},
   "outputs": [],
   "source": [
    "#Company Name"
   ]
  },
  {
   "cell_type": "code",
   "execution_count": 45,
   "metadata": {},
   "outputs": [],
   "source": [
    "comp = driver.find_elements_by_xpath(\"//a[@class='subTitle ellipsis fleft']\")[:10]"
   ]
  },
  {
   "cell_type": "code",
   "execution_count": 46,
   "metadata": {},
   "outputs": [
    {
     "data": {
      "text/plain": [
       "[<selenium.webdriver.remote.webelement.WebElement (session=\"dd7e32013d294fd0780ce0bdbbf9895f\", element=\"23daf305-75a8-452b-ba85-b09ab3b2cd11\")>,\n",
       " <selenium.webdriver.remote.webelement.WebElement (session=\"dd7e32013d294fd0780ce0bdbbf9895f\", element=\"d89255dd-6b65-4857-aebd-5caf47338717\")>,\n",
       " <selenium.webdriver.remote.webelement.WebElement (session=\"dd7e32013d294fd0780ce0bdbbf9895f\", element=\"bd97f031-d608-49a0-bcc1-e21c808967e2\")>,\n",
       " <selenium.webdriver.remote.webelement.WebElement (session=\"dd7e32013d294fd0780ce0bdbbf9895f\", element=\"471b5ee2-e39d-4ac5-b86c-b77633ca9a7e\")>,\n",
       " <selenium.webdriver.remote.webelement.WebElement (session=\"dd7e32013d294fd0780ce0bdbbf9895f\", element=\"1677533b-3103-4ffe-8a9b-3bcb5f37c33c\")>,\n",
       " <selenium.webdriver.remote.webelement.WebElement (session=\"dd7e32013d294fd0780ce0bdbbf9895f\", element=\"3caf3605-c486-4fd9-a979-1c77ff479bc3\")>,\n",
       " <selenium.webdriver.remote.webelement.WebElement (session=\"dd7e32013d294fd0780ce0bdbbf9895f\", element=\"a5368c34-bb7a-4726-9bb5-25f7bbf7db34\")>,\n",
       " <selenium.webdriver.remote.webelement.WebElement (session=\"dd7e32013d294fd0780ce0bdbbf9895f\", element=\"e7fe9ae0-9f1e-40f6-9ffa-67f172d7308d\")>,\n",
       " <selenium.webdriver.remote.webelement.WebElement (session=\"dd7e32013d294fd0780ce0bdbbf9895f\", element=\"57f46335-11f1-4f2f-ae5a-9f97a92e76e9\")>,\n",
       " <selenium.webdriver.remote.webelement.WebElement (session=\"dd7e32013d294fd0780ce0bdbbf9895f\", element=\"abd16925-5716-4124-87a3-76275303319b\")>]"
      ]
     },
     "execution_count": 46,
     "metadata": {},
     "output_type": "execute_result"
    }
   ],
   "source": [
    "comp"
   ]
  },
  {
   "cell_type": "code",
   "execution_count": 47,
   "metadata": {},
   "outputs": [
    {
     "data": {
      "text/plain": [
       "['AN INFRACON PRIVATE LIMITED',\n",
       " 'Flipkart Internet Private Limited',\n",
       " 'RANDSTAD INDIA PVT LTD',\n",
       " 'Philips India Limited',\n",
       " 'Applied Materials',\n",
       " 'Microland Limited',\n",
       " 'Verizon Data Services India Pvt.Ltd',\n",
       " 'Jobs Territory',\n",
       " 'Liventus, Inc.',\n",
       " 'Rockwell Automation']"
      ]
     },
     "execution_count": 47,
     "metadata": {},
     "output_type": "execute_result"
    }
   ],
   "source": [
    "Company = []\n",
    "\n",
    "for i in comp:\n",
    "    Company.append(i.text)\n",
    "Company"
   ]
  },
  {
   "cell_type": "code",
   "execution_count": 48,
   "metadata": {},
   "outputs": [],
   "source": [
    "#Experience Required"
   ]
  },
  {
   "cell_type": "code",
   "execution_count": 49,
   "metadata": {},
   "outputs": [
    {
     "data": {
      "text/plain": [
       "[<selenium.webdriver.remote.webelement.WebElement (session=\"dd7e32013d294fd0780ce0bdbbf9895f\", element=\"7efce050-3c3a-4ef7-9bdf-baead8b5cdf1\")>,\n",
       " <selenium.webdriver.remote.webelement.WebElement (session=\"dd7e32013d294fd0780ce0bdbbf9895f\", element=\"4f0508a4-c1a0-4134-b92e-bae02425e00b\")>,\n",
       " <selenium.webdriver.remote.webelement.WebElement (session=\"dd7e32013d294fd0780ce0bdbbf9895f\", element=\"15c695e0-1ad5-4300-bec5-ed780ed2cbab\")>,\n",
       " <selenium.webdriver.remote.webelement.WebElement (session=\"dd7e32013d294fd0780ce0bdbbf9895f\", element=\"1cdc72f4-ab9d-4278-be9f-c413cbcdbdf7\")>,\n",
       " <selenium.webdriver.remote.webelement.WebElement (session=\"dd7e32013d294fd0780ce0bdbbf9895f\", element=\"56a9399a-9386-4193-bb81-688739c918d2\")>,\n",
       " <selenium.webdriver.remote.webelement.WebElement (session=\"dd7e32013d294fd0780ce0bdbbf9895f\", element=\"43691683-eea8-4619-a145-8f0fe6943984\")>,\n",
       " <selenium.webdriver.remote.webelement.WebElement (session=\"dd7e32013d294fd0780ce0bdbbf9895f\", element=\"c8054f4e-21a8-4d0b-bc97-9d530a47ba1d\")>,\n",
       " <selenium.webdriver.remote.webelement.WebElement (session=\"dd7e32013d294fd0780ce0bdbbf9895f\", element=\"1ef76c64-9fb0-411e-9d8d-8b7be80e31af\")>,\n",
       " <selenium.webdriver.remote.webelement.WebElement (session=\"dd7e32013d294fd0780ce0bdbbf9895f\", element=\"77f55884-8f1d-4886-9d62-cc2d3df27f05\")>,\n",
       " <selenium.webdriver.remote.webelement.WebElement (session=\"dd7e32013d294fd0780ce0bdbbf9895f\", element=\"6d93a775-9d11-491f-975c-3ba978f7d7e4\")>]"
      ]
     },
     "execution_count": 49,
     "metadata": {},
     "output_type": "execute_result"
    }
   ],
   "source": [
    "exp = driver.find_elements_by_xpath(\"//li[@class='fleft grey-text br2 placeHolderLi experience']//span\")[:10]\n",
    "exp"
   ]
  },
  {
   "cell_type": "code",
   "execution_count": 50,
   "metadata": {},
   "outputs": [
    {
     "data": {
      "text/plain": [
       "['1-5 Yrs',\n",
       " '2-5 Yrs',\n",
       " '1-5 Yrs',\n",
       " '3-6 Yrs',\n",
       " '7-10 Yrs',\n",
       " '3-5 Yrs',\n",
       " '3-6 Yrs',\n",
       " '4-9 Yrs',\n",
       " '5-8 Yrs',\n",
       " '2-3 Yrs']"
      ]
     },
     "execution_count": 50,
     "metadata": {},
     "output_type": "execute_result"
    }
   ],
   "source": [
    "Exp = []\n",
    "\n",
    "for i in exp:\n",
    "    Exp.append(i.text)\n",
    "Exp"
   ]
  },
  {
   "cell_type": "code",
   "execution_count": 51,
   "metadata": {},
   "outputs": [],
   "source": [
    "data = list(zip(Titles,Location,Company,Exp))"
   ]
  },
  {
   "cell_type": "code",
   "execution_count": 52,
   "metadata": {},
   "outputs": [],
   "source": [
    "Data_Analyst = pd.DataFrame(data=data, columns = ['Titles','Location','Company','Experience'], index = np.arange(1,11,1))"
   ]
  },
  {
   "cell_type": "code",
   "execution_count": 53,
   "metadata": {},
   "outputs": [
    {
     "data": {
      "text/html": [
       "<div>\n",
       "<style scoped>\n",
       "    .dataframe tbody tr th:only-of-type {\n",
       "        vertical-align: middle;\n",
       "    }\n",
       "\n",
       "    .dataframe tbody tr th {\n",
       "        vertical-align: top;\n",
       "    }\n",
       "\n",
       "    .dataframe thead th {\n",
       "        text-align: right;\n",
       "    }\n",
       "</style>\n",
       "<table border=\"1\" class=\"dataframe\">\n",
       "  <thead>\n",
       "    <tr style=\"text-align: right;\">\n",
       "      <th></th>\n",
       "      <th>Titles</th>\n",
       "      <th>Location</th>\n",
       "      <th>Company</th>\n",
       "      <th>Experience</th>\n",
       "    </tr>\n",
       "  </thead>\n",
       "  <tbody>\n",
       "    <tr>\n",
       "      <th>1</th>\n",
       "      <td>Business Analyst / Data Analyst - SQL Queries,...</td>\n",
       "      <td>Chennai, Coimbatore, Bangalore/Bengaluru</td>\n",
       "      <td>AN INFRACON PRIVATE LIMITED</td>\n",
       "      <td>1-5 Yrs</td>\n",
       "    </tr>\n",
       "    <tr>\n",
       "      <th>2</th>\n",
       "      <td>Senior Data Analyst</td>\n",
       "      <td>Bangalore/Bengaluru</td>\n",
       "      <td>Flipkart Internet Private Limited</td>\n",
       "      <td>2-5 Yrs</td>\n",
       "    </tr>\n",
       "    <tr>\n",
       "      <th>3</th>\n",
       "      <td>Immediate job openings For Partner Consultant ...</td>\n",
       "      <td>Bangalore/Bengaluru(Marathahalli)</td>\n",
       "      <td>RANDSTAD INDIA PVT LTD</td>\n",
       "      <td>1-5 Yrs</td>\n",
       "    </tr>\n",
       "    <tr>\n",
       "      <th>4</th>\n",
       "      <td>Data Analyst</td>\n",
       "      <td>Bangalore/Bengaluru</td>\n",
       "      <td>Philips India Limited</td>\n",
       "      <td>3-6 Yrs</td>\n",
       "    </tr>\n",
       "    <tr>\n",
       "      <th>5</th>\n",
       "      <td>Data Analyst</td>\n",
       "      <td>Bangalore/Bengaluru</td>\n",
       "      <td>Applied Materials</td>\n",
       "      <td>7-10 Yrs</td>\n",
       "    </tr>\n",
       "    <tr>\n",
       "      <th>6</th>\n",
       "      <td>Senior Data Analyst</td>\n",
       "      <td>Bangalore/Bengaluru</td>\n",
       "      <td>Microland Limited</td>\n",
       "      <td>3-5 Yrs</td>\n",
       "    </tr>\n",
       "    <tr>\n",
       "      <th>7</th>\n",
       "      <td>Senior Data Analyst</td>\n",
       "      <td>Bangalore/Bengaluru</td>\n",
       "      <td>Verizon Data Services India Pvt.Ltd</td>\n",
       "      <td>3-6 Yrs</td>\n",
       "    </tr>\n",
       "    <tr>\n",
       "      <th>8</th>\n",
       "      <td>Hiring- SR Data Analyst /Bangalore Start Up Co...</td>\n",
       "      <td>Bangalore/Bengaluru</td>\n",
       "      <td>Jobs Territory</td>\n",
       "      <td>4-9 Yrs</td>\n",
       "    </tr>\n",
       "    <tr>\n",
       "      <th>9</th>\n",
       "      <td>Senior Data Analyst</td>\n",
       "      <td>Bangalore/Bengaluru(2nd Phase JP Nagar)</td>\n",
       "      <td>Liventus, Inc.</td>\n",
       "      <td>5-8 Yrs</td>\n",
       "    </tr>\n",
       "    <tr>\n",
       "      <th>10</th>\n",
       "      <td>Data Analyst, Component Engineering</td>\n",
       "      <td>Bangalore/Bengaluru</td>\n",
       "      <td>Rockwell Automation</td>\n",
       "      <td>2-3 Yrs</td>\n",
       "    </tr>\n",
       "  </tbody>\n",
       "</table>\n",
       "</div>"
      ],
      "text/plain": [
       "                                               Titles  \\\n",
       "1   Business Analyst / Data Analyst - SQL Queries,...   \n",
       "2                                 Senior Data Analyst   \n",
       "3   Immediate job openings For Partner Consultant ...   \n",
       "4                                        Data Analyst   \n",
       "5                                        Data Analyst   \n",
       "6                                 Senior Data Analyst   \n",
       "7                                 Senior Data Analyst   \n",
       "8   Hiring- SR Data Analyst /Bangalore Start Up Co...   \n",
       "9                                 Senior Data Analyst   \n",
       "10                Data Analyst, Component Engineering   \n",
       "\n",
       "                                    Location  \\\n",
       "1   Chennai, Coimbatore, Bangalore/Bengaluru   \n",
       "2                        Bangalore/Bengaluru   \n",
       "3          Bangalore/Bengaluru(Marathahalli)   \n",
       "4                        Bangalore/Bengaluru   \n",
       "5                        Bangalore/Bengaluru   \n",
       "6                        Bangalore/Bengaluru   \n",
       "7                        Bangalore/Bengaluru   \n",
       "8                        Bangalore/Bengaluru   \n",
       "9    Bangalore/Bengaluru(2nd Phase JP Nagar)   \n",
       "10                       Bangalore/Bengaluru   \n",
       "\n",
       "                                Company Experience  \n",
       "1           AN INFRACON PRIVATE LIMITED    1-5 Yrs  \n",
       "2     Flipkart Internet Private Limited    2-5 Yrs  \n",
       "3                RANDSTAD INDIA PVT LTD    1-5 Yrs  \n",
       "4                 Philips India Limited    3-6 Yrs  \n",
       "5                     Applied Materials   7-10 Yrs  \n",
       "6                     Microland Limited    3-5 Yrs  \n",
       "7   Verizon Data Services India Pvt.Ltd    3-6 Yrs  \n",
       "8                        Jobs Territory    4-9 Yrs  \n",
       "9                        Liventus, Inc.    5-8 Yrs  \n",
       "10                  Rockwell Automation    2-3 Yrs  "
      ]
     },
     "execution_count": 53,
     "metadata": {},
     "output_type": "execute_result"
    }
   ],
   "source": [
    "Data_Analyst"
   ]
  },
  {
   "cell_type": "markdown",
   "metadata": {},
   "source": [
    "### Q2: Write a python program to scrape data for “Data Scientist” Job position in “Bangalore” location. You have to scrape the job-title, job-location, company_name, full job-description. You have to scrape first 10 jobs data."
   ]
  },
  {
   "cell_type": "code",
   "execution_count": 54,
   "metadata": {},
   "outputs": [],
   "source": [
    "# 1. first get the webpage https://www.naukri.com/"
   ]
  },
  {
   "cell_type": "code",
   "execution_count": 115,
   "metadata": {},
   "outputs": [],
   "source": [
    "driver.get('https://www.naukri.com/')"
   ]
  },
  {
   "cell_type": "code",
   "execution_count": 15,
   "metadata": {},
   "outputs": [],
   "source": [
    "#2. Enter “Data Scientist” in “Skill,Designations,Companies” field and enter “Bangalore” in “enter the location” field."
   ]
  },
  {
   "cell_type": "code",
   "execution_count": 116,
   "metadata": {},
   "outputs": [],
   "source": [
    "Job = driver.find_element_by_id('qsb-keyword-sugg')\n",
    "Loc = driver.find_element_by_id('qsb-location-sugg')"
   ]
  },
  {
   "cell_type": "code",
   "execution_count": 117,
   "metadata": {},
   "outputs": [],
   "source": [
    "Job.send_keys('Data Scientist')\n",
    "Loc.send_keys('Bangalore')"
   ]
  },
  {
   "cell_type": "code",
   "execution_count": 118,
   "metadata": {},
   "outputs": [],
   "source": [
    "#3."
   ]
  },
  {
   "cell_type": "code",
   "execution_count": 119,
   "metadata": {},
   "outputs": [],
   "source": [
    "Search =  driver.find_element_by_xpath(\"//button[@class='btn']\")\n",
    "Search.click()"
   ]
  },
  {
   "cell_type": "code",
   "execution_count": 120,
   "metadata": {},
   "outputs": [],
   "source": [
    "# 4. Then scrape the data for the first 10 jobs results you get."
   ]
  },
  {
   "cell_type": "code",
   "execution_count": 138,
   "metadata": {},
   "outputs": [
    {
     "data": {
      "text/plain": [
       "['https://www.naukri.com/job-listings-data-scientist-data-analyst-business-analyst-inflexion-analytix-private-limited-hyderabad-secunderabad-chennai-bangalore-bengaluru-0-to-3-years-020721003625?src=jobsearchDesk&sid=16255024631527046&xp=1&px=1',\n",
       " 'https://www.naukri.com/job-listings-senior-data-scientist-24-7-customer-private-ltd-bangalore-bengaluru-5-to-10-years-280621501037?src=jobsearchDesk&sid=16255024631527046&xp=2&px=1',\n",
       " 'https://www.naukri.com/job-listings-senior-lead-data-scientist-machine-learning-deep-learning-squareroot-consulting-pvt-ltd-bangalore-bengaluru-1-to-6-years-010320600083?src=jobsearchDesk&sid=16255024631527046&xp=3&px=1',\n",
       " 'https://www.naukri.com/job-listings-senior-data-scientist-fractal-analytics-ltd-mumbai-gurgaon-gurugram-bangalore-bengaluru-4-to-8-years-290621500776?src=jobsearchDesk&sid=16255024631527046&xp=4&px=1',\n",
       " 'https://www.naukri.com/job-listings-senior-data-scientist-nielsen-india-private-limited-chennai-bangalore-bengaluru-vadodara-baroda-3-to-5-years-290621001647?src=jobsearchDesk&sid=16255024631527046&xp=5&px=1',\n",
       " 'https://www.naukri.com/job-listings-lead-data-scientist-machine-learning-data-mining-wrackle-technologies-pvt-ltd-bangalore-bengaluru-6-to-11-years-080221900886?src=jobsearchDesk&sid=16255024631527046&xp=6&px=1',\n",
       " 'https://www.naukri.com/job-listings-data-scientist-baker-hughes-incorporated-bangalore-bengaluru-2-to-6-years-050721500685?src=jobsearchDesk&sid=16255024631527046&xp=7&px=1',\n",
       " 'https://www.naukri.com/job-listings-data-scientist-consumer-analytics-eli-lilly-and-company-bangalore-bengaluru-4-to-6-years-050721500501?src=jobsearchDesk&sid=16255024631527046&xp=8&px=1',\n",
       " 'https://www.naukri.com/job-listings-data-scientist-i-ani-technologies-pvt-ltd-olacabs-bangalore-bengaluru-3-to-7-years-050721500669?src=jobsearchDesk&sid=16255024631527046&xp=9&px=1',\n",
       " 'https://www.naukri.com/job-listings-data-scientist-iv-conduent-bangalore-bengaluru-10-to-15-years-030721500406?src=jobsearchDesk&sid=16255024631527046&xp=10&px=1']"
      ]
     },
     "execution_count": 138,
     "metadata": {},
     "output_type": "execute_result"
    }
   ],
   "source": [
    "#urls\n",
    "URL = []\n",
    "\n",
    "url =  driver.find_elements_by_xpath(\"//a[@class='title fw500 ellipsis']\")[:10]\n",
    "\n",
    "for i in url:\n",
    "    URL.append(i.get_attribute('href'))\n",
    "URL"
   ]
  },
  {
   "cell_type": "code",
   "execution_count": 154,
   "metadata": {},
   "outputs": [],
   "source": [
    "Title = []\n",
    "Location = []\n",
    "Company = []\n",
    "Job_Desc = []\n",
    "\n",
    "for i in URL:\n",
    "    driver.get(i)\n",
    "    time.sleep(7)\n",
    "   \n",
    "    #Title\n",
    "    try:\n",
    "        t = driver.find_element_by_xpath(\"//h1[@class='jd-header-title']\")\n",
    "        Title.append(t.text)\n",
    "    except NoSuchElementException:\n",
    "        t = driver.find_element_by_xpath(\"//h1[@class='av-special-heading-tag']\")\n",
    "        Title.append(t.text)\n",
    "    \n",
    "    #Location\n",
    "    try:\n",
    "        loc = driver.find_element_by_xpath(\"//div[@class='loc']\")\n",
    "        Location.append(loc.text)\n",
    "    except NoSuchElementException:\n",
    "        Location.append(\"-\")\n",
    "    \n",
    "    #Company Name\n",
    "    try:\n",
    "        comp = driver.find_element_by_xpath(\"//div[@class='jd-header-comp-name']\")\n",
    "        Company.append(comp.text)\n",
    "    except NoSuchElementException:\n",
    "        comp = driver.find_element_by_xpath(\"//p[@class='cpName f14']\")\n",
    "        Company.append(comp.text)\n",
    "        \n",
    "    #Job_Desc\n",
    "    try:\n",
    "        desc = driver.find_element_by_xpath(\"//section[@class='job-desc']\")\n",
    "        Job_Desc.append(desc.text.replace('\\n',''))\n",
    "    except:\n",
    "        desc = driver.find_element_by_xpath(\"//div[@class='nConfig_textblock ']\")\n",
    "        Job_Desc.append(desc.text.replace('\\n',''))"
   ]
  },
  {
   "cell_type": "code",
   "execution_count": 155,
   "metadata": {},
   "outputs": [
    {
     "data": {
      "text/plain": [
       "10"
      ]
     },
     "execution_count": 155,
     "metadata": {},
     "output_type": "execute_result"
    }
   ],
   "source": [
    "len(Title)"
   ]
  },
  {
   "cell_type": "code",
   "execution_count": 156,
   "metadata": {},
   "outputs": [
    {
     "data": {
      "text/plain": [
       "10"
      ]
     },
     "execution_count": 156,
     "metadata": {},
     "output_type": "execute_result"
    }
   ],
   "source": [
    "len(Location)"
   ]
  },
  {
   "cell_type": "code",
   "execution_count": 157,
   "metadata": {},
   "outputs": [
    {
     "data": {
      "text/plain": [
       "10"
      ]
     },
     "execution_count": 157,
     "metadata": {},
     "output_type": "execute_result"
    }
   ],
   "source": [
    "len(Company)"
   ]
  },
  {
   "cell_type": "code",
   "execution_count": 158,
   "metadata": {},
   "outputs": [
    {
     "data": {
      "text/plain": [
       "10"
      ]
     },
     "execution_count": 158,
     "metadata": {},
     "output_type": "execute_result"
    }
   ],
   "source": [
    "len(Job_Desc)"
   ]
  },
  {
   "cell_type": "code",
   "execution_count": 159,
   "metadata": {},
   "outputs": [
    {
     "data": {
      "text/html": [
       "<div>\n",
       "<style scoped>\n",
       "    .dataframe tbody tr th:only-of-type {\n",
       "        vertical-align: middle;\n",
       "    }\n",
       "\n",
       "    .dataframe tbody tr th {\n",
       "        vertical-align: top;\n",
       "    }\n",
       "\n",
       "    .dataframe thead th {\n",
       "        text-align: right;\n",
       "    }\n",
       "</style>\n",
       "<table border=\"1\" class=\"dataframe\">\n",
       "  <thead>\n",
       "    <tr style=\"text-align: right;\">\n",
       "      <th></th>\n",
       "      <th>Title</th>\n",
       "      <th>Location</th>\n",
       "      <th>Company</th>\n",
       "      <th>Job_Desc</th>\n",
       "    </tr>\n",
       "  </thead>\n",
       "  <tbody>\n",
       "    <tr>\n",
       "      <th>1</th>\n",
       "      <td>Data Scientist / Data Analyst -Business Analyst</td>\n",
       "      <td>Hyderabad/Secunderabad, Chennai, Bangalore/Ben...</td>\n",
       "      <td>Inflexion Analytix Private Limited</td>\n",
       "      <td>Job descriptionJob descriptionJob Role: Data S...</td>\n",
       "    </tr>\n",
       "    <tr>\n",
       "      <th>2</th>\n",
       "      <td>Senior Data Scientist</td>\n",
       "      <td>Bangalore/Bengaluru</td>\n",
       "      <td>24/7 Customer3.6(1199 Reviews)</td>\n",
       "      <td>Job descriptionBrief about the RoleThe Platfor...</td>\n",
       "    </tr>\n",
       "    <tr>\n",
       "      <th>3</th>\n",
       "      <td>Senior/Lead Data Scientist - Machine Learning/...</td>\n",
       "      <td>Bangalore/Bengaluru</td>\n",
       "      <td>Squareroot Consulting Pvt Ltd.</td>\n",
       "      <td>Job descriptionRoles and ResponsibilitiesHirin...</td>\n",
       "    </tr>\n",
       "    <tr>\n",
       "      <th>4</th>\n",
       "      <td>Senior Data Scientist</td>\n",
       "      <td>Mumbai, Gurgaon/Gurugram, Bangalore/Bengaluru</td>\n",
       "      <td>Fractal Analytics3.9(97 Reviews)</td>\n",
       "      <td>Job descriptionThe Artificial Intelligence and...</td>\n",
       "    </tr>\n",
       "    <tr>\n",
       "      <th>5</th>\n",
       "      <td>Senior Data Scientist</td>\n",
       "      <td>Chennai, Bangalore/Bengaluru, Vadodara</td>\n",
       "      <td>Nielsen3.8(485 Reviews)</td>\n",
       "      <td>Job descriptionABOUT THIS JOBNielsenIQ Advance...</td>\n",
       "    </tr>\n",
       "    <tr>\n",
       "      <th>6</th>\n",
       "      <td>Lead Data Scientist - Machine Learning/ Data M...</td>\n",
       "      <td>Bangalore/Bengaluru</td>\n",
       "      <td>Wrackle Technologies Pvt Ltd</td>\n",
       "      <td>Job descriptionRoles and ResponsibilitiesRequi...</td>\n",
       "    </tr>\n",
       "    <tr>\n",
       "      <th>7</th>\n",
       "      <td>Data Scientist</td>\n",
       "      <td>Bangalore/Bengaluru</td>\n",
       "      <td>Baker Hughes Incorporated4.0(238 Reviews)</td>\n",
       "      <td>Job descriptionAs a Data Scientist, you would ...</td>\n",
       "    </tr>\n",
       "    <tr>\n",
       "      <th>8</th>\n",
       "      <td>Data Scientist - Consumer Analytics</td>\n",
       "      <td>Bangalore/Bengaluru</td>\n",
       "      <td>Eli Lilly and Company4.2(116 Reviews)</td>\n",
       "      <td>Job descriptionCore ResponsibilitiesModel data...</td>\n",
       "    </tr>\n",
       "    <tr>\n",
       "      <th>9</th>\n",
       "      <td>Data Scientist I</td>\n",
       "      <td>Bangalore/Bengaluru</td>\n",
       "      <td>ANI Technologies Pvt Ltd (Olacabs)4.0(1213 Rev...</td>\n",
       "      <td>Job descriptionThe Data Science Machine Learni...</td>\n",
       "    </tr>\n",
       "    <tr>\n",
       "      <th>10</th>\n",
       "      <td>Data Scientist IV</td>\n",
       "      <td>Bangalore/Bengaluru</td>\n",
       "      <td>Conduent3.5(1036 Reviews)</td>\n",
       "      <td>Job descriptionWe are looking for an Azure Dat...</td>\n",
       "    </tr>\n",
       "  </tbody>\n",
       "</table>\n",
       "</div>"
      ],
      "text/plain": [
       "                                                Title  \\\n",
       "1     Data Scientist / Data Analyst -Business Analyst   \n",
       "2                               Senior Data Scientist   \n",
       "3   Senior/Lead Data Scientist - Machine Learning/...   \n",
       "4                               Senior Data Scientist   \n",
       "5                               Senior Data Scientist   \n",
       "6   Lead Data Scientist - Machine Learning/ Data M...   \n",
       "7                                      Data Scientist   \n",
       "8                 Data Scientist - Consumer Analytics   \n",
       "9                                    Data Scientist I   \n",
       "10                                  Data Scientist IV   \n",
       "\n",
       "                                             Location  \\\n",
       "1   Hyderabad/Secunderabad, Chennai, Bangalore/Ben...   \n",
       "2                                 Bangalore/Bengaluru   \n",
       "3                                 Bangalore/Bengaluru   \n",
       "4       Mumbai, Gurgaon/Gurugram, Bangalore/Bengaluru   \n",
       "5              Chennai, Bangalore/Bengaluru, Vadodara   \n",
       "6                                 Bangalore/Bengaluru   \n",
       "7                                 Bangalore/Bengaluru   \n",
       "8                                 Bangalore/Bengaluru   \n",
       "9                                 Bangalore/Bengaluru   \n",
       "10                                Bangalore/Bengaluru   \n",
       "\n",
       "                                              Company  \\\n",
       "1                  Inflexion Analytix Private Limited   \n",
       "2                      24/7 Customer3.6(1199 Reviews)   \n",
       "3                      Squareroot Consulting Pvt Ltd.   \n",
       "4                    Fractal Analytics3.9(97 Reviews)   \n",
       "5                             Nielsen3.8(485 Reviews)   \n",
       "6                        Wrackle Technologies Pvt Ltd   \n",
       "7           Baker Hughes Incorporated4.0(238 Reviews)   \n",
       "8               Eli Lilly and Company4.2(116 Reviews)   \n",
       "9   ANI Technologies Pvt Ltd (Olacabs)4.0(1213 Rev...   \n",
       "10                          Conduent3.5(1036 Reviews)   \n",
       "\n",
       "                                             Job_Desc  \n",
       "1   Job descriptionJob descriptionJob Role: Data S...  \n",
       "2   Job descriptionBrief about the RoleThe Platfor...  \n",
       "3   Job descriptionRoles and ResponsibilitiesHirin...  \n",
       "4   Job descriptionThe Artificial Intelligence and...  \n",
       "5   Job descriptionABOUT THIS JOBNielsenIQ Advance...  \n",
       "6   Job descriptionRoles and ResponsibilitiesRequi...  \n",
       "7   Job descriptionAs a Data Scientist, you would ...  \n",
       "8   Job descriptionCore ResponsibilitiesModel data...  \n",
       "9   Job descriptionThe Data Science Machine Learni...  \n",
       "10  Job descriptionWe are looking for an Azure Dat...  "
      ]
     },
     "execution_count": 159,
     "metadata": {},
     "output_type": "execute_result"
    }
   ],
   "source": [
    "data = list(zip(Title,Location,Company,Job_Desc))\n",
    "\n",
    "Data_Science_Banglore = pd.DataFrame(data = data, columns = ['Title','Location','Company','Job_Desc'], index = np.arange(1,11,1))\n",
    "\n",
    "Data_Science_Banglore"
   ]
  },
  {
   "cell_type": "code",
   "execution_count": 160,
   "metadata": {},
   "outputs": [],
   "source": [
    "driver.close()"
   ]
  },
  {
   "cell_type": "markdown",
   "metadata": {},
   "source": [
    "### Q3: In this question you have to scrape data using the filters available on the webpage as shown below:"
   ]
  },
  {
   "cell_type": "code",
   "execution_count": 24,
   "metadata": {},
   "outputs": [],
   "source": [
    "# 1. first get the webpage https://www.naukri.com/"
   ]
  },
  {
   "cell_type": "code",
   "execution_count": 25,
   "metadata": {},
   "outputs": [],
   "source": [
    "driver.get('https://www.naukri.com/')"
   ]
  },
  {
   "cell_type": "code",
   "execution_count": 26,
   "metadata": {},
   "outputs": [],
   "source": [
    " # 2. Enter “Data Scientist” in “Skill,Designations,Companies” field ."
   ]
  },
  {
   "cell_type": "code",
   "execution_count": 27,
   "metadata": {},
   "outputs": [],
   "source": [
    "Job = driver.find_element_by_id('qsb-keyword-sugg')\n",
    "Job.send_keys('Data Scientist')"
   ]
  },
  {
   "cell_type": "code",
   "execution_count": 10,
   "metadata": {},
   "outputs": [],
   "source": [
    "# 3. Then click the search button."
   ]
  },
  {
   "cell_type": "code",
   "execution_count": 28,
   "metadata": {},
   "outputs": [],
   "source": [
    "Search =  driver.find_element_by_xpath(\"//button[@class='btn']\")\n",
    "Search.click()"
   ]
  },
  {
   "cell_type": "code",
   "execution_count": 12,
   "metadata": {},
   "outputs": [],
   "source": [
    " # 4. Then apply the location filter and salary filter by checking the respective boxes"
   ]
  },
  {
   "cell_type": "code",
   "execution_count": 29,
   "metadata": {},
   "outputs": [],
   "source": [
    "location = driver.find_element_by_xpath('/html/body/div[1]/div[3]/div[2]/section[1]/div[2]/div[2]/div[2]/div[2]/label/p/span[1]')\n",
    "location.click()"
   ]
  },
  {
   "cell_type": "code",
   "execution_count": 30,
   "metadata": {},
   "outputs": [],
   "source": [
    "# The salary filter to be used is “3-6” lakhs"
   ]
  },
  {
   "cell_type": "code",
   "execution_count": 31,
   "metadata": {},
   "outputs": [],
   "source": [
    "salary = driver.find_element_by_xpath('/html/body/div[1]/div[3]/div[2]/section[1]/div[2]/div[3]/div[2]/div[2]/label/p/span[1]')\n",
    "salary.click()"
   ]
  },
  {
   "cell_type": "code",
   "execution_count": 33,
   "metadata": {},
   "outputs": [],
   "source": [
    "## 5. Then scrape the data for the first 10 jobs results you get.\n",
    "##You have to scrape the job-title, job-location, company_name, experience_required."
   ]
  },
  {
   "cell_type": "code",
   "execution_count": 34,
   "metadata": {},
   "outputs": [
    {
     "data": {
      "text/plain": [
       "['Only Fresher / Data Scientist / Data Analyst / Analytics - MNC OSC',\n",
       " 'Data Scientist / Data Analyst -Business Analyst',\n",
       " 'Data Scientist - Text NLP | Noida',\n",
       " 'Data analytics / Data scientist intern (work from Home)',\n",
       " 'Data Scientist - Machine Learning/NLP',\n",
       " 'Data Scientist',\n",
       " 'Data Scientist - Machine Learning/NLP',\n",
       " 'Chaayos is Looking For Data Scientist',\n",
       " 'Data Scientist',\n",
       " 'Data Engineers /Data Scientist - CES IT LTD - CMMI LVL 5']"
      ]
     },
     "execution_count": 34,
     "metadata": {},
     "output_type": "execute_result"
    }
   ],
   "source": [
    "title = driver.find_elements_by_xpath(\"//a[@class='title fw500 ellipsis']\")[:10]\n",
    "\n",
    "Titles = []\n",
    "\n",
    "for i in title:\n",
    "    Titles.append(i.text)\n",
    "Titles"
   ]
  },
  {
   "cell_type": "code",
   "execution_count": 35,
   "metadata": {},
   "outputs": [],
   "source": [
    "#Location"
   ]
  },
  {
   "cell_type": "code",
   "execution_count": 36,
   "metadata": {},
   "outputs": [
    {
     "data": {
      "text/plain": [
       "['Noida, Gurgaon/Gurugram, Delhi / NCR',\n",
       " 'Mumbai, Hyderabad/Secunderabad, Pune, Gurgaon/Gurugram, Chennai, Bangalore/Bengaluru',\n",
       " 'Noida',\n",
       " 'Kolkata, Bangalore/Bengaluru, Delhi / NCR',\n",
       " 'Gurgaon/Gurugram',\n",
       " 'Noida',\n",
       " 'Gurgaon/Gurugram',\n",
       " 'New Delhi',\n",
       " 'Mumbai, Gurgaon/Gurugram, Bangalore/Bengaluru',\n",
       " 'Kolkata, Hyderabad/Secunderabad, Pune, Ahmedabad, Chennai, Bangalore/Bengaluru, Delhi / NCR, Mumbai (All Areas)']"
      ]
     },
     "execution_count": 36,
     "metadata": {},
     "output_type": "execute_result"
    }
   ],
   "source": [
    "loc = driver.find_elements_by_xpath(\"//li[@class='fleft grey-text br2 placeHolderLi location']//span\")[:10]\n",
    "\n",
    "Location = []\n",
    "\n",
    "for i in loc:\n",
    "    Location.append(i.text)\n",
    "Location"
   ]
  },
  {
   "cell_type": "code",
   "execution_count": 37,
   "metadata": {},
   "outputs": [],
   "source": [
    "#Company"
   ]
  },
  {
   "cell_type": "code",
   "execution_count": 38,
   "metadata": {},
   "outputs": [
    {
     "data": {
      "text/plain": [
       "['GABA Consultancy services',\n",
       " 'Inflexion Analytix Private Limited',\n",
       " 'Acidaes Solutions Pvt. Ltd.',\n",
       " 'TalkValley LLC',\n",
       " 'TalPro',\n",
       " 'NEC CORPORATION INDIA PRIVATE LIMITED',\n",
       " 'TalPro',\n",
       " 'Chaayos (Sunshine Teahouse Pvt. Ltd.)',\n",
       " 'Fractal Analytics',\n",
       " 'CES Ltd.']"
      ]
     },
     "execution_count": 38,
     "metadata": {},
     "output_type": "execute_result"
    }
   ],
   "source": [
    "comp = driver.find_elements_by_xpath(\"//a[@class='subTitle ellipsis fleft']\")[:10]\n",
    "\n",
    "Company = []\n",
    "\n",
    "for i in comp:\n",
    "    Company.append(i.text)\n",
    "Company"
   ]
  },
  {
   "cell_type": "code",
   "execution_count": 39,
   "metadata": {},
   "outputs": [],
   "source": [
    "#Experience required"
   ]
  },
  {
   "cell_type": "code",
   "execution_count": 40,
   "metadata": {},
   "outputs": [
    {
     "data": {
      "text/plain": [
       "['0-0 Yrs',\n",
       " '0-3 Yrs',\n",
       " '3-5 Yrs',\n",
       " '0-5 Yrs',\n",
       " '2-6 Yrs',\n",
       " '3-8 Yrs',\n",
       " '2-4 Yrs',\n",
       " '0-5 Yrs',\n",
       " '3-7 Yrs',\n",
       " '3-5 Yrs']"
      ]
     },
     "execution_count": 40,
     "metadata": {},
     "output_type": "execute_result"
    }
   ],
   "source": [
    "exp = driver.find_elements_by_xpath(\"//li[@class='fleft grey-text br2 placeHolderLi experience']//span\")[:10]\n",
    "\n",
    "Exp = []\n",
    "\n",
    "for i in exp:\n",
    "    Exp.append(i.text)\n",
    "Exp"
   ]
  },
  {
   "cell_type": "code",
   "execution_count": 41,
   "metadata": {},
   "outputs": [],
   "source": [
    "data = list(zip(Titles,Location,Company,Exp))"
   ]
  },
  {
   "cell_type": "code",
   "execution_count": 42,
   "metadata": {},
   "outputs": [],
   "source": [
    "Data_Science_NCR = pd.DataFrame(data=data, columns = ['Titles','Location','Company','Experience'], index = np.arange(1,11,1))"
   ]
  },
  {
   "cell_type": "code",
   "execution_count": 43,
   "metadata": {},
   "outputs": [
    {
     "data": {
      "text/html": [
       "<div>\n",
       "<style scoped>\n",
       "    .dataframe tbody tr th:only-of-type {\n",
       "        vertical-align: middle;\n",
       "    }\n",
       "\n",
       "    .dataframe tbody tr th {\n",
       "        vertical-align: top;\n",
       "    }\n",
       "\n",
       "    .dataframe thead th {\n",
       "        text-align: right;\n",
       "    }\n",
       "</style>\n",
       "<table border=\"1\" class=\"dataframe\">\n",
       "  <thead>\n",
       "    <tr style=\"text-align: right;\">\n",
       "      <th></th>\n",
       "      <th>Titles</th>\n",
       "      <th>Location</th>\n",
       "      <th>Company</th>\n",
       "      <th>Experience</th>\n",
       "    </tr>\n",
       "  </thead>\n",
       "  <tbody>\n",
       "    <tr>\n",
       "      <th>1</th>\n",
       "      <td>Only Fresher / Data Scientist / Data Analyst /...</td>\n",
       "      <td>Noida, Gurgaon/Gurugram, Delhi / NCR</td>\n",
       "      <td>GABA Consultancy services</td>\n",
       "      <td>0-0 Yrs</td>\n",
       "    </tr>\n",
       "    <tr>\n",
       "      <th>2</th>\n",
       "      <td>Data Scientist / Data Analyst -Business Analyst</td>\n",
       "      <td>Mumbai, Hyderabad/Secunderabad, Pune, Gurgaon/...</td>\n",
       "      <td>Inflexion Analytix Private Limited</td>\n",
       "      <td>0-3 Yrs</td>\n",
       "    </tr>\n",
       "    <tr>\n",
       "      <th>3</th>\n",
       "      <td>Data Scientist - Text NLP | Noida</td>\n",
       "      <td>Noida</td>\n",
       "      <td>Acidaes Solutions Pvt. Ltd.</td>\n",
       "      <td>3-5 Yrs</td>\n",
       "    </tr>\n",
       "    <tr>\n",
       "      <th>4</th>\n",
       "      <td>Data analytics / Data scientist intern (work f...</td>\n",
       "      <td>Kolkata, Bangalore/Bengaluru, Delhi / NCR</td>\n",
       "      <td>TalkValley LLC</td>\n",
       "      <td>0-5 Yrs</td>\n",
       "    </tr>\n",
       "    <tr>\n",
       "      <th>5</th>\n",
       "      <td>Data Scientist - Machine Learning/NLP</td>\n",
       "      <td>Gurgaon/Gurugram</td>\n",
       "      <td>TalPro</td>\n",
       "      <td>2-6 Yrs</td>\n",
       "    </tr>\n",
       "    <tr>\n",
       "      <th>6</th>\n",
       "      <td>Data Scientist</td>\n",
       "      <td>Noida</td>\n",
       "      <td>NEC CORPORATION INDIA PRIVATE LIMITED</td>\n",
       "      <td>3-8 Yrs</td>\n",
       "    </tr>\n",
       "    <tr>\n",
       "      <th>7</th>\n",
       "      <td>Data Scientist - Machine Learning/NLP</td>\n",
       "      <td>Gurgaon/Gurugram</td>\n",
       "      <td>TalPro</td>\n",
       "      <td>2-4 Yrs</td>\n",
       "    </tr>\n",
       "    <tr>\n",
       "      <th>8</th>\n",
       "      <td>Chaayos is Looking For Data Scientist</td>\n",
       "      <td>New Delhi</td>\n",
       "      <td>Chaayos (Sunshine Teahouse Pvt. Ltd.)</td>\n",
       "      <td>0-5 Yrs</td>\n",
       "    </tr>\n",
       "    <tr>\n",
       "      <th>9</th>\n",
       "      <td>Data Scientist</td>\n",
       "      <td>Mumbai, Gurgaon/Gurugram, Bangalore/Bengaluru</td>\n",
       "      <td>Fractal Analytics</td>\n",
       "      <td>3-7 Yrs</td>\n",
       "    </tr>\n",
       "    <tr>\n",
       "      <th>10</th>\n",
       "      <td>Data Engineers /Data Scientist - CES IT LTD - ...</td>\n",
       "      <td>Kolkata, Hyderabad/Secunderabad, Pune, Ahmedab...</td>\n",
       "      <td>CES Ltd.</td>\n",
       "      <td>3-5 Yrs</td>\n",
       "    </tr>\n",
       "  </tbody>\n",
       "</table>\n",
       "</div>"
      ],
      "text/plain": [
       "                                               Titles  \\\n",
       "1   Only Fresher / Data Scientist / Data Analyst /...   \n",
       "2     Data Scientist / Data Analyst -Business Analyst   \n",
       "3                   Data Scientist - Text NLP | Noida   \n",
       "4   Data analytics / Data scientist intern (work f...   \n",
       "5               Data Scientist - Machine Learning/NLP   \n",
       "6                                      Data Scientist   \n",
       "7               Data Scientist - Machine Learning/NLP   \n",
       "8               Chaayos is Looking For Data Scientist   \n",
       "9                                      Data Scientist   \n",
       "10  Data Engineers /Data Scientist - CES IT LTD - ...   \n",
       "\n",
       "                                             Location  \\\n",
       "1                Noida, Gurgaon/Gurugram, Delhi / NCR   \n",
       "2   Mumbai, Hyderabad/Secunderabad, Pune, Gurgaon/...   \n",
       "3                                               Noida   \n",
       "4           Kolkata, Bangalore/Bengaluru, Delhi / NCR   \n",
       "5                                    Gurgaon/Gurugram   \n",
       "6                                               Noida   \n",
       "7                                    Gurgaon/Gurugram   \n",
       "8                                           New Delhi   \n",
       "9       Mumbai, Gurgaon/Gurugram, Bangalore/Bengaluru   \n",
       "10  Kolkata, Hyderabad/Secunderabad, Pune, Ahmedab...   \n",
       "\n",
       "                                  Company Experience  \n",
       "1               GABA Consultancy services    0-0 Yrs  \n",
       "2      Inflexion Analytix Private Limited    0-3 Yrs  \n",
       "3             Acidaes Solutions Pvt. Ltd.    3-5 Yrs  \n",
       "4                          TalkValley LLC    0-5 Yrs  \n",
       "5                                  TalPro    2-6 Yrs  \n",
       "6   NEC CORPORATION INDIA PRIVATE LIMITED    3-8 Yrs  \n",
       "7                                  TalPro    2-4 Yrs  \n",
       "8   Chaayos (Sunshine Teahouse Pvt. Ltd.)    0-5 Yrs  \n",
       "9                       Fractal Analytics    3-7 Yrs  \n",
       "10                               CES Ltd.    3-5 Yrs  "
      ]
     },
     "execution_count": 43,
     "metadata": {},
     "output_type": "execute_result"
    }
   ],
   "source": [
    "Data_Science_NCR"
   ]
  },
  {
   "cell_type": "markdown",
   "metadata": {},
   "source": [
    "### Q4: Write a python program to scrape data for first 10 job results for Data scientist Designation in Noida location. You have to scrape company_name, No. of days ago when job was posted, Rating of the company."
   ]
  },
  {
   "cell_type": "code",
   "execution_count": 44,
   "metadata": {},
   "outputs": [],
   "source": [
    "# 1. first get the webpage https://www.glassdoor.co.in/index.htm"
   ]
  },
  {
   "cell_type": "code",
   "execution_count": 45,
   "metadata": {},
   "outputs": [],
   "source": [
    "driver.get('https://www.glassdoor.co.in/index.htm')"
   ]
  },
  {
   "cell_type": "code",
   "execution_count": 46,
   "metadata": {},
   "outputs": [],
   "source": [
    "#Login"
   ]
  },
  {
   "cell_type": "code",
   "execution_count": 47,
   "metadata": {},
   "outputs": [],
   "source": [
    "google = driver.find_element_by_xpath('/html/body/div[2]/div/div/div/div/div[1]/article/section[1]/div[2]/div/div/div/div/div/div/div[1]/div/div[2]/button/span[2]')\n",
    "google.click()"
   ]
  },
  {
   "cell_type": "code",
   "execution_count": 52,
   "metadata": {},
   "outputs": [],
   "source": [
    "email = driver.find_elements_by_xpath(\"//input[@id = 'whsOnd zHQkBf']\")"
   ]
  },
  {
   "cell_type": "code",
   "execution_count": 64,
   "metadata": {},
   "outputs": [],
   "source": [
    "## 2. Enter “Data Scientist” in “Job Title,Keyword,Company” field and enter “Noida” in “location” field."
   ]
  },
  {
   "cell_type": "code",
   "execution_count": 61,
   "metadata": {},
   "outputs": [],
   "source": [
    "search = driver.find_element_by_xpath(\"//div[@class='d-flex d-lg-none pr-std']\")"
   ]
  },
  {
   "cell_type": "code",
   "execution_count": 63,
   "metadata": {},
   "outputs": [],
   "source": [
    "search.click()"
   ]
  },
  {
   "cell_type": "code",
   "execution_count": 65,
   "metadata": {},
   "outputs": [],
   "source": [
    "job = driver.find_element_by_id('scKeyword')"
   ]
  },
  {
   "cell_type": "code",
   "execution_count": 66,
   "metadata": {},
   "outputs": [],
   "source": [
    "job.send_keys('Data Scientist')"
   ]
  },
  {
   "cell_type": "code",
   "execution_count": 67,
   "metadata": {},
   "outputs": [],
   "source": [
    "loc= driver.find_element_by_id('scLocation')"
   ]
  },
  {
   "cell_type": "code",
   "execution_count": 68,
   "metadata": {},
   "outputs": [],
   "source": [
    "loc.send_keys('Noida')"
   ]
  },
  {
   "cell_type": "code",
   "execution_count": 71,
   "metadata": {},
   "outputs": [],
   "source": [
    "#3. Then click the search button. You will land up in the below page:"
   ]
  },
  {
   "cell_type": "code",
   "execution_count": 69,
   "metadata": {},
   "outputs": [],
   "source": [
    "find = driver.find_element_by_id('prefix__icon-arrow-1')\n",
    "find.click()"
   ]
  },
  {
   "cell_type": "code",
   "execution_count": 70,
   "metadata": {},
   "outputs": [],
   "source": [
    "#4. You have to scrape company_name, No. of days ago when job was posted, Rating of the company."
   ]
  },
  {
   "cell_type": "code",
   "execution_count": 72,
   "metadata": {},
   "outputs": [],
   "source": [
    "#Company Name"
   ]
  },
  {
   "cell_type": "code",
   "execution_count": 73,
   "metadata": {},
   "outputs": [
    {
     "data": {
      "text/plain": [
       "['decision analytics consultant',\n",
       " 'Data Engineer - Python with Azure ADF',\n",
       " 'Data Scientist',\n",
       " 'Data Scientist',\n",
       " 'Data Scientist',\n",
       " 'Assistant Manager - Data Scientist',\n",
       " 'Data Scientist - Computer Vision',\n",
       " 'Data Scientist',\n",
       " 'Data Scientists',\n",
       " 'Data Scientist']"
      ]
     },
     "execution_count": 73,
     "metadata": {},
     "output_type": "execute_result"
    }
   ],
   "source": [
    "comp = driver.find_elements_by_xpath(\"//a[@class='jobLink css-1rd3saf eigr9kq2']\")[:10]\n",
    "\n",
    "Company = []\n",
    "\n",
    "for i in comp:\n",
    "    Company.append(i.text)\n",
    "Company"
   ]
  },
  {
   "cell_type": "code",
   "execution_count": 74,
   "metadata": {},
   "outputs": [],
   "source": [
    "#No. of days ago when job was posted"
   ]
  },
  {
   "cell_type": "code",
   "execution_count": 76,
   "metadata": {},
   "outputs": [
    {
     "data": {
      "text/plain": [
       "['4d', '27d', '9d', '4d', '5d', '18d', '24d', '2d', '12d', '13d']"
      ]
     },
     "execution_count": 76,
     "metadata": {},
     "output_type": "execute_result"
    }
   ],
   "source": [
    "days = driver.find_elements_by_xpath(\"//div[@class='d-flex align-items-end pl-std css-mi55ob']\")[:10]\n",
    "\n",
    "Days = []\n",
    "\n",
    "for i in days:\n",
    "    Days.append(i.text)\n",
    "Days"
   ]
  },
  {
   "cell_type": "code",
   "execution_count": 77,
   "metadata": {},
   "outputs": [],
   "source": [
    "# Rating of the company"
   ]
  },
  {
   "cell_type": "code",
   "execution_count": 78,
   "metadata": {},
   "outputs": [
    {
     "data": {
      "text/plain": [
       "['3.9', '4.0', '4.1', '4.1', '3.9', '3.8', '3.8', '3.8', '3.0', '5.0']"
      ]
     },
     "execution_count": 78,
     "metadata": {},
     "output_type": "execute_result"
    }
   ],
   "source": [
    "ratings = driver.find_elements_by_xpath(\"//span[@class='css-19pjha7 e1cjmv6j1']\")[:10]\n",
    "\n",
    "Ratings = []\n",
    "\n",
    "for i in ratings:\n",
    "    Ratings.append(i.text)\n",
    "Ratings"
   ]
  },
  {
   "cell_type": "code",
   "execution_count": 79,
   "metadata": {},
   "outputs": [],
   "source": [
    "# 5. Finally create a dataframe of the scraped data."
   ]
  },
  {
   "cell_type": "code",
   "execution_count": 80,
   "metadata": {},
   "outputs": [],
   "source": [
    "data = list(zip(Company,Days,Ratings))"
   ]
  },
  {
   "cell_type": "code",
   "execution_count": 82,
   "metadata": {},
   "outputs": [
    {
     "data": {
      "text/html": [
       "<div>\n",
       "<style scoped>\n",
       "    .dataframe tbody tr th:only-of-type {\n",
       "        vertical-align: middle;\n",
       "    }\n",
       "\n",
       "    .dataframe tbody tr th {\n",
       "        vertical-align: top;\n",
       "    }\n",
       "\n",
       "    .dataframe thead th {\n",
       "        text-align: right;\n",
       "    }\n",
       "</style>\n",
       "<table border=\"1\" class=\"dataframe\">\n",
       "  <thead>\n",
       "    <tr style=\"text-align: right;\">\n",
       "      <th></th>\n",
       "      <th>Company</th>\n",
       "      <th>No. of Days Ago</th>\n",
       "      <th>Ratings</th>\n",
       "    </tr>\n",
       "  </thead>\n",
       "  <tbody>\n",
       "    <tr>\n",
       "      <th>1</th>\n",
       "      <td>decision analytics consultant</td>\n",
       "      <td>4d</td>\n",
       "      <td>3.9</td>\n",
       "    </tr>\n",
       "    <tr>\n",
       "      <th>2</th>\n",
       "      <td>Data Engineer - Python with Azure ADF</td>\n",
       "      <td>27d</td>\n",
       "      <td>4.0</td>\n",
       "    </tr>\n",
       "    <tr>\n",
       "      <th>3</th>\n",
       "      <td>Data Scientist</td>\n",
       "      <td>9d</td>\n",
       "      <td>4.1</td>\n",
       "    </tr>\n",
       "    <tr>\n",
       "      <th>4</th>\n",
       "      <td>Data Scientist</td>\n",
       "      <td>4d</td>\n",
       "      <td>4.1</td>\n",
       "    </tr>\n",
       "    <tr>\n",
       "      <th>5</th>\n",
       "      <td>Data Scientist</td>\n",
       "      <td>5d</td>\n",
       "      <td>3.9</td>\n",
       "    </tr>\n",
       "    <tr>\n",
       "      <th>6</th>\n",
       "      <td>Assistant Manager - Data Scientist</td>\n",
       "      <td>18d</td>\n",
       "      <td>3.8</td>\n",
       "    </tr>\n",
       "    <tr>\n",
       "      <th>7</th>\n",
       "      <td>Data Scientist - Computer Vision</td>\n",
       "      <td>24d</td>\n",
       "      <td>3.8</td>\n",
       "    </tr>\n",
       "    <tr>\n",
       "      <th>8</th>\n",
       "      <td>Data Scientist</td>\n",
       "      <td>2d</td>\n",
       "      <td>3.8</td>\n",
       "    </tr>\n",
       "    <tr>\n",
       "      <th>9</th>\n",
       "      <td>Data Scientists</td>\n",
       "      <td>12d</td>\n",
       "      <td>3.0</td>\n",
       "    </tr>\n",
       "    <tr>\n",
       "      <th>10</th>\n",
       "      <td>Data Scientist</td>\n",
       "      <td>13d</td>\n",
       "      <td>5.0</td>\n",
       "    </tr>\n",
       "  </tbody>\n",
       "</table>\n",
       "</div>"
      ],
      "text/plain": [
       "                                  Company No. of Days Ago Ratings\n",
       "1           decision analytics consultant              4d     3.9\n",
       "2   Data Engineer - Python with Azure ADF             27d     4.0\n",
       "3                          Data Scientist              9d     4.1\n",
       "4                          Data Scientist              4d     4.1\n",
       "5                          Data Scientist              5d     3.9\n",
       "6      Assistant Manager - Data Scientist             18d     3.8\n",
       "7        Data Scientist - Computer Vision             24d     3.8\n",
       "8                          Data Scientist              2d     3.8\n",
       "9                         Data Scientists             12d     3.0\n",
       "10                         Data Scientist             13d     5.0"
      ]
     },
     "execution_count": 82,
     "metadata": {},
     "output_type": "execute_result"
    }
   ],
   "source": [
    "Glassdoor_Jobs = pd.DataFrame(data= data, columns = ['Company','No. of Days Ago','Ratings'], index = np.arange(1,11,1))\n",
    "Glassdoor_Jobs"
   ]
  },
  {
   "cell_type": "markdown",
   "metadata": {},
   "source": [
    "### Q5: Write a python program to scrape the salary data for Data Scientist designation in Noida location."
   ]
  },
  {
   "cell_type": "code",
   "execution_count": 83,
   "metadata": {},
   "outputs": [],
   "source": [
    "## You have to scrape Company name, Number of salaries, Average salary, Min salary, Max Salary."
   ]
  },
  {
   "cell_type": "code",
   "execution_count": 84,
   "metadata": {},
   "outputs": [],
   "source": [
    "#1. first get the webpage https://www.glassdoor.co.in/Salaries/index.htm"
   ]
  },
  {
   "cell_type": "code",
   "execution_count": 92,
   "metadata": {},
   "outputs": [],
   "source": [
    "driver.get('https://www.glassdoor.co.in/Salaries/index.htm')"
   ]
  },
  {
   "cell_type": "code",
   "execution_count": 86,
   "metadata": {},
   "outputs": [],
   "source": [
    "# 2. Enter “Data Scientist” in Job title field and “Noida” in location field."
   ]
  },
  {
   "cell_type": "code",
   "execution_count": 93,
   "metadata": {},
   "outputs": [],
   "source": [
    "job = driver.find_element_by_id('KeywordSearch')\n",
    "loc = driver.find_element_by_id('LocationSearch')\n",
    "job.send_keys('Data Scientist')\n",
    "loc.send_keys('Noida')"
   ]
  },
  {
   "cell_type": "code",
   "execution_count": 94,
   "metadata": {},
   "outputs": [],
   "source": [
    "# 3. Click the search button."
   ]
  },
  {
   "cell_type": "code",
   "execution_count": 96,
   "metadata": {},
   "outputs": [],
   "source": [
    "search = driver.find_element_by_id('HeroSearchButton')\n",
    "search.click()"
   ]
  },
  {
   "cell_type": "code",
   "execution_count": 91,
   "metadata": {},
   "outputs": [],
   "source": [
    "# 5. Scrape data for first 10 companies. Scrape the min salary, max salary, company name, Average salary and rating of the company"
   ]
  },
  {
   "cell_type": "code",
   "execution_count": 98,
   "metadata": {},
   "outputs": [],
   "source": [
    "minsal = driver.find_elements_by_xpath(\"//span[@class='d-block d-lg-none m-0 css-1b6bxoo']\")[:10]"
   ]
  },
  {
   "cell_type": "code",
   "execution_count": 99,
   "metadata": {},
   "outputs": [
    {
     "data": {
      "text/plain": [
       "[<selenium.webdriver.remote.webelement.WebElement (session=\"a135af24081c846333339ada2b6345a7\", element=\"f1511a00-fd01-4758-9f4d-4d3e82c13cbf\")>,\n",
       " <selenium.webdriver.remote.webelement.WebElement (session=\"a135af24081c846333339ada2b6345a7\", element=\"1fb955e4-f079-4f61-9601-44262ec319cb\")>,\n",
       " <selenium.webdriver.remote.webelement.WebElement (session=\"a135af24081c846333339ada2b6345a7\", element=\"78b6ca88-a369-46ab-965c-869418daf1da\")>,\n",
       " <selenium.webdriver.remote.webelement.WebElement (session=\"a135af24081c846333339ada2b6345a7\", element=\"5eb15c57-1a39-44e4-a49e-6d3b40165e37\")>,\n",
       " <selenium.webdriver.remote.webelement.WebElement (session=\"a135af24081c846333339ada2b6345a7\", element=\"9d1b1370-c6ca-4895-a386-e643f85a423e\")>,\n",
       " <selenium.webdriver.remote.webelement.WebElement (session=\"a135af24081c846333339ada2b6345a7\", element=\"8c1cb01a-c06e-4a6e-9b6b-b6bf356f1bb2\")>,\n",
       " <selenium.webdriver.remote.webelement.WebElement (session=\"a135af24081c846333339ada2b6345a7\", element=\"fd0aca1e-a698-46c1-96a1-be7d769917a5\")>,\n",
       " <selenium.webdriver.remote.webelement.WebElement (session=\"a135af24081c846333339ada2b6345a7\", element=\"74b8e27c-47a5-4300-b2b8-8a2880cb6349\")>,\n",
       " <selenium.webdriver.remote.webelement.WebElement (session=\"a135af24081c846333339ada2b6345a7\", element=\"fae2a099-0e39-44c9-90de-6cb67d167641\")>,\n",
       " <selenium.webdriver.remote.webelement.WebElement (session=\"a135af24081c846333339ada2b6345a7\", element=\"0adbb469-9e41-461b-82f2-034087f503d7\")>]"
      ]
     },
     "execution_count": 99,
     "metadata": {},
     "output_type": "execute_result"
    }
   ],
   "source": [
    "minsal"
   ]
  },
  {
   "cell_type": "code",
   "execution_count": 107,
   "metadata": {},
   "outputs": [
    {
     "data": {
      "text/plain": [
       "['₹6L', '₹3L', '₹6L', '₹5L', '₹4L', '₹11', '₹5L', '₹4L', '₹2L', '₹6L']"
      ]
     },
     "execution_count": 107,
     "metadata": {},
     "output_type": "execute_result"
    }
   ],
   "source": [
    "Min = []\n",
    "\n",
    "for i in minsal:\n",
    "    Min.append(i.text[7:10])\n",
    "Min"
   ]
  },
  {
   "cell_type": "code",
   "execution_count": 113,
   "metadata": {},
   "outputs": [
    {
     "data": {
      "text/plain": [
       "['₹27L',\n",
       " '₹13L',\n",
       " '₹22L',\n",
       " '₹1Cr',\n",
       " '₹16L',\n",
       " '₹15L',\n",
       " '₹15L',\n",
       " '₹22L',\n",
       " '₹18L',\n",
       " '₹15L']"
      ]
     },
     "execution_count": 113,
     "metadata": {},
     "output_type": "execute_result"
    }
   ],
   "source": [
    "Max = []\n",
    "\n",
    "for i in minsal:\n",
    "    Max.append(i.text[12:].replace('-','').strip())\n",
    "Max"
   ]
  },
  {
   "cell_type": "code",
   "execution_count": 114,
   "metadata": {},
   "outputs": [],
   "source": [
    "#Company Name"
   ]
  },
  {
   "cell_type": "code",
   "execution_count": 116,
   "metadata": {},
   "outputs": [
    {
     "data": {
      "text/plain": [
       "['IBM',\n",
       " 'Tata Consultancy Services',\n",
       " 'Accenture',\n",
       " 'Delhivery',\n",
       " 'Ericsson-Worldwide',\n",
       " 'UnitedHealth Group',\n",
       " 'Valiance Solutions',\n",
       " 'Optum Global Solutions',\n",
       " 'ZS Associates',\n",
       " 'EXL Service']"
      ]
     },
     "execution_count": 116,
     "metadata": {},
     "output_type": "execute_result"
    }
   ],
   "source": [
    "comp= driver.find_elements_by_xpath(\"//a[@class='css-f3vw95 e1aj7ssy3']\")[:10]\n",
    "\n",
    "Company = []\n",
    "\n",
    "for i in comp:\n",
    "    Company.append(i.text)\n",
    "Company"
   ]
  },
  {
   "cell_type": "code",
   "execution_count": 117,
   "metadata": {},
   "outputs": [],
   "source": [
    "# Average salary"
   ]
  },
  {
   "cell_type": "code",
   "execution_count": 131,
   "metadata": {},
   "outputs": [
    {
     "data": {
      "text/plain": [
       "['₹9,00,000 /yr',\n",
       " '₹6,15,289 /yr',\n",
       " '₹11,63,336 /yr',\n",
       " '₹12,18,244 /yr',\n",
       " '₹7,39,238 /yr',\n",
       " '₹13,38,279 /yr',\n",
       " '₹8,63,750 /yr',\n",
       " '₹13,28,697 /yr',\n",
       " '₹11,42,356 /yr',\n",
       " '₹11,46,073 /yr']"
      ]
     },
     "execution_count": 131,
     "metadata": {},
     "output_type": "execute_result"
    }
   ],
   "source": [
    "sal= driver.find_elements_by_xpath(\"//div[@class='col-12 col-lg-4 px-lg-0 d-flex align-items-baseline']\")[:10]\n",
    "\n",
    "Avesal = []\n",
    "\n",
    "for i in sal:\n",
    "    Avesal.append(i.text.replace('\\n','').strip())\n",
    "Avesal"
   ]
  },
  {
   "cell_type": "code",
   "execution_count": 132,
   "metadata": {},
   "outputs": [],
   "source": [
    "# Ratings"
   ]
  },
  {
   "cell_type": "code",
   "execution_count": 134,
   "metadata": {},
   "outputs": [
    {
     "data": {
      "text/plain": [
       "['3.9', '3.9', '4', '3.9', '4', '3.7', '4.2', '3.9', '4', '3.6']"
      ]
     },
     "execution_count": 134,
     "metadata": {},
     "output_type": "execute_result"
    }
   ],
   "source": [
    "ratings = driver.find_elements_by_xpath(\"//span[@class='m-0 css-kyx745']\")[:10]\n",
    "\n",
    "Ratings = []\n",
    "\n",
    "for i in ratings:\n",
    "    Ratings.append(i.text)\n",
    "Ratings"
   ]
  },
  {
   "cell_type": "code",
   "execution_count": 135,
   "metadata": {},
   "outputs": [],
   "source": [
    "data = list(zip(Min, Max, Company,Avesal,Ratings))"
   ]
  },
  {
   "cell_type": "code",
   "execution_count": 136,
   "metadata": {},
   "outputs": [],
   "source": [
    "DataScientist_Glassdor = pd.DataFrame(data = data, columns = ['Min_Salary','Max_Salary','Company_Name','Average_Salary','Ratings'], index = np.arange(1,11,1))"
   ]
  },
  {
   "cell_type": "code",
   "execution_count": 137,
   "metadata": {},
   "outputs": [
    {
     "data": {
      "text/html": [
       "<div>\n",
       "<style scoped>\n",
       "    .dataframe tbody tr th:only-of-type {\n",
       "        vertical-align: middle;\n",
       "    }\n",
       "\n",
       "    .dataframe tbody tr th {\n",
       "        vertical-align: top;\n",
       "    }\n",
       "\n",
       "    .dataframe thead th {\n",
       "        text-align: right;\n",
       "    }\n",
       "</style>\n",
       "<table border=\"1\" class=\"dataframe\">\n",
       "  <thead>\n",
       "    <tr style=\"text-align: right;\">\n",
       "      <th></th>\n",
       "      <th>Min_Salary</th>\n",
       "      <th>Max_Salary</th>\n",
       "      <th>Company_Name</th>\n",
       "      <th>Average_Salary</th>\n",
       "      <th>Ratings</th>\n",
       "    </tr>\n",
       "  </thead>\n",
       "  <tbody>\n",
       "    <tr>\n",
       "      <th>1</th>\n",
       "      <td>₹6L</td>\n",
       "      <td>₹27L</td>\n",
       "      <td>IBM</td>\n",
       "      <td>₹9,00,000 /yr</td>\n",
       "      <td>3.9</td>\n",
       "    </tr>\n",
       "    <tr>\n",
       "      <th>2</th>\n",
       "      <td>₹3L</td>\n",
       "      <td>₹13L</td>\n",
       "      <td>Tata Consultancy Services</td>\n",
       "      <td>₹6,15,289 /yr</td>\n",
       "      <td>3.9</td>\n",
       "    </tr>\n",
       "    <tr>\n",
       "      <th>3</th>\n",
       "      <td>₹6L</td>\n",
       "      <td>₹22L</td>\n",
       "      <td>Accenture</td>\n",
       "      <td>₹11,63,336 /yr</td>\n",
       "      <td>4</td>\n",
       "    </tr>\n",
       "    <tr>\n",
       "      <th>4</th>\n",
       "      <td>₹5L</td>\n",
       "      <td>₹1Cr</td>\n",
       "      <td>Delhivery</td>\n",
       "      <td>₹12,18,244 /yr</td>\n",
       "      <td>3.9</td>\n",
       "    </tr>\n",
       "    <tr>\n",
       "      <th>5</th>\n",
       "      <td>₹4L</td>\n",
       "      <td>₹16L</td>\n",
       "      <td>Ericsson-Worldwide</td>\n",
       "      <td>₹7,39,238 /yr</td>\n",
       "      <td>4</td>\n",
       "    </tr>\n",
       "    <tr>\n",
       "      <th>6</th>\n",
       "      <td>₹11</td>\n",
       "      <td>₹15L</td>\n",
       "      <td>UnitedHealth Group</td>\n",
       "      <td>₹13,38,279 /yr</td>\n",
       "      <td>3.7</td>\n",
       "    </tr>\n",
       "    <tr>\n",
       "      <th>7</th>\n",
       "      <td>₹5L</td>\n",
       "      <td>₹15L</td>\n",
       "      <td>Valiance Solutions</td>\n",
       "      <td>₹8,63,750 /yr</td>\n",
       "      <td>4.2</td>\n",
       "    </tr>\n",
       "    <tr>\n",
       "      <th>8</th>\n",
       "      <td>₹4L</td>\n",
       "      <td>₹22L</td>\n",
       "      <td>Optum Global Solutions</td>\n",
       "      <td>₹13,28,697 /yr</td>\n",
       "      <td>3.9</td>\n",
       "    </tr>\n",
       "    <tr>\n",
       "      <th>9</th>\n",
       "      <td>₹2L</td>\n",
       "      <td>₹18L</td>\n",
       "      <td>ZS Associates</td>\n",
       "      <td>₹11,42,356 /yr</td>\n",
       "      <td>4</td>\n",
       "    </tr>\n",
       "    <tr>\n",
       "      <th>10</th>\n",
       "      <td>₹6L</td>\n",
       "      <td>₹15L</td>\n",
       "      <td>EXL Service</td>\n",
       "      <td>₹11,46,073 /yr</td>\n",
       "      <td>3.6</td>\n",
       "    </tr>\n",
       "  </tbody>\n",
       "</table>\n",
       "</div>"
      ],
      "text/plain": [
       "   Min_Salary Max_Salary               Company_Name  Average_Salary Ratings\n",
       "1         ₹6L       ₹27L                        IBM   ₹9,00,000 /yr     3.9\n",
       "2         ₹3L       ₹13L  Tata Consultancy Services   ₹6,15,289 /yr     3.9\n",
       "3         ₹6L       ₹22L                  Accenture  ₹11,63,336 /yr       4\n",
       "4         ₹5L       ₹1Cr                  Delhivery  ₹12,18,244 /yr     3.9\n",
       "5         ₹4L       ₹16L         Ericsson-Worldwide   ₹7,39,238 /yr       4\n",
       "6         ₹11       ₹15L         UnitedHealth Group  ₹13,38,279 /yr     3.7\n",
       "7         ₹5L       ₹15L         Valiance Solutions   ₹8,63,750 /yr     4.2\n",
       "8         ₹4L       ₹22L     Optum Global Solutions  ₹13,28,697 /yr     3.9\n",
       "9         ₹2L       ₹18L              ZS Associates  ₹11,42,356 /yr       4\n",
       "10        ₹6L       ₹15L                EXL Service  ₹11,46,073 /yr     3.6"
      ]
     },
     "execution_count": 137,
     "metadata": {},
     "output_type": "execute_result"
    }
   ],
   "source": [
    "DataScientist_Glassdor"
   ]
  },
  {
   "cell_type": "markdown",
   "metadata": {},
   "source": [
    "### Q6 : Scrape data of first 100 sunglasses listings on flipkart.com. You have to scrape four attributes:\n",
    "1. Brand\n",
    "2. Product Description\n",
    "3. Price\n",
    "4. Discount"
   ]
  },
  {
   "cell_type": "code",
   "execution_count": 138,
   "metadata": {},
   "outputs": [],
   "source": [
    "# 1. Go to flipkart webpage by url https://www.flipkart.com/"
   ]
  },
  {
   "cell_type": "code",
   "execution_count": 2,
   "metadata": {},
   "outputs": [],
   "source": [
    "driver.get('https://www.flipkart.com/')"
   ]
  },
  {
   "cell_type": "code",
   "execution_count": 3,
   "metadata": {},
   "outputs": [],
   "source": [
    "# 2. Enter “sunglasses” in the search field where “search for products, brands and more” is written and click the search icon"
   ]
  },
  {
   "cell_type": "code",
   "execution_count": 3,
   "metadata": {},
   "outputs": [],
   "source": [
    "number = driver.find_element_by_xpath('/html/body/div[2]/div/div/div/div/div[2]/div/form/div[1]/input')"
   ]
  },
  {
   "cell_type": "code",
   "execution_count": 4,
   "metadata": {},
   "outputs": [],
   "source": [
    "number.send_keys('9641731644')"
   ]
  },
  {
   "cell_type": "code",
   "execution_count": 5,
   "metadata": {},
   "outputs": [],
   "source": [
    "otp = driver.find_element_by_xpath('/html/body/div[2]/div/div/div/div/div[2]/div/form/div[5]/button')\n",
    "otp.click()"
   ]
  },
  {
   "cell_type": "code",
   "execution_count": 6,
   "metadata": {},
   "outputs": [],
   "source": [
    "nuum= driver.find_element_by_xpath('/html/body/div[2]/div/div/div/div/div[2]/div/div/form/div/div[1]/input')"
   ]
  },
  {
   "cell_type": "code",
   "execution_count": 7,
   "metadata": {},
   "outputs": [],
   "source": [
    "nuum.send_keys('421366')"
   ]
  },
  {
   "cell_type": "code",
   "execution_count": 8,
   "metadata": {},
   "outputs": [],
   "source": [
    "Search = driver.find_element_by_xpath('/html/body/div[1]/div/div[1]/div[1]/div[2]/div[2]/form/div/div/input')\n",
    "Search.send_keys('sunglasses')"
   ]
  },
  {
   "cell_type": "code",
   "execution_count": 11,
   "metadata": {},
   "outputs": [],
   "source": [
    "button = driver.find_element_by_xpath(\"//button[@class='L0Z3Pu']\")\n",
    "button.click()"
   ]
  },
  {
   "cell_type": "code",
   "execution_count": 12,
   "metadata": {},
   "outputs": [
    {
     "data": {
      "text/plain": [
       "['https://www.flipkart.com/search?q=sunglasses&otracker=search&otracker1=search&marketplace=FLIPKART&as-show=on&as=off&page=1',\n",
       " 'https://www.flipkart.com/search?q=sunglasses&otracker=search&otracker1=search&marketplace=FLIPKART&as-show=on&as=off&page=2',\n",
       " 'https://www.flipkart.com/search?q=sunglasses&otracker=search&otracker1=search&marketplace=FLIPKART&as-show=on&as=off&page=3']"
      ]
     },
     "execution_count": 12,
     "metadata": {},
     "output_type": "execute_result"
    }
   ],
   "source": [
    "page = []\n",
    "url = driver.find_elements_by_xpath(\"//div[@class='_2MImiq']//a\")[:3]\n",
    "for i in url:\n",
    "    page.append(i.get_attribute(\"href\"))\n",
    "page"
   ]
  },
  {
   "cell_type": "code",
   "execution_count": 80,
   "metadata": {},
   "outputs": [],
   "source": [
    "#Brand"
   ]
  },
  {
   "cell_type": "code",
   "execution_count": 22,
   "metadata": {},
   "outputs": [],
   "source": [
    "Brands = []\n",
    "time.sleep(20)\n",
    "\n",
    "for page in range(1,4,1):\n",
    "    brand = driver.find_elements_by_xpath(\"//div[@class='_2WkVRV']\")\n",
    "    nxtbtn = driver.find_elements_by_xpath('/html/body/div/div/div[3]/div[1]/div[2]/div[12]/div/div/nav')[-1].click()\n",
    "    for i in brand:\n",
    "        Brands.append(i.text)"
   ]
  },
  {
   "cell_type": "code",
   "execution_count": 23,
   "metadata": {},
   "outputs": [],
   "source": [
    "Brands = Brands[1:101]"
   ]
  },
  {
   "cell_type": "code",
   "execution_count": 24,
   "metadata": {},
   "outputs": [
    {
     "data": {
      "text/plain": [
       "100"
      ]
     },
     "execution_count": 24,
     "metadata": {},
     "output_type": "execute_result"
    }
   ],
   "source": [
    "len(Brands)"
   ]
  },
  {
   "cell_type": "code",
   "execution_count": 25,
   "metadata": {},
   "outputs": [
    {
     "data": {
      "text/plain": [
       "['Ray-Ban',\n",
       " 'Fastrack',\n",
       " 'PIRASO',\n",
       " 'ROYAL SON',\n",
       " 'GANSTA',\n",
       " 'elegante',\n",
       " 'PIRASO',\n",
       " 'elegante',\n",
       " 'GANSTA',\n",
       " 'Silver Kartz',\n",
       " 'PIRASO',\n",
       " 'Fastrack',\n",
       " 'GANSTA',\n",
       " 'Ray-Ban',\n",
       " 'AISLIN',\n",
       " 'Ray-Ban',\n",
       " 'elegante',\n",
       " 'IRUS by IDEE',\n",
       " 'NuVew',\n",
       " 'ROYAL SON',\n",
       " 'Fastrack',\n",
       " 'ROZZETTA CRAFT',\n",
       " 'AISLIN',\n",
       " 'AISLIN',\n",
       " 'ROYAL SON',\n",
       " 'Fastrack',\n",
       " 'VINCENT CHASE',\n",
       " 'FOSSIL',\n",
       " 'ROYAL SON',\n",
       " 'AISLIN',\n",
       " 'AISLIN',\n",
       " 'Fastrack',\n",
       " 'Fastrack',\n",
       " 'GANSTA',\n",
       " 'NuVew',\n",
       " 'Ray-Ban',\n",
       " 'Ray-Ban',\n",
       " 'Fastrack',\n",
       " 'AISLIN',\n",
       " 'United Colors of Benetton',\n",
       " 'Ray-Ban',\n",
       " 'Fastrack',\n",
       " 'PIRASO',\n",
       " 'ROYAL SON',\n",
       " 'GANSTA',\n",
       " 'elegante',\n",
       " 'PIRASO',\n",
       " 'elegante',\n",
       " 'GANSTA',\n",
       " 'Silver Kartz',\n",
       " 'PIRASO',\n",
       " 'Fastrack',\n",
       " 'GANSTA',\n",
       " 'Ray-Ban',\n",
       " 'AISLIN',\n",
       " 'Ray-Ban',\n",
       " 'elegante',\n",
       " 'IRUS by IDEE',\n",
       " 'NuVew',\n",
       " 'ROYAL SON',\n",
       " 'Fastrack',\n",
       " 'ROZZETTA CRAFT',\n",
       " 'AISLIN',\n",
       " 'AISLIN',\n",
       " 'ROYAL SON',\n",
       " 'Fastrack',\n",
       " 'VINCENT CHASE',\n",
       " 'FOSSIL',\n",
       " 'ROYAL SON',\n",
       " 'AISLIN',\n",
       " 'AISLIN',\n",
       " 'Fastrack',\n",
       " 'Fastrack',\n",
       " 'GANSTA',\n",
       " 'NuVew',\n",
       " 'Ray-Ban',\n",
       " 'Ray-Ban',\n",
       " 'Fastrack',\n",
       " 'AISLIN',\n",
       " 'United Colors of Benetton',\n",
       " 'Ray-Ban',\n",
       " 'Fastrack',\n",
       " 'PIRASO',\n",
       " 'ROYAL SON',\n",
       " 'GANSTA',\n",
       " 'elegante',\n",
       " 'PIRASO',\n",
       " 'elegante',\n",
       " 'GANSTA',\n",
       " 'Silver Kartz',\n",
       " 'PIRASO',\n",
       " 'Fastrack',\n",
       " 'GANSTA',\n",
       " 'Ray-Ban',\n",
       " 'AISLIN',\n",
       " 'Ray-Ban',\n",
       " 'elegante',\n",
       " 'IRUS by IDEE',\n",
       " 'NuVew',\n",
       " 'ROYAL SON']"
      ]
     },
     "execution_count": 25,
     "metadata": {},
     "output_type": "execute_result"
    }
   ],
   "source": [
    "Brands"
   ]
  },
  {
   "cell_type": "code",
   "execution_count": 26,
   "metadata": {},
   "outputs": [],
   "source": [
    "#Product Description\n",
    "\n",
    "Product_Description = []\n",
    "\n",
    "for page in range(1,4):\n",
    "    desc = driver.find_elements_by_xpath(\"//a[@class='IRpwTa']\")\n",
    "    nxtbtn = driver.find_elements_by_xpath('/html/body/div/div/div[3]/div[1]/div[2]/div[12]/div/div/nav')[-1].click()\n",
    "    for i in desc:\n",
    "        Product_Description.append(i.text)"
   ]
  },
  {
   "cell_type": "code",
   "execution_count": 27,
   "metadata": {},
   "outputs": [
    {
     "data": {
      "text/plain": [
       "120"
      ]
     },
     "execution_count": 27,
     "metadata": {},
     "output_type": "execute_result"
    }
   ],
   "source": [
    "len(Product_Description)"
   ]
  },
  {
   "cell_type": "code",
   "execution_count": 28,
   "metadata": {},
   "outputs": [],
   "source": [
    "Product_Description = Product_Description[1:101]"
   ]
  },
  {
   "cell_type": "code",
   "execution_count": 29,
   "metadata": {},
   "outputs": [
    {
     "data": {
      "text/plain": [
       "['UV Protection Aviator Sunglasses (Free Size)',\n",
       " 'UV Protection Wrap-around Sunglasses (Free Size)',\n",
       " 'UV Protection Wayfarer Sunglasses (32)',\n",
       " 'UV Protection Round Sunglasses (49)',\n",
       " 'UV Protection, Mirrored, Gradient Wayfarer Sunglasses (...',\n",
       " 'UV Protection Round Sunglasses (Free Size)',\n",
       " 'UV Protection Aviator Sunglasses (54)',\n",
       " 'UV Protection Round Sunglasses (Free Size)',\n",
       " 'UV Protection Aviator Sunglasses (57)',\n",
       " 'UV Protection Oval Sunglasses (56)',\n",
       " 'UV Protection Aviator Sunglasses (Free Size)',\n",
       " 'UV Protection Shield Sunglasses (Free Size)',\n",
       " 'UV Protection, Riding Glasses Wayfarer Sunglasses (53)',\n",
       " 'Rectangular Sunglasses',\n",
       " 'Polarized, UV Protection Wayfarer, Rectangular Sunglass...',\n",
       " 'UV Protection Aviator Sunglasses (58)',\n",
       " 'UV Protection Wayfarer Sunglasses (Free Size)',\n",
       " 'Gradient Rectangular Sunglasses (55)',\n",
       " 'UV Protection Cat-eye Sunglasses (60)',\n",
       " 'Mirrored Aviator Sunglasses (Free Size)',\n",
       " 'UV Protection Aviator Sunglasses (Free Size)',\n",
       " 'UV Protection, Gradient Round Sunglasses (Free Size)',\n",
       " 'UV Protection, Gradient Over-sized Sunglasses (63)',\n",
       " 'UV Protection, Gradient Butterfly, Over-sized Sunglasse...',\n",
       " 'UV Protection Over-sized Sunglasses (60)',\n",
       " 'UV Protection Wayfarer Sunglasses (Free Size)',\n",
       " 'by Lenskart Polarized, UV Protection Cat-eye Sunglasses...',\n",
       " 'Others Rectangular Sunglasses (54)',\n",
       " 'Polarized, UV Protection Rectangular Sunglasses (59)',\n",
       " 'UV Protection, Gradient Butterfly, Retro Square Sunglas...',\n",
       " 'UV Protection, Gradient Cat-eye Sunglasses (58)',\n",
       " 'Polarized Retro Square Sunglasses (Free Size)',\n",
       " 'UV Protection Aviator Sunglasses (Free Size)',\n",
       " 'UV Protection, Riding Glasses Wayfarer Sunglasses (53)',\n",
       " 'UV Protection Aviator Sunglasses (Free Size)',\n",
       " 'Gradient Aviator Sunglasses (58)',\n",
       " 'UV Protection Wayfarer Sunglasses (54)',\n",
       " 'UV Protection Wayfarer Sunglasses (Free Size)',\n",
       " 'UV Protection, Gradient Butterfly Sunglasses (62)',\n",
       " 'Mirrored, UV Protection Round Sunglasses (50)',\n",
       " 'UV Protection Aviator Sunglasses (Free Size)',\n",
       " 'UV Protection Wrap-around Sunglasses (Free Size)',\n",
       " 'UV Protection Wayfarer Sunglasses (32)',\n",
       " 'UV Protection Round Sunglasses (49)',\n",
       " 'UV Protection, Mirrored, Gradient Wayfarer Sunglasses (...',\n",
       " 'UV Protection Round Sunglasses (Free Size)',\n",
       " 'UV Protection Aviator Sunglasses (54)',\n",
       " 'UV Protection Round Sunglasses (Free Size)',\n",
       " 'UV Protection Aviator Sunglasses (57)',\n",
       " 'UV Protection Oval Sunglasses (56)',\n",
       " 'UV Protection Aviator Sunglasses (Free Size)',\n",
       " 'UV Protection Shield Sunglasses (Free Size)',\n",
       " 'UV Protection, Riding Glasses Wayfarer Sunglasses (53)',\n",
       " 'Rectangular Sunglasses',\n",
       " 'Polarized, UV Protection Wayfarer, Rectangular Sunglass...',\n",
       " 'UV Protection Aviator Sunglasses (58)',\n",
       " 'UV Protection Wayfarer Sunglasses (Free Size)',\n",
       " 'Gradient Rectangular Sunglasses (55)',\n",
       " 'UV Protection Cat-eye Sunglasses (60)',\n",
       " 'Mirrored Aviator Sunglasses (Free Size)',\n",
       " 'UV Protection Aviator Sunglasses (Free Size)',\n",
       " 'UV Protection, Gradient Round Sunglasses (Free Size)',\n",
       " 'UV Protection, Gradient Over-sized Sunglasses (63)',\n",
       " 'UV Protection, Gradient Butterfly, Over-sized Sunglasse...',\n",
       " 'UV Protection Over-sized Sunglasses (60)',\n",
       " 'UV Protection Wayfarer Sunglasses (Free Size)',\n",
       " 'by Lenskart Polarized, UV Protection Cat-eye Sunglasses...',\n",
       " 'Others Rectangular Sunglasses (54)',\n",
       " 'Polarized, UV Protection Rectangular Sunglasses (59)',\n",
       " 'UV Protection, Gradient Butterfly, Retro Square Sunglas...',\n",
       " 'UV Protection, Gradient Cat-eye Sunglasses (58)',\n",
       " 'Polarized Retro Square Sunglasses (Free Size)',\n",
       " 'UV Protection Aviator Sunglasses (Free Size)',\n",
       " 'UV Protection, Riding Glasses Wayfarer Sunglasses (53)',\n",
       " 'UV Protection Aviator Sunglasses (Free Size)',\n",
       " 'Gradient Aviator Sunglasses (58)',\n",
       " 'UV Protection Wayfarer Sunglasses (54)',\n",
       " 'UV Protection Wayfarer Sunglasses (Free Size)',\n",
       " 'UV Protection, Gradient Butterfly Sunglasses (62)',\n",
       " 'Mirrored, UV Protection Round Sunglasses (50)',\n",
       " 'UV Protection Aviator Sunglasses (Free Size)',\n",
       " 'UV Protection Wrap-around Sunglasses (Free Size)',\n",
       " 'UV Protection Wayfarer Sunglasses (32)',\n",
       " 'UV Protection Round Sunglasses (49)',\n",
       " 'UV Protection, Mirrored, Gradient Wayfarer Sunglasses (...',\n",
       " 'UV Protection Round Sunglasses (Free Size)',\n",
       " 'UV Protection Aviator Sunglasses (54)',\n",
       " 'UV Protection Round Sunglasses (Free Size)',\n",
       " 'UV Protection Aviator Sunglasses (57)',\n",
       " 'UV Protection Oval Sunglasses (56)',\n",
       " 'UV Protection Aviator Sunglasses (Free Size)',\n",
       " 'UV Protection Shield Sunglasses (Free Size)',\n",
       " 'UV Protection, Riding Glasses Wayfarer Sunglasses (53)',\n",
       " 'Rectangular Sunglasses',\n",
       " 'Polarized, UV Protection Wayfarer, Rectangular Sunglass...',\n",
       " 'UV Protection Aviator Sunglasses (58)',\n",
       " 'UV Protection Wayfarer Sunglasses (Free Size)',\n",
       " 'Gradient Rectangular Sunglasses (55)',\n",
       " 'UV Protection Cat-eye Sunglasses (60)',\n",
       " 'Mirrored Aviator Sunglasses (Free Size)']"
      ]
     },
     "execution_count": 29,
     "metadata": {},
     "output_type": "execute_result"
    }
   ],
   "source": [
    "Product_Description"
   ]
  },
  {
   "cell_type": "code",
   "execution_count": 30,
   "metadata": {},
   "outputs": [],
   "source": [
    "# Price\n",
    "\n",
    "Price = []\n",
    "\n",
    "for page in range(1,4):\n",
    "    p = driver.find_elements_by_xpath(\"//div[@class='_30jeq3']\")\n",
    "    nxtbtn = driver.find_elements_by_xpath('/html/body/div/div/div[3]/div[1]/div[2]/div[12]/div/div/nav')[-1].click()\n",
    "    for i in p:\n",
    "        Price.append(i.text)\n",
    "\n",
    "Price = Price[1:101]"
   ]
  },
  {
   "cell_type": "code",
   "execution_count": 31,
   "metadata": {},
   "outputs": [
    {
     "data": {
      "text/plain": [
       "['₹6,469',\n",
       " '₹779',\n",
       " '₹237',\n",
       " '₹664',\n",
       " '₹281',\n",
       " '₹189',\n",
       " '₹237',\n",
       " '₹426',\n",
       " '₹233',\n",
       " '₹284',\n",
       " '₹331',\n",
       " '₹719',\n",
       " '₹260',\n",
       " '₹10,339',\n",
       " '₹577',\n",
       " '₹6,649',\n",
       " '₹426',\n",
       " '₹579',\n",
       " '₹375',\n",
       " '₹399',\n",
       " '₹2,069',\n",
       " '₹426',\n",
       " '₹917',\n",
       " '₹598',\n",
       " '₹699',\n",
       " '₹854',\n",
       " '₹1,344',\n",
       " '₹1,559',\n",
       " '₹664',\n",
       " '₹498',\n",
       " '₹525',\n",
       " '₹1,889',\n",
       " '₹1,961',\n",
       " '₹207',\n",
       " '₹396',\n",
       " '₹7,279',\n",
       " '₹10,429',\n",
       " '₹520',\n",
       " '₹625',\n",
       " '₹849',\n",
       " '₹6,469',\n",
       " '₹779',\n",
       " '₹237',\n",
       " '₹664',\n",
       " '₹281',\n",
       " '₹189',\n",
       " '₹237',\n",
       " '₹426',\n",
       " '₹233',\n",
       " '₹284',\n",
       " '₹331',\n",
       " '₹719',\n",
       " '₹260',\n",
       " '₹10,339',\n",
       " '₹577',\n",
       " '₹6,649',\n",
       " '₹426',\n",
       " '₹579',\n",
       " '₹375',\n",
       " '₹399',\n",
       " '₹2,069',\n",
       " '₹426',\n",
       " '₹917',\n",
       " '₹598',\n",
       " '₹699',\n",
       " '₹854',\n",
       " '₹1,344',\n",
       " '₹1,559',\n",
       " '₹664',\n",
       " '₹498',\n",
       " '₹525',\n",
       " '₹1,889',\n",
       " '₹1,961',\n",
       " '₹207',\n",
       " '₹396',\n",
       " '₹7,279',\n",
       " '₹10,429',\n",
       " '₹520',\n",
       " '₹625',\n",
       " '₹849',\n",
       " '₹6,469',\n",
       " '₹779',\n",
       " '₹237',\n",
       " '₹664',\n",
       " '₹281',\n",
       " '₹189',\n",
       " '₹237',\n",
       " '₹426',\n",
       " '₹233',\n",
       " '₹284',\n",
       " '₹331',\n",
       " '₹719',\n",
       " '₹260',\n",
       " '₹10,339',\n",
       " '₹577',\n",
       " '₹6,649',\n",
       " '₹426',\n",
       " '₹579',\n",
       " '₹375',\n",
       " '₹399']"
      ]
     },
     "execution_count": 31,
     "metadata": {},
     "output_type": "execute_result"
    }
   ],
   "source": [
    "Price"
   ]
  },
  {
   "cell_type": "code",
   "execution_count": 32,
   "metadata": {},
   "outputs": [
    {
     "data": {
      "text/plain": [
       "['₹1621 off',\n",
       " '₹520 off',\n",
       " '₹1362 off',\n",
       " '₹1335 off',\n",
       " '₹1718 off',\n",
       " '₹810 off',\n",
       " '₹1362 off',\n",
       " '₹1073 off',\n",
       " '₹816 off',\n",
       " '₹915 off',\n",
       " '₹1268 off',\n",
       " '₹280 off',\n",
       " '₹1735 off',\n",
       " '₹1151 off',\n",
       " '₹1873 off',\n",
       " '₹741 off',\n",
       " '₹1073 off',\n",
       " '₹561 off',\n",
       " '₹1070 off',\n",
       " '₹1100 off',\n",
       " '₹230 off',\n",
       " '₹2239 off',\n",
       " '₹3183 off',\n",
       " '₹1552 off',\n",
       " '₹1300 off',\n",
       " '₹145 off',\n",
       " '₹655 off',\n",
       " '₹4341 off',\n",
       " '₹835 off',\n",
       " '₹1027 off',\n",
       " '₹1000 off',\n",
       " '₹210 off',\n",
       " '₹338 off',\n",
       " '₹1592 off',\n",
       " '₹854 off',\n",
       " '₹811 off',\n",
       " '₹1161 off',\n",
       " '₹279 off',\n",
       " '₹1525 off',\n",
       " '₹3251 off',\n",
       " '₹1621 off',\n",
       " '₹520 off',\n",
       " '₹1362 off',\n",
       " '₹1335 off',\n",
       " '₹1718 off',\n",
       " '₹810 off',\n",
       " '₹1362 off',\n",
       " '₹1073 off',\n",
       " '₹816 off',\n",
       " '₹915 off',\n",
       " '₹1268 off',\n",
       " '₹280 off',\n",
       " '₹1735 off',\n",
       " '₹1151 off',\n",
       " '₹1873 off',\n",
       " '₹741 off',\n",
       " '₹1073 off',\n",
       " '₹561 off',\n",
       " '₹1070 off',\n",
       " '₹1100 off',\n",
       " '₹230 off',\n",
       " '₹2239 off',\n",
       " '₹3183 off',\n",
       " '₹1552 off',\n",
       " '₹1300 off',\n",
       " '₹145 off',\n",
       " '₹655 off',\n",
       " '₹4341 off',\n",
       " '₹835 off',\n",
       " '₹1027 off',\n",
       " '₹1000 off',\n",
       " '₹210 off',\n",
       " '₹338 off',\n",
       " '₹1592 off',\n",
       " '₹854 off',\n",
       " '₹811 off',\n",
       " '₹1161 off',\n",
       " '₹279 off',\n",
       " '₹1525 off',\n",
       " '₹3251 off',\n",
       " '₹1621 off',\n",
       " '₹520 off',\n",
       " '₹1362 off',\n",
       " '₹1335 off',\n",
       " '₹1718 off',\n",
       " '₹810 off',\n",
       " '₹1362 off',\n",
       " '₹1073 off',\n",
       " '₹816 off',\n",
       " '₹915 off',\n",
       " '₹1268 off',\n",
       " '₹280 off',\n",
       " '₹1735 off',\n",
       " '₹1151 off',\n",
       " '₹1873 off',\n",
       " '₹741 off',\n",
       " '₹1073 off',\n",
       " '₹561 off',\n",
       " '₹1070 off',\n",
       " '₹1100 off']"
      ]
     },
     "execution_count": 32,
     "metadata": {},
     "output_type": "execute_result"
    }
   ],
   "source": [
    "#Discount\n",
    "\n",
    "\n",
    "Discount = []\n",
    "\n",
    "for page in range(1,4):\n",
    "    d = driver.find_elements_by_xpath(\"//div[@class='_3Ay6Sb']\")\n",
    "    nxtbtn = driver.find_elements_by_xpath('/html/body/div/div/div[3]/div[1]/div[2]/div[12]/div/div/nav')[-1].click()\n",
    "    for i in d:\n",
    "        Discount.append(i.text)\n",
    "\n",
    "Discount = Discount[1:101]\n",
    "\n",
    "Discount"
   ]
  },
  {
   "cell_type": "code",
   "execution_count": 33,
   "metadata": {},
   "outputs": [],
   "source": [
    "data = list(zip(Brands,Product_Description,Price,Discount))\n",
    "\n",
    "Sunglasses = pd.DataFrame(data = data, columns = ['Brands','Product_Description','Price','Discount'], index = np.arange(1,101,1))"
   ]
  },
  {
   "cell_type": "code",
   "execution_count": 34,
   "metadata": {},
   "outputs": [
    {
     "data": {
      "text/html": [
       "<div>\n",
       "<style scoped>\n",
       "    .dataframe tbody tr th:only-of-type {\n",
       "        vertical-align: middle;\n",
       "    }\n",
       "\n",
       "    .dataframe tbody tr th {\n",
       "        vertical-align: top;\n",
       "    }\n",
       "\n",
       "    .dataframe thead th {\n",
       "        text-align: right;\n",
       "    }\n",
       "</style>\n",
       "<table border=\"1\" class=\"dataframe\">\n",
       "  <thead>\n",
       "    <tr style=\"text-align: right;\">\n",
       "      <th></th>\n",
       "      <th>Brands</th>\n",
       "      <th>Product_Description</th>\n",
       "      <th>Price</th>\n",
       "      <th>Discount</th>\n",
       "    </tr>\n",
       "  </thead>\n",
       "  <tbody>\n",
       "    <tr>\n",
       "      <th>1</th>\n",
       "      <td>Ray-Ban</td>\n",
       "      <td>UV Protection Aviator Sunglasses (Free Size)</td>\n",
       "      <td>₹6,469</td>\n",
       "      <td>₹1621 off</td>\n",
       "    </tr>\n",
       "    <tr>\n",
       "      <th>2</th>\n",
       "      <td>Fastrack</td>\n",
       "      <td>UV Protection Wrap-around Sunglasses (Free Size)</td>\n",
       "      <td>₹779</td>\n",
       "      <td>₹520 off</td>\n",
       "    </tr>\n",
       "    <tr>\n",
       "      <th>3</th>\n",
       "      <td>PIRASO</td>\n",
       "      <td>UV Protection Wayfarer Sunglasses (32)</td>\n",
       "      <td>₹237</td>\n",
       "      <td>₹1362 off</td>\n",
       "    </tr>\n",
       "    <tr>\n",
       "      <th>4</th>\n",
       "      <td>ROYAL SON</td>\n",
       "      <td>UV Protection Round Sunglasses (49)</td>\n",
       "      <td>₹664</td>\n",
       "      <td>₹1335 off</td>\n",
       "    </tr>\n",
       "    <tr>\n",
       "      <th>5</th>\n",
       "      <td>GANSTA</td>\n",
       "      <td>UV Protection, Mirrored, Gradient Wayfarer Sun...</td>\n",
       "      <td>₹281</td>\n",
       "      <td>₹1718 off</td>\n",
       "    </tr>\n",
       "    <tr>\n",
       "      <th>...</th>\n",
       "      <td>...</td>\n",
       "      <td>...</td>\n",
       "      <td>...</td>\n",
       "      <td>...</td>\n",
       "    </tr>\n",
       "    <tr>\n",
       "      <th>96</th>\n",
       "      <td>Ray-Ban</td>\n",
       "      <td>UV Protection Aviator Sunglasses (58)</td>\n",
       "      <td>₹6,649</td>\n",
       "      <td>₹741 off</td>\n",
       "    </tr>\n",
       "    <tr>\n",
       "      <th>97</th>\n",
       "      <td>elegante</td>\n",
       "      <td>UV Protection Wayfarer Sunglasses (Free Size)</td>\n",
       "      <td>₹426</td>\n",
       "      <td>₹1073 off</td>\n",
       "    </tr>\n",
       "    <tr>\n",
       "      <th>98</th>\n",
       "      <td>IRUS by IDEE</td>\n",
       "      <td>Gradient Rectangular Sunglasses (55)</td>\n",
       "      <td>₹579</td>\n",
       "      <td>₹561 off</td>\n",
       "    </tr>\n",
       "    <tr>\n",
       "      <th>99</th>\n",
       "      <td>NuVew</td>\n",
       "      <td>UV Protection Cat-eye Sunglasses (60)</td>\n",
       "      <td>₹375</td>\n",
       "      <td>₹1070 off</td>\n",
       "    </tr>\n",
       "    <tr>\n",
       "      <th>100</th>\n",
       "      <td>ROYAL SON</td>\n",
       "      <td>Mirrored Aviator Sunglasses (Free Size)</td>\n",
       "      <td>₹399</td>\n",
       "      <td>₹1100 off</td>\n",
       "    </tr>\n",
       "  </tbody>\n",
       "</table>\n",
       "<p>100 rows × 4 columns</p>\n",
       "</div>"
      ],
      "text/plain": [
       "           Brands                                Product_Description   Price  \\\n",
       "1         Ray-Ban       UV Protection Aviator Sunglasses (Free Size)  ₹6,469   \n",
       "2        Fastrack   UV Protection Wrap-around Sunglasses (Free Size)    ₹779   \n",
       "3          PIRASO             UV Protection Wayfarer Sunglasses (32)    ₹237   \n",
       "4       ROYAL SON                UV Protection Round Sunglasses (49)    ₹664   \n",
       "5          GANSTA  UV Protection, Mirrored, Gradient Wayfarer Sun...    ₹281   \n",
       "..            ...                                                ...     ...   \n",
       "96        Ray-Ban              UV Protection Aviator Sunglasses (58)  ₹6,649   \n",
       "97       elegante      UV Protection Wayfarer Sunglasses (Free Size)    ₹426   \n",
       "98   IRUS by IDEE               Gradient Rectangular Sunglasses (55)    ₹579   \n",
       "99          NuVew              UV Protection Cat-eye Sunglasses (60)    ₹375   \n",
       "100     ROYAL SON            Mirrored Aviator Sunglasses (Free Size)    ₹399   \n",
       "\n",
       "      Discount  \n",
       "1    ₹1621 off  \n",
       "2     ₹520 off  \n",
       "3    ₹1362 off  \n",
       "4    ₹1335 off  \n",
       "5    ₹1718 off  \n",
       "..         ...  \n",
       "96    ₹741 off  \n",
       "97   ₹1073 off  \n",
       "98    ₹561 off  \n",
       "99   ₹1070 off  \n",
       "100  ₹1100 off  \n",
       "\n",
       "[100 rows x 4 columns]"
      ]
     },
     "execution_count": 34,
     "metadata": {},
     "output_type": "execute_result"
    }
   ],
   "source": [
    "Sunglasses"
   ]
  },
  {
   "cell_type": "markdown",
   "metadata": {},
   "source": [
    "### Q7: Scrape 100 reviews data from flipkart.com for iphone11 phone. You have to go the link:"
   ]
  },
  {
   "cell_type": "code",
   "execution_count": 107,
   "metadata": {},
   "outputs": [],
   "source": [
    "driver.get('https://www.flipkart.com/apple-iphone-11-black-64-gb-includes-earpods-power-adapter/p/itm0f37c2240b217?pid=MOBFKCTSVZAXUHGR&lid=LSTMOBFKCTSVZAXUHGREPBFGI&marketplace')"
   ]
  },
  {
   "cell_type": "code",
   "execution_count": 113,
   "metadata": {},
   "outputs": [],
   "source": [
    "allreviews = driver.find_element_by_xpath(\"/html/body/div[1]/div/div[3]/div[1]/div[2]/div[9]/div/div/div[5]/div/a/div/span\")"
   ]
  },
  {
   "cell_type": "code",
   "execution_count": 115,
   "metadata": {},
   "outputs": [],
   "source": [
    "allreviews.click()"
   ]
  },
  {
   "cell_type": "code",
   "execution_count": 145,
   "metadata": {},
   "outputs": [
    {
     "data": {
      "text/plain": [
       "['https://www.flipkart.com/apple-iphone-11-black-64-gb-includes-earpods-power-adapter/product-reviews/itm0f37c2240b217?pid=MOBFKCTSVZAXUHGR&lid=LSTMOBFKCTSVZAXUHGREPBFGI&marketplace=FLIPKART&page=1',\n",
       " 'https://www.flipkart.com/apple-iphone-11-black-64-gb-includes-earpods-power-adapter/product-reviews/itm0f37c2240b217?pid=MOBFKCTSVZAXUHGR&lid=LSTMOBFKCTSVZAXUHGREPBFGI&marketplace=FLIPKART&page=2',\n",
       " 'https://www.flipkart.com/apple-iphone-11-black-64-gb-includes-earpods-power-adapter/product-reviews/itm0f37c2240b217?pid=MOBFKCTSVZAXUHGR&lid=LSTMOBFKCTSVZAXUHGREPBFGI&marketplace=FLIPKART&page=3',\n",
       " 'https://www.flipkart.com/apple-iphone-11-black-64-gb-includes-earpods-power-adapter/product-reviews/itm0f37c2240b217?pid=MOBFKCTSVZAXUHGR&lid=LSTMOBFKCTSVZAXUHGREPBFGI&marketplace=FLIPKART&page=4',\n",
       " 'https://www.flipkart.com/apple-iphone-11-black-64-gb-includes-earpods-power-adapter/product-reviews/itm0f37c2240b217?pid=MOBFKCTSVZAXUHGR&lid=LSTMOBFKCTSVZAXUHGREPBFGI&marketplace=FLIPKART&page=5',\n",
       " 'https://www.flipkart.com/apple-iphone-11-black-64-gb-includes-earpods-power-adapter/product-reviews/itm0f37c2240b217?pid=MOBFKCTSVZAXUHGR&lid=LSTMOBFKCTSVZAXUHGREPBFGI&marketplace=FLIPKART&page=6',\n",
       " 'https://www.flipkart.com/apple-iphone-11-black-64-gb-includes-earpods-power-adapter/product-reviews/itm0f37c2240b217?pid=MOBFKCTSVZAXUHGR&lid=LSTMOBFKCTSVZAXUHGREPBFGI&marketplace=FLIPKART&page=7',\n",
       " 'https://www.flipkart.com/apple-iphone-11-black-64-gb-includes-earpods-power-adapter/product-reviews/itm0f37c2240b217?pid=MOBFKCTSVZAXUHGR&lid=LSTMOBFKCTSVZAXUHGREPBFGI&marketplace=FLIPKART&page=8',\n",
       " 'https://www.flipkart.com/apple-iphone-11-black-64-gb-includes-earpods-power-adapter/product-reviews/itm0f37c2240b217?pid=MOBFKCTSVZAXUHGR&lid=LSTMOBFKCTSVZAXUHGREPBFGI&marketplace=FLIPKART&page=9',\n",
       " 'https://www.flipkart.com/apple-iphone-11-black-64-gb-includes-earpods-power-adapter/product-reviews/itm0f37c2240b217?pid=MOBFKCTSVZAXUHGR&lid=LSTMOBFKCTSVZAXUHGREPBFGI&marketplace=FLIPKART&page=10']"
      ]
     },
     "execution_count": 145,
     "metadata": {},
     "output_type": "execute_result"
    }
   ],
   "source": [
    "#Pages\n",
    "page = []\n",
    "\n",
    "url = driver.find_elements_by_xpath(\"//nav[@class='yFHi8N']/a\")[:10]\n",
    "\n",
    "for i in url:\n",
    "    page.append(i.get_attribute(\"href\"))\n",
    "page"
   ]
  },
  {
   "cell_type": "code",
   "execution_count": 146,
   "metadata": {},
   "outputs": [
    {
     "data": {
      "text/plain": [
       "100"
      ]
     },
     "execution_count": 146,
     "metadata": {},
     "output_type": "execute_result"
    }
   ],
   "source": [
    "#Rating\n",
    "\n",
    "Rating = []\n",
    "\n",
    "for page in range(1,11):\n",
    "    r = driver.find_elements_by_xpath(\"//div[@class='_3LWZlK _1BLPMq']\")[:100]\n",
    "    for i in r:\n",
    "        Rating.append(i.text)\n",
    "len(Rating)"
   ]
  },
  {
   "cell_type": "code",
   "execution_count": 148,
   "metadata": {},
   "outputs": [
    {
     "data": {
      "text/plain": [
       "100"
      ]
     },
     "execution_count": 148,
     "metadata": {},
     "output_type": "execute_result"
    }
   ],
   "source": [
    "#review Summary\n",
    "\n",
    "Review = []\n",
    "\n",
    "for page in range(1,11):\n",
    "    r = driver.find_elements_by_xpath(\"//p[@class='_2-N8zT']\")[:100]\n",
    "    for i in r:\n",
    "        Review.append(i.text)\n",
    "len(Review)"
   ]
  },
  {
   "cell_type": "code",
   "execution_count": 153,
   "metadata": {},
   "outputs": [
    {
     "data": {
      "text/plain": [
       "100"
      ]
     },
     "execution_count": 153,
     "metadata": {},
     "output_type": "execute_result"
    }
   ],
   "source": [
    "# 3. Full review\n",
    "\n",
    "Full_Review = []\n",
    "\n",
    "for page in range(1,11):\n",
    "    r = driver.find_elements_by_xpath(\"//div[@class='t-ZTKy']\")[:100]\n",
    "    for i in r:\n",
    "        Full_Review.append(i.text.replace('\\n',''))\n",
    "len(Full_Review)"
   ]
  },
  {
   "cell_type": "code",
   "execution_count": 158,
   "metadata": {},
   "outputs": [
    {
     "data": {
      "text/html": [
       "<div>\n",
       "<style scoped>\n",
       "    .dataframe tbody tr th:only-of-type {\n",
       "        vertical-align: middle;\n",
       "    }\n",
       "\n",
       "    .dataframe tbody tr th {\n",
       "        vertical-align: top;\n",
       "    }\n",
       "\n",
       "    .dataframe thead th {\n",
       "        text-align: right;\n",
       "    }\n",
       "</style>\n",
       "<table border=\"1\" class=\"dataframe\">\n",
       "  <thead>\n",
       "    <tr style=\"text-align: right;\">\n",
       "      <th></th>\n",
       "      <th>Ratings</th>\n",
       "      <th>Review_Summary</th>\n",
       "      <th>Full_Review</th>\n",
       "    </tr>\n",
       "  </thead>\n",
       "  <tbody>\n",
       "    <tr>\n",
       "      <th>1</th>\n",
       "      <td>5</td>\n",
       "      <td>Brilliant</td>\n",
       "      <td>The Best Phone for the MoneyThe iPhone 11 offe...</td>\n",
       "    </tr>\n",
       "    <tr>\n",
       "      <th>2</th>\n",
       "      <td>5</td>\n",
       "      <td>Perfect product!</td>\n",
       "      <td>Amazing phone with great cameras and better ba...</td>\n",
       "    </tr>\n",
       "    <tr>\n",
       "      <th>3</th>\n",
       "      <td>5</td>\n",
       "      <td>Worth every penny</td>\n",
       "      <td>Previously I was using one plus 3t it was a gr...</td>\n",
       "    </tr>\n",
       "    <tr>\n",
       "      <th>4</th>\n",
       "      <td>5</td>\n",
       "      <td>Fabulous!</td>\n",
       "      <td>This is my first iOS phone. I am very happy wi...</td>\n",
       "    </tr>\n",
       "    <tr>\n",
       "      <th>5</th>\n",
       "      <td>5</td>\n",
       "      <td>Great product</td>\n",
       "      <td>Amazing Powerful and Durable Gadget.I’m am ver...</td>\n",
       "    </tr>\n",
       "  </tbody>\n",
       "</table>\n",
       "</div>"
      ],
      "text/plain": [
       "  Ratings     Review_Summary  \\\n",
       "1       5          Brilliant   \n",
       "2       5   Perfect product!   \n",
       "3       5  Worth every penny   \n",
       "4       5          Fabulous!   \n",
       "5       5      Great product   \n",
       "\n",
       "                                         Full_Review  \n",
       "1  The Best Phone for the MoneyThe iPhone 11 offe...  \n",
       "2  Amazing phone with great cameras and better ba...  \n",
       "3  Previously I was using one plus 3t it was a gr...  \n",
       "4  This is my first iOS phone. I am very happy wi...  \n",
       "5  Amazing Powerful and Durable Gadget.I’m am ver...  "
      ]
     },
     "execution_count": 158,
     "metadata": {},
     "output_type": "execute_result"
    }
   ],
   "source": [
    "data=list(zip(Rating,Review,Full_Review))\n",
    "\n",
    "Iphone11_Review = pd.DataFrame(data=data, columns= ['Ratings','Review_Summary','Full_Review'], index = np.arange(1,101,1))\n",
    "\n",
    "Iphone11_Review.head()"
   ]
  },
  {
   "cell_type": "markdown",
   "metadata": {},
   "source": [
    "### Q8: Scrape data for first 100 sneakers you find when you visit flipkart.com and search for “sneakers” in the search field.\n",
    "You have to scrape 4 attributes of each sneaker :\n",
    "1. Brand\n",
    "2. Product Description\n",
    "3. Price\n",
    "4. discount %"
   ]
  },
  {
   "cell_type": "code",
   "execution_count": 163,
   "metadata": {},
   "outputs": [],
   "source": [
    "driver.get(\"https://www.flipkart.com\")"
   ]
  },
  {
   "cell_type": "code",
   "execution_count": 171,
   "metadata": {},
   "outputs": [],
   "source": [
    "#Login\n",
    "\n",
    "email = driver.find_element_by_xpath(\"/html/body/div[2]/div/div/div/div/div[2]/div/form/div[1]/input\")\n",
    "email.send_keys('9641731644')\n",
    "\n",
    "send = driver.find_element_by_xpath(\"/html/body/div[2]/div/div/div/div/div[2]/div/form/div[5]/button\").click()"
   ]
  },
  {
   "cell_type": "code",
   "execution_count": 172,
   "metadata": {},
   "outputs": [],
   "source": [
    "otp = driver.find_element_by_xpath(\"/html/body/div[2]/div/div/div/div/div[2]/div/div/form/div/div[1]/input\")\n",
    "otp.send_keys(\"812494\")"
   ]
  },
  {
   "cell_type": "code",
   "execution_count": 173,
   "metadata": {},
   "outputs": [],
   "source": [
    "# Searching for Sneakers\n",
    "\n",
    "sneakers = driver.find_element_by_xpath(\"/html/body/div/div/div[1]/div[1]/div[2]/div[2]/form/div/div/input\")\n",
    "sneakers.send_keys(\"sneakers\")"
   ]
  },
  {
   "cell_type": "code",
   "execution_count": 176,
   "metadata": {},
   "outputs": [],
   "source": [
    "search = driver.find_element_by_class_name(\"L0Z3Pu\").click()"
   ]
  },
  {
   "cell_type": "code",
   "execution_count": 188,
   "metadata": {},
   "outputs": [
    {
     "data": {
      "text/plain": [
       "['https://www.flipkart.com/search?q=sneakers&otracker=search&otracker1=search&marketplace=FLIPKART&as-show=on&as=off&page=1',\n",
       " 'https://www.flipkart.com/search?q=sneakers&otracker=search&otracker1=search&marketplace=FLIPKART&as-show=on&as=off&page=2',\n",
       " 'https://www.flipkart.com/search?q=sneakers&otracker=search&otracker1=search&marketplace=FLIPKART&as-show=on&as=off&page=3',\n",
       " 'https://www.flipkart.com/search?q=sneakers&otracker=search&otracker1=search&marketplace=FLIPKART&as-show=on&as=off&page=4']"
      ]
     },
     "execution_count": 188,
     "metadata": {},
     "output_type": "execute_result"
    }
   ],
   "source": [
    "#Page\n",
    "\n",
    "page = []\n",
    "\n",
    "url = driver.find_elements_by_xpath(\"//nav[@class='yFHi8N']/a\")[:4]\n",
    "\n",
    "for i in url:\n",
    "    page.append(i.get_attribute(\"href\"))\n",
    "page"
   ]
  },
  {
   "cell_type": "code",
   "execution_count": 206,
   "metadata": {},
   "outputs": [
    {
     "data": {
      "text/plain": [
       "100"
      ]
     },
     "execution_count": 206,
     "metadata": {},
     "output_type": "execute_result"
    }
   ],
   "source": [
    "#Brand Name\n",
    "\n",
    "Brand = []\n",
    "\n",
    "for page in range(1,4):\n",
    "    brand= driver.find_elements_by_xpath(\"//div[@class='_2WkVRV']\")\n",
    "    for i in brand:\n",
    "        Brand.append(i.text)\n",
    "\n",
    "Brand = Brand[:100]\n",
    "\n",
    "len(Brand)"
   ]
  },
  {
   "cell_type": "code",
   "execution_count": 207,
   "metadata": {},
   "outputs": [
    {
     "data": {
      "text/plain": [
       "100"
      ]
     },
     "execution_count": 207,
     "metadata": {},
     "output_type": "execute_result"
    }
   ],
   "source": [
    "#Product_Description\n",
    "\n",
    "Product_Description = []\n",
    "\n",
    "for page in range(1,4):\n",
    "    pd = driver.find_elements_by_xpath(\"//a[@class='IRpwTa']\")\n",
    "    for i in pd:\n",
    "        Product_Description.append(i.text)\n",
    "\n",
    "Product_Description = Product_Description[:100]\n",
    "\n",
    "len(Product_Description)"
   ]
  },
  {
   "cell_type": "code",
   "execution_count": 208,
   "metadata": {},
   "outputs": [
    {
     "data": {
      "text/plain": [
       "100"
      ]
     },
     "execution_count": 208,
     "metadata": {},
     "output_type": "execute_result"
    }
   ],
   "source": [
    "#Price\n",
    "\n",
    "Price = []\n",
    "\n",
    "for page in range(1,4):\n",
    "    p = driver.find_elements_by_xpath(\"//div[@class='_30jeq3']\")\n",
    "    for i in p:\n",
    "        Price.append(i.text)\n",
    "\n",
    "Price = Price[:100]\n",
    "\n",
    "len(Price)"
   ]
  },
  {
   "cell_type": "code",
   "execution_count": 209,
   "metadata": {},
   "outputs": [
    {
     "data": {
      "text/plain": [
       "100"
      ]
     },
     "execution_count": 209,
     "metadata": {},
     "output_type": "execute_result"
    }
   ],
   "source": [
    "#Discount\n",
    "\n",
    "Discount = []\n",
    "\n",
    "for page in range(1,4):\n",
    "    d = driver.find_elements_by_xpath(\"//div[@class='_3Ay6Sb']\")\n",
    "    for i in d:\n",
    "        Discount.append(i.text)\n",
    "\n",
    "Discount = Discount[:100]\n",
    "\n",
    "len(Discount)"
   ]
  },
  {
   "cell_type": "code",
   "execution_count": 215,
   "metadata": {},
   "outputs": [
    {
     "data": {
      "text/html": [
       "<div>\n",
       "<style scoped>\n",
       "    .dataframe tbody tr th:only-of-type {\n",
       "        vertical-align: middle;\n",
       "    }\n",
       "\n",
       "    .dataframe tbody tr th {\n",
       "        vertical-align: top;\n",
       "    }\n",
       "\n",
       "    .dataframe thead th {\n",
       "        text-align: right;\n",
       "    }\n",
       "</style>\n",
       "<table border=\"1\" class=\"dataframe\">\n",
       "  <thead>\n",
       "    <tr style=\"text-align: right;\">\n",
       "      <th></th>\n",
       "      <th>Brand</th>\n",
       "      <th>Product_Description</th>\n",
       "      <th>Price</th>\n",
       "      <th>Discount</th>\n",
       "    </tr>\n",
       "  </thead>\n",
       "  <tbody>\n",
       "    <tr>\n",
       "      <th>1</th>\n",
       "      <td>Chevit</td>\n",
       "      <td>Perfect &amp; Affordable Combo Pack of 02 Pairs Sn...</td>\n",
       "      <td>₹859</td>\n",
       "      <td>60% off</td>\n",
       "    </tr>\n",
       "    <tr>\n",
       "      <th>2</th>\n",
       "      <td>PUMA</td>\n",
       "      <td>ST Runner v2 NL Sneakers For Men</td>\n",
       "      <td>₹410</td>\n",
       "      <td>79% off</td>\n",
       "    </tr>\n",
       "    <tr>\n",
       "      <th>3</th>\n",
       "      <td>ESSENCE</td>\n",
       "      <td>Sneakers For Men</td>\n",
       "      <td>₹379</td>\n",
       "      <td>62% off</td>\n",
       "    </tr>\n",
       "    <tr>\n",
       "      <th>4</th>\n",
       "      <td>Marc Ecko</td>\n",
       "      <td>Sneakers For Men</td>\n",
       "      <td>₹349</td>\n",
       "      <td>65% off</td>\n",
       "    </tr>\n",
       "    <tr>\n",
       "      <th>5</th>\n",
       "      <td>NIKE</td>\n",
       "      <td>SB Heritage Vulc Skate Sneakers For Men</td>\n",
       "      <td>₹748</td>\n",
       "      <td>62% off</td>\n",
       "    </tr>\n",
       "    <tr>\n",
       "      <th>...</th>\n",
       "      <td>...</td>\n",
       "      <td>...</td>\n",
       "      <td>...</td>\n",
       "      <td>...</td>\n",
       "    </tr>\n",
       "    <tr>\n",
       "      <th>96</th>\n",
       "      <td>kardam&amp;sons</td>\n",
       "      <td>Perforated Low IDP Sneakers For Men</td>\n",
       "      <td>₹449</td>\n",
       "      <td>55% off</td>\n",
       "    </tr>\n",
       "    <tr>\n",
       "      <th>97</th>\n",
       "      <td>NIKE</td>\n",
       "      <td>Men's Stylish Casual Shoes Sneakers For Men</td>\n",
       "      <td>₹365</td>\n",
       "      <td>44% off</td>\n",
       "    </tr>\n",
       "    <tr>\n",
       "      <th>98</th>\n",
       "      <td>BRUTON</td>\n",
       "      <td>Super &amp; Trendy Men's Pack of 02 Pair Shoes for...</td>\n",
       "      <td>₹588</td>\n",
       "      <td>70% off</td>\n",
       "    </tr>\n",
       "    <tr>\n",
       "      <th>99</th>\n",
       "      <td>JACK &amp; JONES</td>\n",
       "      <td>SYNTHETIC LEATHER CONS EL DISTRITO Sneakers Fo...</td>\n",
       "      <td>₹240</td>\n",
       "      <td>51% off</td>\n",
       "    </tr>\n",
       "    <tr>\n",
       "      <th>100</th>\n",
       "      <td>HOTSTYLE</td>\n",
       "      <td>Respin SL Sneakers For Men</td>\n",
       "      <td>₹449</td>\n",
       "      <td>82% off</td>\n",
       "    </tr>\n",
       "  </tbody>\n",
       "</table>\n",
       "<p>100 rows × 4 columns</p>\n",
       "</div>"
      ],
      "text/plain": [
       "            Brand                                Product_Description Price  \\\n",
       "1          Chevit  Perfect & Affordable Combo Pack of 02 Pairs Sn...  ₹859   \n",
       "2            PUMA                   ST Runner v2 NL Sneakers For Men  ₹410   \n",
       "3         ESSENCE                                   Sneakers For Men  ₹379   \n",
       "4       Marc Ecko                                   Sneakers For Men  ₹349   \n",
       "5            NIKE            SB Heritage Vulc Skate Sneakers For Men  ₹748   \n",
       "..            ...                                                ...   ...   \n",
       "96    kardam&sons                Perforated Low IDP Sneakers For Men  ₹449   \n",
       "97           NIKE        Men's Stylish Casual Shoes Sneakers For Men  ₹365   \n",
       "98         BRUTON  Super & Trendy Men's Pack of 02 Pair Shoes for...  ₹588   \n",
       "99   JACK & JONES  SYNTHETIC LEATHER CONS EL DISTRITO Sneakers Fo...  ₹240   \n",
       "100      HOTSTYLE                         Respin SL Sneakers For Men  ₹449   \n",
       "\n",
       "    Discount  \n",
       "1    60% off  \n",
       "2    79% off  \n",
       "3    62% off  \n",
       "4    65% off  \n",
       "5    62% off  \n",
       "..       ...  \n",
       "96   55% off  \n",
       "97   44% off  \n",
       "98   70% off  \n",
       "99   51% off  \n",
       "100  82% off  \n",
       "\n",
       "[100 rows x 4 columns]"
      ]
     },
     "execution_count": 215,
     "metadata": {},
     "output_type": "execute_result"
    }
   ],
   "source": [
    "data =list(zip(Brand,Product_Description,Price,Discount))\n",
    "\n",
    "Sneakers_Flipkart = pd.DataFrame(data = data, columns = ['Brand','Product_Description','Price','Discount'], index = np.arange(1,101,1))\n",
    "\n",
    "Sneakers_Flipkart"
   ]
  },
  {
   "cell_type": "markdown",
   "metadata": {},
   "source": [
    "### Q9: Go to the link - https://www.myntra.com/shoes\n",
    "Set Price filter to “Rs. 6649 to Rs. 13099” , Color filter to “Black”, as shown in the below image\n",
    "\n",
    "\n",
    "scrape First 100 shoes data you get. The data should include “Brand” of the shoes , Short Shoe description, price of the shoe as shown in the below image."
   ]
  },
  {
   "cell_type": "code",
   "execution_count": 23,
   "metadata": {},
   "outputs": [],
   "source": [
    "# Go to the link - https://www.myntra.com/shoes¶\n",
    "\n",
    "driver.get('https://www.myntra.com/shoes')"
   ]
  },
  {
   "cell_type": "code",
   "execution_count": 24,
   "metadata": {},
   "outputs": [],
   "source": [
    "#Set color filter black,\n",
    "\n",
    "color_filter = driver.find_element_by_xpath(\"/html/body/div[2]/div/div[1]/main/div[3]/div[1]/section/div/div[6]/ul/li[1]/label\").click()"
   ]
  },
  {
   "cell_type": "code",
   "execution_count": 25,
   "metadata": {},
   "outputs": [],
   "source": [
    "# price filter to “Rs. 6649 to Rs. 13099” \n",
    "\n",
    "price_filter = driver.find_element_by_xpath(\"/html/body/div[2]/div/div[1]/main/div[3]/div[1]/section/div/div[5]/ul/li[2]/label\").click()"
   ]
  },
  {
   "cell_type": "code",
   "execution_count": 26,
   "metadata": {},
   "outputs": [
    {
     "data": {
      "text/plain": [
       "['https://www.myntra.com/shoes?f=Color%3ABlack_36454f&plaEnabled=false&rf=Price%3A6687.0_13125.0_6687.0%20TO%2013125.0',\n",
       " 'https://www.myntra.com/shoes?f=Color%3ABlack_36454f&plaEnabled=false&rf=Price%3A6687.0_13125.0_6687.0%20TO%2013125.0&p=2']"
      ]
     },
     "execution_count": 26,
     "metadata": {},
     "output_type": "execute_result"
    }
   ],
   "source": [
    "#Page\n",
    "\n",
    "page = []\n",
    "\n",
    "url = driver.find_elements_by_xpath(\"//ul[@class='pagination-container']/li/a\")[:2]\n",
    "\n",
    "for i in url:\n",
    "    page.append(i.get_attribute(\"href\"))\n",
    "page"
   ]
  },
  {
   "cell_type": "code",
   "execution_count": 27,
   "metadata": {},
   "outputs": [
    {
     "data": {
      "text/plain": [
       "100"
      ]
     },
     "execution_count": 27,
     "metadata": {},
     "output_type": "execute_result"
    }
   ],
   "source": [
    "#Brand Name\n",
    "\n",
    "Brand = []\n",
    "\n",
    "for page in range(1,4):\n",
    "    brand= driver.find_elements_by_xpath(\"//h3[@class='product-brand']\")\n",
    "    for i in brand:\n",
    "        Brand.append(i.text)\n",
    "        \n",
    "Brand = Brand[:100]\n",
    "     \n",
    "len(Brand)"
   ]
  },
  {
   "cell_type": "code",
   "execution_count": 28,
   "metadata": {},
   "outputs": [
    {
     "data": {
      "text/plain": [
       "100"
      ]
     },
     "execution_count": 28,
     "metadata": {},
     "output_type": "execute_result"
    }
   ],
   "source": [
    "#Product_Description\n",
    "\n",
    "Product_Description = []\n",
    "\n",
    "for page in range(1,3):\n",
    "    pd = driver.find_elements_by_xpath(\"//h4[@class='product-product']\")\n",
    "    for i in pd:\n",
    "        Product_Description.append(i.text)\n",
    "\n",
    "Product_Description = Product_Description[:100]\n",
    "\n",
    "len(Product_Description)"
   ]
  },
  {
   "cell_type": "code",
   "execution_count": 41,
   "metadata": {},
   "outputs": [
    {
     "data": {
      "text/plain": [
       "100"
      ]
     },
     "execution_count": 41,
     "metadata": {},
     "output_type": "execute_result"
    }
   ],
   "source": [
    "#Price\n",
    "\n",
    "Price = []\n",
    "\n",
    "for :\n",
    "    p = driver.find_elements_by_xpath(\"//div[@class='product-price']\")\n",
    "    for i in p:\n",
    "        Price.append(i.text)\n",
    "\n",
    "Price = Price[:100]\n",
    "\n",
    "len(Price)"
   ]
  },
  {
   "cell_type": "code",
   "execution_count": 42,
   "metadata": {},
   "outputs": [],
   "source": [
    "import pandas as pd"
   ]
  },
  {
   "cell_type": "code",
   "execution_count": 43,
   "metadata": {},
   "outputs": [
    {
     "data": {
      "text/html": [
       "<div>\n",
       "<style scoped>\n",
       "    .dataframe tbody tr th:only-of-type {\n",
       "        vertical-align: middle;\n",
       "    }\n",
       "\n",
       "    .dataframe tbody tr th {\n",
       "        vertical-align: top;\n",
       "    }\n",
       "\n",
       "    .dataframe thead th {\n",
       "        text-align: right;\n",
       "    }\n",
       "</style>\n",
       "<table border=\"1\" class=\"dataframe\">\n",
       "  <thead>\n",
       "    <tr style=\"text-align: right;\">\n",
       "      <th></th>\n",
       "      <th>Brand</th>\n",
       "      <th>Product_Description</th>\n",
       "      <th>Price</th>\n",
       "    </tr>\n",
       "  </thead>\n",
       "  <tbody>\n",
       "    <tr>\n",
       "      <th>1</th>\n",
       "      <td>Nike</td>\n",
       "      <td>Men AIR ZOOM Running Shoes</td>\n",
       "      <td>Rs. 8236Rs. 10295(20% OFF)</td>\n",
       "    </tr>\n",
       "    <tr>\n",
       "      <th>2</th>\n",
       "      <td>Nike</td>\n",
       "      <td>Men JOYRIDE Running Shoes</td>\n",
       "      <td>Rs. 10496Rs. 14995(30% OFF)</td>\n",
       "    </tr>\n",
       "    <tr>\n",
       "      <th>3</th>\n",
       "      <td>Nike</td>\n",
       "      <td>AIR ZOOM PEGASUS Running Shoes</td>\n",
       "      <td>Rs. 11495</td>\n",
       "    </tr>\n",
       "    <tr>\n",
       "      <th>4</th>\n",
       "      <td>Nike</td>\n",
       "      <td>Men KD13 EP Basketball Shoes</td>\n",
       "      <td>Rs. 12995</td>\n",
       "    </tr>\n",
       "    <tr>\n",
       "      <th>5</th>\n",
       "      <td>ALDO</td>\n",
       "      <td>Men Sneakers</td>\n",
       "      <td>Rs. 9999</td>\n",
       "    </tr>\n",
       "    <tr>\n",
       "      <th>...</th>\n",
       "      <td>...</td>\n",
       "      <td>...</td>\n",
       "      <td>...</td>\n",
       "    </tr>\n",
       "    <tr>\n",
       "      <th>96</th>\n",
       "      <td>ALDO</td>\n",
       "      <td>Women Sandals</td>\n",
       "      <td>Rs. 8999</td>\n",
       "    </tr>\n",
       "    <tr>\n",
       "      <th>97</th>\n",
       "      <td>Hush Puppies</td>\n",
       "      <td>Men Solid Leather Formal Derbys</td>\n",
       "      <td>Rs. 9999</td>\n",
       "    </tr>\n",
       "    <tr>\n",
       "      <th>98</th>\n",
       "      <td>Hush Puppies</td>\n",
       "      <td>Men Solid Leather Formal Slip-Ons</td>\n",
       "      <td>Rs. 9999</td>\n",
       "    </tr>\n",
       "    <tr>\n",
       "      <th>99</th>\n",
       "      <td>Skechers</td>\n",
       "      <td>Men Flex Advantage 4.0Upstream</td>\n",
       "      <td>Rs. 6999</td>\n",
       "    </tr>\n",
       "    <tr>\n",
       "      <th>100</th>\n",
       "      <td>Puma</td>\n",
       "      <td>Men Football Shoes</td>\n",
       "      <td>Rs. 8499Rs. 16999(50% OFF)</td>\n",
       "    </tr>\n",
       "  </tbody>\n",
       "</table>\n",
       "<p>100 rows × 3 columns</p>\n",
       "</div>"
      ],
      "text/plain": [
       "            Brand                Product_Description  \\\n",
       "1            Nike         Men AIR ZOOM Running Shoes   \n",
       "2            Nike          Men JOYRIDE Running Shoes   \n",
       "3            Nike     AIR ZOOM PEGASUS Running Shoes   \n",
       "4            Nike       Men KD13 EP Basketball Shoes   \n",
       "5            ALDO                       Men Sneakers   \n",
       "..            ...                                ...   \n",
       "96           ALDO                      Women Sandals   \n",
       "97   Hush Puppies    Men Solid Leather Formal Derbys   \n",
       "98   Hush Puppies  Men Solid Leather Formal Slip-Ons   \n",
       "99       Skechers     Men Flex Advantage 4.0Upstream   \n",
       "100          Puma                 Men Football Shoes   \n",
       "\n",
       "                           Price  \n",
       "1     Rs. 8236Rs. 10295(20% OFF)  \n",
       "2    Rs. 10496Rs. 14995(30% OFF)  \n",
       "3                      Rs. 11495  \n",
       "4                      Rs. 12995  \n",
       "5                       Rs. 9999  \n",
       "..                           ...  \n",
       "96                      Rs. 8999  \n",
       "97                      Rs. 9999  \n",
       "98                      Rs. 9999  \n",
       "99                      Rs. 6999  \n",
       "100   Rs. 8499Rs. 16999(50% OFF)  \n",
       "\n",
       "[100 rows x 3 columns]"
      ]
     },
     "execution_count": 43,
     "metadata": {},
     "output_type": "execute_result"
    }
   ],
   "source": [
    "data =list(zip(Brand,Product_Description,Price))\n",
    "\n",
    "Myntra_Shoes = pd.DataFrame(data = data, columns = ['Brand','Product_Description','Price'], index = np.arange(1,101,1))\n",
    "\n",
    "Myntra_Shoes"
   ]
  },
  {
   "cell_type": "code",
   "execution_count": 44,
   "metadata": {},
   "outputs": [],
   "source": [
    "driver.close()"
   ]
  },
  {
   "cell_type": "markdown",
   "metadata": {},
   "source": [
    "### Q10: Go to webpage https://www.amazon.in/\n",
    "Enter “Laptop” in the search field and then click the search icon.\n",
    "Then set CPU Type filter to “Intel Core i7” and “Intel Core i9” as shown in the below image:\n",
    "\n",
    "After setting the filters scrape first 10 laptops data. You have to scrape 3 attributes for each laptop:\n",
    "1. title\n",
    "2. Ratings\n",
    "3. Price"
   ]
  },
  {
   "cell_type": "code",
   "execution_count": 82,
   "metadata": {},
   "outputs": [],
   "source": [
    "driver = webdriver.Chrome(r\"C:\\Users\\OWNER\\Downloads\\chromedriver.exe\")\n",
    "amazon = driver.get(\"https://www.amazon.in/\")"
   ]
  },
  {
   "cell_type": "code",
   "execution_count": 83,
   "metadata": {},
   "outputs": [],
   "source": [
    "search = driver.find_element_by_xpath(\"/html/body/div[1]/header/div/div[1]/div[2]/div/form/div[2]/div[1]/input\")\n",
    "search.send_keys(\"Laptop\")\n",
    "click = driver.find_element_by_xpath(\"/html/body/div[1]/header/div/div[1]/div[2]/div/form/div[3]/div/span/input\").click()"
   ]
  },
  {
   "cell_type": "code",
   "execution_count": 85,
   "metadata": {},
   "outputs": [],
   "source": [
    "#Setting filter for Intel Core i7 and i9\n",
    "filters = driver.find_element_by_xpath(\"/html/body/div[1]/div[2]/div[1]/div/div[2]/div/div[3]/span/div[1]/span/div/div/div[5]/ul[1]/li[26]/span/a/span\").click()"
   ]
  },
  {
   "cell_type": "code",
   "execution_count": 86,
   "metadata": {},
   "outputs": [],
   "source": [
    "filters1 = driver.find_element_by_xpath(\"/html/body/div[1]/div[2]/div[1]/div/div[2]/div/div[3]/span/div[1]/span/div/div/div[5]/ul[1]/li[28]/span/a/span\").click()"
   ]
  },
  {
   "cell_type": "code",
   "execution_count": 109,
   "metadata": {},
   "outputs": [
    {
     "data": {
      "text/plain": [
       "['https://www.amazon.in/HP-Pavilion-Graphics-35-56cms-14-dv0058TU/dp/B08WB857GB/ref=sr_1_1?dchild=1&keywords=Laptop&qid=1625493864&refinements=p_n_feature_thirteen_browse-bin%3A12598163031%7C16757432031&rnid=12598141031&s=computers&sr=1-1',\n",
       " 'https://www.amazon.in/Notebook-Horizon-i7-10510U-Graphics-XMA1904-AF/dp/B089F2W1KW/ref=sr_1_2?dchild=1&keywords=Laptop&qid=1625493864&refinements=p_n_feature_thirteen_browse-bin%3A12598163031%7C16757432031&rnid=12598141031&s=computers&sr=1-2',\n",
       " 'https://www.amazon.in/HP-Pavilion-Touchscreen-Convertible-14-dw1040TU/dp/B08R843NHL/ref=sr_1_3?dchild=1&keywords=Laptop&qid=1625493864&refinements=p_n_feature_thirteen_browse-bin%3A12598163031%7C16757432031&rnid=12598141031&s=computers&sr=1-3',\n",
       " 'https://www.amazon.in/HP-Pavilion-Processor-15-6-inch-15-dk1509TX/dp/B08ZN7GBQ5/ref=sr_1_4?dchild=1&keywords=Laptop&qid=1625493864&refinements=p_n_feature_thirteen_browse-bin%3A12598163031%7C16757432031&rnid=12598141031&s=computers&sr=1-4',\n",
       " 'https://www.amazon.in/Lenovo-Touchscreen-Fingerprint-Aluminium-82BH004HIN/dp/B08P3M22QQ/ref=sr_1_5?dchild=1&keywords=Laptop&qid=1625493864&refinements=p_n_feature_thirteen_browse-bin%3A12598163031%7C16757432031&rnid=12598141031&s=computers&sr=1-5',\n",
       " 'https://www.amazon.in/HP-35-56cms-i7-1165G7-Windows-14s-dr2007TU/dp/B08N57LR4X/ref=sr_1_6?dchild=1&keywords=Laptop&qid=1625493864&refinements=p_n_feature_thirteen_browse-bin%3A12598163031%7C16757432031&rnid=12598141031&s=computers&sr=1-6',\n",
       " 'https://www.amazon.in/ASUS-VivoBook-i7-1165G7-Graphics-S433EA-AM702TS/dp/B08SN9GJXH/ref=sr_1_7?dchild=1&keywords=Laptop&qid=1625493864&refinements=p_n_feature_thirteen_browse-bin%3A12598163031%7C16757432031&rnid=12598141031&s=computers&sr=1-7',\n",
       " 'https://www.amazon.in/LifeDigital-Laptop-Intel%C2%AE-Storage-Windows/dp/B08HRMHZ8J/ref=sr_1_8?dchild=1&keywords=Laptop&qid=1625493864&refinements=p_n_feature_thirteen_browse-bin%3A12598163031%7C16757432031&rnid=12598141031&s=computers&sr=1-8',\n",
       " 'https://www.amazon.in/Dell-5410-i7-1165G7-Integrated-D560469WIN9S/dp/B095S9NJ4S/ref=sr_1_9?dchild=1&keywords=Laptop&qid=1625493864&refinements=p_n_feature_thirteen_browse-bin%3A12598163031%7C16757432031&rnid=12598141031&s=computers&sr=1-9',\n",
       " 'https://www.amazon.in/Renewed-Lenovo-80UE00BLIH-Windows-Champagne/dp/B07K23KHJD/ref=sr_1_10?dchild=1&keywords=Laptop&qid=1625493864&refinements=p_n_feature_thirteen_browse-bin%3A12598163031%7C16757432031&rnid=12598141031&s=computers&sr=1-10',\n",
       " 'https://www.amazon.in/Dell-35-56cms-1366x768-Integrated-Graphics/dp/B097PLFY4B/ref=sr_1_11?dchild=1&keywords=Laptop&qid=1625493864&refinements=p_n_feature_thirteen_browse-bin%3A12598163031%7C16757432031&rnid=12598141031&s=computers&sr=1-11',\n",
       " 'https://www.amazon.in/Dell-1366x768-Integrated-Graphics-Latitude/dp/B0974WY91B/ref=sr_1_12?dchild=1&keywords=Laptop&qid=1625493864&refinements=p_n_feature_thirteen_browse-bin%3A12598163031%7C16757432031&rnid=12598141031&s=computers&sr=1-12',\n",
       " 'https://www.amazon.in/gp/slredirect/picassoRedirect.html/ref=pa_sp_mtf_computers_sr_pg1_1?ie=UTF8&adId=A02653902UKZ2EJPLDFRL&url=%2FNotebook-Horizon-i5-10210U-Graphics-XMA1904-AR%2Fdp%2FB089F5JGM1%2Fref%3Dsr_1_13_sspa%3Fdchild%3D1%26keywords%3DLaptop%26qid%3D1625493864%26refinements%3Dp_n_feature_thirteen_browse-bin%253A12598163031%257C16757432031%26rnid%3D12598141031%26s%3Dcomputers%26sr%3D1-13-spons%26psc%3D1&qualifier=1625493864&id=3302169267126853&widgetName=sp_mtf',\n",
       " 'https://www.amazon.in/Dell-1366x768-Integrated-Graphics-Latitude/dp/B0974WWK87/ref=sr_1_14?dchild=1&keywords=Laptop&qid=1625493864&refinements=p_n_feature_thirteen_browse-bin%3A12598163031%7C16757432031&rnid=12598141031&s=computers&sr=1-14',\n",
       " 'https://www.amazon.in/Dell-35-56cms-1366x768-Integrated-Graphics/dp/B097PL7VX8/ref=sr_1_15?dchild=1&keywords=Laptop&qid=1625493864&refinements=p_n_feature_thirteen_browse-bin%3A12598163031%7C16757432031&rnid=12598141031&s=computers&sr=1-15',\n",
       " 'https://www.amazon.in/Dell-1366x768-Integrated-Graphics-Latitude/dp/B0974W4W9W/ref=sr_1_16?dchild=1&keywords=Laptop&qid=1625493864&refinements=p_n_feature_thirteen_browse-bin%3A12598163031%7C16757432031&rnid=12598141031&s=computers&sr=1-16',\n",
       " 'https://www.amazon.in/Dell-1366x768-Integrated-Graphics-Latitude/dp/B0974XBX64/ref=sr_1_17?dchild=1&keywords=Laptop&qid=1625493864&refinements=p_n_feature_thirteen_browse-bin%3A12598163031%7C16757432031&rnid=12598141031&s=computers&sr=1-17',\n",
       " 'https://www.amazon.in/Dell-13-3-inch-i7-8550U-Integrated-Graphics/dp/B08MJDHDBL/ref=sr_1_18?dchild=1&keywords=Laptop&qid=1625493864&refinements=p_n_feature_thirteen_browse-bin%3A12598163031%7C16757432031&rnid=12598141031&s=computers&sr=1-18',\n",
       " 'https://www.amazon.in/GF63-Thin-10SCSR-019IN-i7-10750H-9S7-16R412-019/dp/B0897SXQNN/ref=sr_1_19?dchild=1&keywords=Laptop&qid=1625493864&refinements=p_n_feature_thirteen_browse-bin%3A12598163031%7C16757432031&rnid=12598141031&s=computers&sr=1-19',\n",
       " 'https://www.amazon.in/Renewed-Lenovo-ThinkPad-Graphics-20S0S1MC00/dp/B0983DH45B/ref=sr_1_20?dchild=1&keywords=Laptop&qid=1625493864&refinements=p_n_feature_thirteen_browse-bin%3A12598163031%7C16757432031&rnid=12598141031&s=computers&sr=1-20',\n",
       " 'https://www.amazon.in/Dell-13-3-inch-i7-8550U-Integrated-Graphics/dp/B09813L8BX/ref=sr_1_21?dchild=1&keywords=Laptop&qid=1625493864&refinements=p_n_feature_thirteen_browse-bin%3A12598163031%7C16757432031&rnid=12598141031&s=computers&sr=1-21',\n",
       " 'https://www.amazon.in/Nexstgo-NP15N1IN008P-15-6-inch-i7-8550U-Integrated/dp/B07KGP3HP3/ref=sr_1_22?dchild=1&keywords=Laptop&qid=1625493864&refinements=p_n_feature_thirteen_browse-bin%3A12598163031%7C16757432031&rnid=12598141031&s=computers&sr=1-22',\n",
       " 'https://www.amazon.in/Renewed-HP-15-6-Inch-Graphics-Zbook/dp/B0912DLKWB/ref=sr_1_23?dchild=1&keywords=Laptop&qid=1625493864&refinements=p_n_feature_thirteen_browse-bin%3A12598163031%7C16757432031&rnid=12598141031&s=computers&sr=1-23',\n",
       " 'https://www.amazon.in/Samsung-Display-Processor-Bluetooth-Enabled-NP930QCG-K01US/dp/B085D2HHBT/ref=sr_1_24?dchild=1&keywords=Laptop&qid=1625493864&refinements=p_n_feature_thirteen_browse-bin%3A12598163031%7C16757432031&rnid=12598141031&s=computers&sr=1-24',\n",
       " 'https://www.amazon.in/Lenovo-Touchscreen-Fingerprint-Graphite-82HS0092IN/dp/B08WRZQBQ6/ref=sr_1_25?dchild=1&keywords=Laptop&qid=1625493864&refinements=p_n_feature_thirteen_browse-bin%3A12598163031%7C16757432031&rnid=12598141031&s=computers&sr=1-25',\n",
       " 'https://www.amazon.in/HP-Business-Additional-Accidental-Protection/dp/B000RTAX4W/ref=pd_rhf_se_s_pd_crcd_1/257-8794964-2019745?pd_rd_w=SwkoW&pf_rd_p=a62021ef-ed94-4c60-92cc-5878fb8afd3c&pf_rd_r=PWR2G19T7T6TKRMAE3AY&pd_rd_r=fd290346-6ab2-4b04-b395-ca8ede8518da&pd_rd_wg=IPvuY&pd_rd_i=B000RTAX4W&psc=1',\n",
       " 'https://www.amazon.in/GIZGA-essentials-Laptop-Sleeve-PouchMacbook/dp/B084PBXVMX/ref=pd_rhf_se_s_pd_crcd_2/257-8794964-2019745?pd_rd_w=SwkoW&pf_rd_p=a62021ef-ed94-4c60-92cc-5878fb8afd3c&pf_rd_r=PWR2G19T7T6TKRMAE3AY&pd_rd_r=fd290346-6ab2-4b04-b395-ca8ede8518da&pd_rd_wg=IPvuY&pd_rd_i=B084PBXVMX&psc=1',\n",
       " 'https://www.amazon.in/HP-Additional-Warranty-Support-Pavilion/dp/B08YDCSDSL/ref=pd_rhf_se_s_pd_crcd_3/257-8794964-2019745?pd_rd_w=SwkoW&pf_rd_p=a62021ef-ed94-4c60-92cc-5878fb8afd3c&pf_rd_r=PWR2G19T7T6TKRMAE3AY&pd_rd_r=fd290346-6ab2-4b04-b395-ca8ede8518da&pd_rd_wg=IPvuY&pd_rd_i=B08YDCSDSL&psc=1',\n",
       " 'https://www.amazon.in/Lenovo-Touchscreen-Fingerprint-Graphite-82HS0092IN/dp/B08WRZQBQ6/ref=pd_rhf_se_s_pd_crcd_4/257-8794964-2019745?pd_rd_w=SwkoW&pf_rd_p=a62021ef-ed94-4c60-92cc-5878fb8afd3c&pf_rd_r=PWR2G19T7T6TKRMAE3AY&pd_rd_r=fd290346-6ab2-4b04-b395-ca8ede8518da&pd_rd_wg=IPvuY&pd_rd_i=B08WRZQBQ6&psc=1',\n",
       " 'https://www.amazon.in/AirCase-14-Inch-MacBook-Protective-Neoprene/dp/B07Z1Z77ZZ/ref=pd_rhf_se_s_pd_crcd_5/257-8794964-2019745?pd_rd_w=SwkoW&pf_rd_p=a62021ef-ed94-4c60-92cc-5878fb8afd3c&pf_rd_r=PWR2G19T7T6TKRMAE3AY&pd_rd_r=fd290346-6ab2-4b04-b395-ca8ede8518da&pd_rd_wg=IPvuY&pd_rd_i=B07Z1Z77ZZ&psc=1']"
      ]
     },
     "execution_count": 109,
     "metadata": {},
     "output_type": "execute_result"
    }
   ],
   "source": [
    "#Pages\n",
    "\n",
    "page = []\n",
    "\n",
    "url = driver.find_elements_by_xpath(\"//a[@class='a-link-normal a-text-normal']\")\n",
    "\n",
    "for i in url:\n",
    "    page.append(i.get_attribute(\"href\"))\n",
    "page"
   ]
  },
  {
   "cell_type": "code",
   "execution_count": 111,
   "metadata": {},
   "outputs": [],
   "source": [
    "Title = []\n",
    "\n",
    "\n",
    "for i in page[:10]:\n",
    "    driver.get(i)\n",
    "    time.sleep(6)\n",
    "    \n",
    "    try:\n",
    "        t = driver.find_element_by_xpath(\"//h1[@class='a-size-large a-spacing-none']\")\n",
    "        Title.append(t.text)\n",
    "    except NoSuchElementException:\n",
    "        Title.append('-')"
   ]
  },
  {
   "cell_type": "code",
   "execution_count": 103,
   "metadata": {},
   "outputs": [],
   "source": [
    "Ratings = []\n",
    "\n",
    "\n",
    "for i in page[:10]:\n",
    "    driver.get(i)\n",
    "    time.sleep(6)\n",
    "    \n",
    "    try:\n",
    "        rate = driver.find_element_by_xpath(\"//span[@class='a-size-medium a-color-base']\")\n",
    "        Ratings.append(rate.text)\n",
    "    except NoSuchElementException:\n",
    "        Ratings.append('-')"
   ]
  },
  {
   "cell_type": "code",
   "execution_count": 104,
   "metadata": {},
   "outputs": [
    {
     "data": {
      "text/plain": [
       "['4.5 out of 5',\n",
       " '4.4 out of 5',\n",
       " '3.9 out of 5',\n",
       " '4.2 out of 5',\n",
       " '4.1 out of 5',\n",
       " '4.6 out of 5',\n",
       " '4.4 out of 5',\n",
       " '3.7 out of 5',\n",
       " '-',\n",
       " '4.5 out of 5']"
      ]
     },
     "execution_count": 104,
     "metadata": {},
     "output_type": "execute_result"
    }
   ],
   "source": [
    "Ratings"
   ]
  },
  {
   "cell_type": "code",
   "execution_count": 105,
   "metadata": {},
   "outputs": [],
   "source": [
    "Price = []\n",
    "\n",
    "\n",
    "for i in page[:10]:\n",
    "    driver.get(i)\n",
    "    time.sleep(6)\n",
    "    p = driver.find_element_by_xpath(\"//span[@class='a-size-medium a-color-price priceBlockBuyingPriceString']\")\n",
    "    Price.append(p.text)"
   ]
  },
  {
   "cell_type": "code",
   "execution_count": 106,
   "metadata": {},
   "outputs": [
    {
     "data": {
      "text/plain": [
       "['₹ 84,990.00',\n",
       " '₹ 59,999.00',\n",
       " '₹ 78,903.00',\n",
       " '₹ 86,990.00',\n",
       " '₹ 94,490.00',\n",
       " '₹ 88,990.00',\n",
       " '₹ 76,990.00',\n",
       " '₹ 40,932.00',\n",
       " '₹ 89,490.00',\n",
       " '₹ 91,500.00']"
      ]
     },
     "execution_count": 106,
     "metadata": {},
     "output_type": "execute_result"
    }
   ],
   "source": [
    "Price"
   ]
  },
  {
   "cell_type": "code",
   "execution_count": 112,
   "metadata": {},
   "outputs": [
    {
     "data": {
      "text/html": [
       "<div>\n",
       "<style scoped>\n",
       "    .dataframe tbody tr th:only-of-type {\n",
       "        vertical-align: middle;\n",
       "    }\n",
       "\n",
       "    .dataframe tbody tr th {\n",
       "        vertical-align: top;\n",
       "    }\n",
       "\n",
       "    .dataframe thead th {\n",
       "        text-align: right;\n",
       "    }\n",
       "</style>\n",
       "<table border=\"1\" class=\"dataframe\">\n",
       "  <thead>\n",
       "    <tr style=\"text-align: right;\">\n",
       "      <th></th>\n",
       "      <th>Title</th>\n",
       "      <th>Ratings</th>\n",
       "      <th>Price</th>\n",
       "    </tr>\n",
       "  </thead>\n",
       "  <tbody>\n",
       "    <tr>\n",
       "      <th>1</th>\n",
       "      <td>HP Pavilion (2021) Thin &amp; Light 11th Gen Core ...</td>\n",
       "      <td>4.5 out of 5</td>\n",
       "      <td>₹ 84,990.00</td>\n",
       "    </tr>\n",
       "    <tr>\n",
       "      <th>2</th>\n",
       "      <td>Mi Notebook Horizon Edition 14 Intel Core i7-1...</td>\n",
       "      <td>4.4 out of 5</td>\n",
       "      <td>₹ 59,999.00</td>\n",
       "    </tr>\n",
       "    <tr>\n",
       "      <th>3</th>\n",
       "      <td>HP Pavilion x360 (2021) 14\" (35.56cms) FHD Tou...</td>\n",
       "      <td>3.9 out of 5</td>\n",
       "      <td>₹ 78,903.00</td>\n",
       "    </tr>\n",
       "    <tr>\n",
       "      <th>4</th>\n",
       "      <td>HP Pavilion Gaming 10th Gen Intel Core i7 Proc...</td>\n",
       "      <td>4.2 out of 5</td>\n",
       "      <td>₹ 86,990.00</td>\n",
       "    </tr>\n",
       "    <tr>\n",
       "      <th>5</th>\n",
       "      <td>Lenovo Yoga 7 11th Gen Intel Core i7 14\" (35.5...</td>\n",
       "      <td>4.1 out of 5</td>\n",
       "      <td>₹ 94,490.00</td>\n",
       "    </tr>\n",
       "    <tr>\n",
       "      <th>6</th>\n",
       "      <td>HP 14 Thin &amp; Light 14\" (35.56cms) FHD Laptop (...</td>\n",
       "      <td>4.6 out of 5</td>\n",
       "      <td>₹ 88,990.00</td>\n",
       "    </tr>\n",
       "    <tr>\n",
       "      <th>7</th>\n",
       "      <td>ASUS VivoBook S S14 Intel Core i7-1165G7 11th ...</td>\n",
       "      <td>4.4 out of 5</td>\n",
       "      <td>₹ 76,990.00</td>\n",
       "    </tr>\n",
       "    <tr>\n",
       "      <th>8</th>\n",
       "      <td>Life Digital Laptop 15.6-inch (39.62 cms) (Int...</td>\n",
       "      <td>3.7 out of 5</td>\n",
       "      <td>₹ 40,932.00</td>\n",
       "    </tr>\n",
       "    <tr>\n",
       "      <th>9</th>\n",
       "      <td>Dell Inspiron 5410 14\" FHD Touch Display 2in1 ...</td>\n",
       "      <td>-</td>\n",
       "      <td>₹ 89,490.00</td>\n",
       "    </tr>\n",
       "    <tr>\n",
       "      <th>10</th>\n",
       "      <td>(Renewed) Lenovo Yoga 900 Laptop 80UE00BLIH (C...</td>\n",
       "      <td>4.5 out of 5</td>\n",
       "      <td>₹ 91,500.00</td>\n",
       "    </tr>\n",
       "  </tbody>\n",
       "</table>\n",
       "</div>"
      ],
      "text/plain": [
       "                                                Title       Ratings  \\\n",
       "1   HP Pavilion (2021) Thin & Light 11th Gen Core ...  4.5 out of 5   \n",
       "2   Mi Notebook Horizon Edition 14 Intel Core i7-1...  4.4 out of 5   \n",
       "3   HP Pavilion x360 (2021) 14\" (35.56cms) FHD Tou...  3.9 out of 5   \n",
       "4   HP Pavilion Gaming 10th Gen Intel Core i7 Proc...  4.2 out of 5   \n",
       "5   Lenovo Yoga 7 11th Gen Intel Core i7 14\" (35.5...  4.1 out of 5   \n",
       "6   HP 14 Thin & Light 14\" (35.56cms) FHD Laptop (...  4.6 out of 5   \n",
       "7   ASUS VivoBook S S14 Intel Core i7-1165G7 11th ...  4.4 out of 5   \n",
       "8   Life Digital Laptop 15.6-inch (39.62 cms) (Int...  3.7 out of 5   \n",
       "9   Dell Inspiron 5410 14\" FHD Touch Display 2in1 ...             -   \n",
       "10  (Renewed) Lenovo Yoga 900 Laptop 80UE00BLIH (C...  4.5 out of 5   \n",
       "\n",
       "          Price  \n",
       "1   ₹ 84,990.00  \n",
       "2   ₹ 59,999.00  \n",
       "3   ₹ 78,903.00  \n",
       "4   ₹ 86,990.00  \n",
       "5   ₹ 94,490.00  \n",
       "6   ₹ 88,990.00  \n",
       "7   ₹ 76,990.00  \n",
       "8   ₹ 40,932.00  \n",
       "9   ₹ 89,490.00  \n",
       "10  ₹ 91,500.00  "
      ]
     },
     "execution_count": 112,
     "metadata": {},
     "output_type": "execute_result"
    }
   ],
   "source": [
    "data =list(zip(Title,Ratings,Price))\n",
    "\n",
    "Amazon_Laptops = pd.DataFrame(data = data, columns = ['Title','Ratings','Price'], index = np.arange(1,11,1))\n",
    "\n",
    "Amazon_Laptops"
   ]
  },
  {
   "cell_type": "code",
   "execution_count": null,
   "metadata": {},
   "outputs": [],
   "source": []
  }
 ],
 "metadata": {
  "kernelspec": {
   "display_name": "Python 3",
   "language": "python",
   "name": "python3"
  },
  "language_info": {
   "codemirror_mode": {
    "name": "ipython",
    "version": 3
   },
   "file_extension": ".py",
   "mimetype": "text/x-python",
   "name": "python",
   "nbconvert_exporter": "python",
   "pygments_lexer": "ipython3",
   "version": "3.8.5"
  }
 },
 "nbformat": 4,
 "nbformat_minor": 4
}
