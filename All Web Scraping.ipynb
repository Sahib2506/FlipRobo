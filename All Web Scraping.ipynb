{
 "cells": [
  {
   "cell_type": "markdown",
   "metadata": {},
   "source": [
    "## Name : Sahib Hussain\n",
    "### INTERNSHIP 17"
   ]
  },
  {
   "cell_type": "code",
   "execution_count": 1,
   "metadata": {},
   "outputs": [
    {
     "name": "stdout",
     "output_type": "stream",
     "text": [
      "Requirement already satisfied: bs4 in c:\\users\\owner\\anaconda3\\lib\\site-packages (0.0.1)\n",
      "Requirement already satisfied: beautifulsoup4 in c:\\users\\owner\\anaconda3\\lib\\site-packages (from bs4) (4.9.3)\n",
      "Requirement already satisfied: soupsieve>1.2; python_version >= \"3.0\" in c:\\users\\owner\\anaconda3\\lib\\site-packages (from beautifulsoup4->bs4) (2.0.1)\n",
      "Requirement already satisfied: requests in c:\\users\\owner\\anaconda3\\lib\\site-packages (2.24.0)\n",
      "Requirement already satisfied: urllib3!=1.25.0,!=1.25.1,<1.26,>=1.21.1 in c:\\users\\owner\\anaconda3\\lib\\site-packages (from requests) (1.25.11)\n",
      "Requirement already satisfied: chardet<4,>=3.0.2 in c:\\users\\owner\\anaconda3\\lib\\site-packages (from requests) (3.0.4)\n",
      "Requirement already satisfied: certifi>=2017.4.17 in c:\\users\\owner\\anaconda3\\lib\\site-packages (from requests) (2020.6.20)\n",
      "Requirement already satisfied: idna<3,>=2.5 in c:\\users\\owner\\anaconda3\\lib\\site-packages (from requests) (2.10)\n"
     ]
    }
   ],
   "source": [
    "!pip install bs4\n",
    "!pip install requests"
   ]
  },
  {
   "cell_type": "code",
   "execution_count": 2,
   "metadata": {},
   "outputs": [],
   "source": [
    "from bs4 import BeautifulSoup\n",
    "import requests\n",
    "import pandas as pd\n",
    "import numpy as np"
   ]
  },
  {
   "cell_type": "markdown",
   "metadata": {},
   "source": [
    "### 1. Write a python program to display all the header tags from ‘en.wikipedia.org/wiki/Main_Page’\n"
   ]
  },
  {
   "cell_type": "code",
   "execution_count": 8,
   "metadata": {},
   "outputs": [],
   "source": [
    "wikipedia = requests.get(\"https://en.wikipedia.org/wiki/Main_Pag\")"
   ]
  },
  {
   "cell_type": "code",
   "execution_count": 9,
   "metadata": {},
   "outputs": [],
   "source": [
    "soup = BeautifulSoup(wikipedia.content)"
   ]
  },
  {
   "cell_type": "code",
   "execution_count": 10,
   "metadata": {},
   "outputs": [],
   "source": [
    "headers = soup.find_all('h2', class_='mp-h2')"
   ]
  },
  {
   "cell_type": "code",
   "execution_count": 11,
   "metadata": {},
   "outputs": [
    {
     "data": {
      "text/plain": [
       "[\"From today's featured article\",\n",
       " 'Did you know\\xa0...',\n",
       " 'In the news',\n",
       " 'On this day',\n",
       " \"Today's featured picture\",\n",
       " 'Other areas of Wikipedia',\n",
       " \"Wikipedia's sister projects\",\n",
       " 'Wikipedia languages']"
      ]
     },
     "execution_count": 11,
     "metadata": {},
     "output_type": "execute_result"
    }
   ],
   "source": [
    "tags = []\n",
    "\n",
    "for i in headers:\n",
    "    tags.append(i.text)\n",
    "tags"
   ]
  },
  {
   "cell_type": "code",
   "execution_count": 12,
   "metadata": {},
   "outputs": [],
   "source": [
    "Header_tags = pd.DataFrame(data=tags,columns=['Heading'], index=np.arange(1,9,1))"
   ]
  },
  {
   "cell_type": "code",
   "execution_count": 13,
   "metadata": {},
   "outputs": [
    {
     "data": {
      "text/html": [
       "<div>\n",
       "<style scoped>\n",
       "    .dataframe tbody tr th:only-of-type {\n",
       "        vertical-align: middle;\n",
       "    }\n",
       "\n",
       "    .dataframe tbody tr th {\n",
       "        vertical-align: top;\n",
       "    }\n",
       "\n",
       "    .dataframe thead th {\n",
       "        text-align: right;\n",
       "    }\n",
       "</style>\n",
       "<table border=\"1\" class=\"dataframe\">\n",
       "  <thead>\n",
       "    <tr style=\"text-align: right;\">\n",
       "      <th></th>\n",
       "      <th>Heading</th>\n",
       "    </tr>\n",
       "  </thead>\n",
       "  <tbody>\n",
       "    <tr>\n",
       "      <th>1</th>\n",
       "      <td>From today's featured article</td>\n",
       "    </tr>\n",
       "    <tr>\n",
       "      <th>2</th>\n",
       "      <td>Did you know ...</td>\n",
       "    </tr>\n",
       "    <tr>\n",
       "      <th>3</th>\n",
       "      <td>In the news</td>\n",
       "    </tr>\n",
       "    <tr>\n",
       "      <th>4</th>\n",
       "      <td>On this day</td>\n",
       "    </tr>\n",
       "    <tr>\n",
       "      <th>5</th>\n",
       "      <td>Today's featured picture</td>\n",
       "    </tr>\n",
       "    <tr>\n",
       "      <th>6</th>\n",
       "      <td>Other areas of Wikipedia</td>\n",
       "    </tr>\n",
       "    <tr>\n",
       "      <th>7</th>\n",
       "      <td>Wikipedia's sister projects</td>\n",
       "    </tr>\n",
       "    <tr>\n",
       "      <th>8</th>\n",
       "      <td>Wikipedia languages</td>\n",
       "    </tr>\n",
       "  </tbody>\n",
       "</table>\n",
       "</div>"
      ],
      "text/plain": [
       "                         Heading\n",
       "1  From today's featured article\n",
       "2               Did you know ...\n",
       "3                    In the news\n",
       "4                    On this day\n",
       "5       Today's featured picture\n",
       "6       Other areas of Wikipedia\n",
       "7    Wikipedia's sister projects\n",
       "8            Wikipedia languages"
      ]
     },
     "execution_count": 13,
     "metadata": {},
     "output_type": "execute_result"
    }
   ],
   "source": [
    "Header_tags"
   ]
  },
  {
   "cell_type": "code",
   "execution_count": 14,
   "metadata": {},
   "outputs": [],
   "source": [
    "Header_tags.to_csv('Header_tags.csv')"
   ]
  },
  {
   "cell_type": "markdown",
   "metadata": {},
   "source": [
    "### 2. Write a python program to display IMDB’s Top rated 100 movies’ data (i.e. Name, IMDB rating, Year of release) and make data frame."
   ]
  },
  {
   "cell_type": "code",
   "execution_count": 18,
   "metadata": {},
   "outputs": [],
   "source": [
    "imdb = requests.get('https://www.imdb.com/search/title/?title_type=feature,tv_movie&groups=top_100&sort=user_rating,desc&count=100&view=simple')"
   ]
  },
  {
   "cell_type": "code",
   "execution_count": 19,
   "metadata": {},
   "outputs": [],
   "source": [
    "soup = BeautifulSoup(imdb.content)"
   ]
  },
  {
   "cell_type": "code",
   "execution_count": 20,
   "metadata": {},
   "outputs": [],
   "source": [
    "#Title"
   ]
  },
  {
   "cell_type": "code",
   "execution_count": 21,
   "metadata": {},
   "outputs": [],
   "source": [
    "name = soup.find_all('span', class_='lister-item-header')"
   ]
  },
  {
   "cell_type": "code",
   "execution_count": 22,
   "metadata": {},
   "outputs": [
    {
     "data": {
      "text/plain": [
       "100"
      ]
     },
     "execution_count": 22,
     "metadata": {},
     "output_type": "execute_result"
    }
   ],
   "source": [
    "title = []\n",
    "\n",
    "for i in name:\n",
    "    title.append(i.a.text) \n",
    "len(title)"
   ]
  },
  {
   "cell_type": "code",
   "execution_count": 23,
   "metadata": {},
   "outputs": [],
   "source": [
    "#Rate"
   ]
  },
  {
   "cell_type": "code",
   "execution_count": 24,
   "metadata": {},
   "outputs": [],
   "source": [
    "rate = soup.find_all('div', class_='col-imdb-rating')"
   ]
  },
  {
   "cell_type": "code",
   "execution_count": 25,
   "metadata": {},
   "outputs": [
    {
     "data": {
      "text/plain": [
       "100"
      ]
     },
     "execution_count": 25,
     "metadata": {},
     "output_type": "execute_result"
    }
   ],
   "source": [
    "rating = []\n",
    "\n",
    "for i in rate:\n",
    "    rating.append(i.text.replace('\\n','').strip()) \n",
    "len(rating)"
   ]
  },
  {
   "cell_type": "code",
   "execution_count": 26,
   "metadata": {},
   "outputs": [],
   "source": [
    "#Year"
   ]
  },
  {
   "cell_type": "code",
   "execution_count": 27,
   "metadata": {},
   "outputs": [],
   "source": [
    "year = soup.find_all('span', class_='lister-item-year text-muted unbold')"
   ]
  },
  {
   "cell_type": "code",
   "execution_count": 28,
   "metadata": {},
   "outputs": [
    {
     "data": {
      "text/plain": [
       "100"
      ]
     },
     "execution_count": 28,
     "metadata": {},
     "output_type": "execute_result"
    }
   ],
   "source": [
    "years = []\n",
    "\n",
    "for i in year:\n",
    "    years.append(i.text.replace('\\n','').strip().replace('(I)','')) \n",
    "len(years)"
   ]
  },
  {
   "cell_type": "code",
   "execution_count": 29,
   "metadata": {},
   "outputs": [],
   "source": [
    "data=list(zip(title,rating,years))"
   ]
  },
  {
   "cell_type": "code",
   "execution_count": 30,
   "metadata": {},
   "outputs": [],
   "source": [
    "IMDB_Top_100=pd.DataFrame(data=data, columns = ['Name','IMDB_Rating', 'Year_Of_Release'], index = np.arange(1,101,1))"
   ]
  },
  {
   "cell_type": "code",
   "execution_count": 31,
   "metadata": {},
   "outputs": [
    {
     "data": {
      "text/html": [
       "<div>\n",
       "<style scoped>\n",
       "    .dataframe tbody tr th:only-of-type {\n",
       "        vertical-align: middle;\n",
       "    }\n",
       "\n",
       "    .dataframe tbody tr th {\n",
       "        vertical-align: top;\n",
       "    }\n",
       "\n",
       "    .dataframe thead th {\n",
       "        text-align: right;\n",
       "    }\n",
       "</style>\n",
       "<table border=\"1\" class=\"dataframe\">\n",
       "  <thead>\n",
       "    <tr style=\"text-align: right;\">\n",
       "      <th></th>\n",
       "      <th>Name</th>\n",
       "      <th>IMDB_Rating</th>\n",
       "      <th>Year_Of_Release</th>\n",
       "    </tr>\n",
       "  </thead>\n",
       "  <tbody>\n",
       "    <tr>\n",
       "      <th>1</th>\n",
       "      <td>The Shawshank Redemption</td>\n",
       "      <td>9.3</td>\n",
       "      <td>(1994)</td>\n",
       "    </tr>\n",
       "    <tr>\n",
       "      <th>2</th>\n",
       "      <td>The Godfather</td>\n",
       "      <td>9.2</td>\n",
       "      <td>(1972)</td>\n",
       "    </tr>\n",
       "    <tr>\n",
       "      <th>3</th>\n",
       "      <td>The Dark Knight</td>\n",
       "      <td>9</td>\n",
       "      <td>(2008)</td>\n",
       "    </tr>\n",
       "    <tr>\n",
       "      <th>4</th>\n",
       "      <td>The Godfather: Part II</td>\n",
       "      <td>9</td>\n",
       "      <td>(1974)</td>\n",
       "    </tr>\n",
       "    <tr>\n",
       "      <th>5</th>\n",
       "      <td>12 Angry Men</td>\n",
       "      <td>9</td>\n",
       "      <td>(1957)</td>\n",
       "    </tr>\n",
       "    <tr>\n",
       "      <th>...</th>\n",
       "      <td>...</td>\n",
       "      <td>...</td>\n",
       "      <td>...</td>\n",
       "    </tr>\n",
       "    <tr>\n",
       "      <th>96</th>\n",
       "      <td>North by Northwest</td>\n",
       "      <td>8.3</td>\n",
       "      <td>(1959)</td>\n",
       "    </tr>\n",
       "    <tr>\n",
       "      <th>97</th>\n",
       "      <td>Vertigo</td>\n",
       "      <td>8.3</td>\n",
       "      <td>(1958)</td>\n",
       "    </tr>\n",
       "    <tr>\n",
       "      <th>98</th>\n",
       "      <td>Singin' in the Rain</td>\n",
       "      <td>8.3</td>\n",
       "      <td>(1952)</td>\n",
       "    </tr>\n",
       "    <tr>\n",
       "      <th>99</th>\n",
       "      <td>Citizen Kane</td>\n",
       "      <td>8.3</td>\n",
       "      <td>(1941)</td>\n",
       "    </tr>\n",
       "    <tr>\n",
       "      <th>100</th>\n",
       "      <td>M - Eine Stadt sucht einen Mörder</td>\n",
       "      <td>8.3</td>\n",
       "      <td>(1931)</td>\n",
       "    </tr>\n",
       "  </tbody>\n",
       "</table>\n",
       "<p>100 rows × 3 columns</p>\n",
       "</div>"
      ],
      "text/plain": [
       "                                  Name IMDB_Rating Year_Of_Release\n",
       "1             The Shawshank Redemption         9.3          (1994)\n",
       "2                        The Godfather         9.2          (1972)\n",
       "3                      The Dark Knight           9          (2008)\n",
       "4               The Godfather: Part II           9          (1974)\n",
       "5                         12 Angry Men           9          (1957)\n",
       "..                                 ...         ...             ...\n",
       "96                  North by Northwest         8.3          (1959)\n",
       "97                             Vertigo         8.3          (1958)\n",
       "98                 Singin' in the Rain         8.3          (1952)\n",
       "99                        Citizen Kane         8.3          (1941)\n",
       "100  M - Eine Stadt sucht einen Mörder         8.3          (1931)\n",
       "\n",
       "[100 rows x 3 columns]"
      ]
     },
     "execution_count": 31,
     "metadata": {},
     "output_type": "execute_result"
    }
   ],
   "source": [
    "IMDB_Top_100"
   ]
  },
  {
   "cell_type": "code",
   "execution_count": 32,
   "metadata": {},
   "outputs": [],
   "source": [
    "IMDB_Top_100.to_csv('IMDB_Top_100.csv')"
   ]
  },
  {
   "cell_type": "markdown",
   "metadata": {},
   "source": [
    "### 3. Write a python program to display IMDB’s Top rated 100 Indian movies’ data (i.e. Name, IMDB rating, Year of release) and make data frame"
   ]
  },
  {
   "cell_type": "code",
   "execution_count": 33,
   "metadata": {},
   "outputs": [],
   "source": [
    "IMDB = requests.get('https://www.imdb.com/india/top-rated-indian-movies/')"
   ]
  },
  {
   "cell_type": "code",
   "execution_count": 34,
   "metadata": {},
   "outputs": [],
   "source": [
    "soup = BeautifulSoup(IMDB.content)"
   ]
  },
  {
   "cell_type": "code",
   "execution_count": 35,
   "metadata": {},
   "outputs": [],
   "source": [
    "#Title"
   ]
  },
  {
   "cell_type": "code",
   "execution_count": 36,
   "metadata": {},
   "outputs": [],
   "source": [
    "name = soup.find_all('td', class_='titleColumn', limit = 100)"
   ]
  },
  {
   "cell_type": "code",
   "execution_count": 37,
   "metadata": {},
   "outputs": [
    {
     "data": {
      "text/plain": [
       "100"
      ]
     },
     "execution_count": 37,
     "metadata": {},
     "output_type": "execute_result"
    }
   ],
   "source": [
    "title = []\n",
    "\n",
    "for i in name:\n",
    "    title.append(i.a.text) \n",
    "len(title)"
   ]
  },
  {
   "cell_type": "code",
   "execution_count": 38,
   "metadata": {},
   "outputs": [],
   "source": [
    "#rating"
   ]
  },
  {
   "cell_type": "code",
   "execution_count": 39,
   "metadata": {},
   "outputs": [],
   "source": [
    "rate = soup.find_all('td', class_='ratingColumn imdbRating', limit = 100)"
   ]
  },
  {
   "cell_type": "code",
   "execution_count": 40,
   "metadata": {},
   "outputs": [
    {
     "data": {
      "text/plain": [
       "['8.5',\n",
       " '8.5',\n",
       " '8.5',\n",
       " '8.5',\n",
       " '8.5',\n",
       " '8.5',\n",
       " '8.5',\n",
       " '8.4',\n",
       " '8.4',\n",
       " '8.4',\n",
       " '8.4',\n",
       " '8.4',\n",
       " '8.4',\n",
       " '8.4',\n",
       " '8.4',\n",
       " '8.4',\n",
       " '8.3',\n",
       " '8.3',\n",
       " '8.3',\n",
       " '8.3',\n",
       " '8.3',\n",
       " '8.3',\n",
       " '8.3',\n",
       " '8.3',\n",
       " '8.3',\n",
       " '8.3',\n",
       " '8.3',\n",
       " '8.3',\n",
       " '8.3',\n",
       " '8.3',\n",
       " '8.3',\n",
       " '8.3',\n",
       " '8.3',\n",
       " '8.2',\n",
       " '8.2',\n",
       " '8.2',\n",
       " '8.2',\n",
       " '8.2',\n",
       " '8.2',\n",
       " '8.2',\n",
       " '8.2',\n",
       " '8.2',\n",
       " '8.2',\n",
       " '8.2',\n",
       " '8.2',\n",
       " '8.2',\n",
       " '8.2',\n",
       " '8.2',\n",
       " '8.2',\n",
       " '8.2',\n",
       " '8.2',\n",
       " '8.2',\n",
       " '8.2',\n",
       " '8.2',\n",
       " '8.2',\n",
       " '8.2',\n",
       " '8.2',\n",
       " '8.2',\n",
       " '8.1',\n",
       " '8.1',\n",
       " '8.1',\n",
       " '8.1',\n",
       " '8.1',\n",
       " '8.1',\n",
       " '8.1',\n",
       " '8.1',\n",
       " '8.1',\n",
       " '8.1',\n",
       " '8.1',\n",
       " '8.1',\n",
       " '8.1',\n",
       " '8.1',\n",
       " '8.1',\n",
       " '8.1',\n",
       " '8.1',\n",
       " '8.1',\n",
       " '8.1',\n",
       " '8.1',\n",
       " '8.1',\n",
       " '8.1',\n",
       " '8.1',\n",
       " '8.1',\n",
       " '8.1',\n",
       " '8.1',\n",
       " '8.1',\n",
       " '8.1',\n",
       " '8.1',\n",
       " '8.1',\n",
       " '8.1',\n",
       " '8.1',\n",
       " '8.1',\n",
       " '8.1',\n",
       " '8.1',\n",
       " '8.1',\n",
       " '8.1',\n",
       " '8.1',\n",
       " '8.1',\n",
       " '8.1',\n",
       " '8.1',\n",
       " '8.1']"
      ]
     },
     "execution_count": 40,
     "metadata": {},
     "output_type": "execute_result"
    }
   ],
   "source": [
    "rating = []\n",
    "\n",
    "for i in rate:\n",
    "    rating.append(i.text.replace('\\n','').strip()) \n",
    "rating"
   ]
  },
  {
   "cell_type": "code",
   "execution_count": 41,
   "metadata": {},
   "outputs": [],
   "source": [
    "#Year"
   ]
  },
  {
   "cell_type": "code",
   "execution_count": 42,
   "metadata": {},
   "outputs": [],
   "source": [
    "year = soup.find_all('span', class_='secondaryInfo',limit=100)"
   ]
  },
  {
   "cell_type": "code",
   "execution_count": 43,
   "metadata": {},
   "outputs": [
    {
     "data": {
      "text/plain": [
       "['(1955)',\n",
       " '(1987)',\n",
       " '(2018)',\n",
       " '(2003)',\n",
       " '(1979)',\n",
       " '(2018)',\n",
       " '(1959)',\n",
       " '(1989)',\n",
       " '(1993)',\n",
       " '(2016)',\n",
       " '(2018)',\n",
       " '(1992)',\n",
       " '(2004)',\n",
       " '(2019)',\n",
       " '(2021)',\n",
       " '(2015)',\n",
       " '(2009)',\n",
       " '(2007)',\n",
       " '(2019)',\n",
       " '(2020)',\n",
       " '(2018)',\n",
       " '(1991)',\n",
       " '(2016)',\n",
       " '(2019)',\n",
       " '(2019)',\n",
       " '(1993)',\n",
       " '(1956)',\n",
       " '(1983)',\n",
       " '(2018)',\n",
       " '(2018)',\n",
       " '(1957)',\n",
       " '(1965)',\n",
       " '(2015)',\n",
       " '(2002)',\n",
       " '(1975)',\n",
       " '(1997)',\n",
       " '(1995)',\n",
       " '(2019)',\n",
       " '(2019)',\n",
       " '(2013)',\n",
       " '(2017)',\n",
       " '(2016)',\n",
       " '(2018)',\n",
       " '(2018)',\n",
       " '(2006)',\n",
       " '(2006)',\n",
       " '(2015)',\n",
       " '(1971)',\n",
       " '(2005)',\n",
       " '(2014)',\n",
       " '(2014)',\n",
       " '(1999)',\n",
       " '(2018)',\n",
       " '(2016)',\n",
       " '(2015)',\n",
       " '(1998)',\n",
       " '(2013)',\n",
       " '(2012)',\n",
       " '(2014)',\n",
       " '(2003)',\n",
       " '(2012)',\n",
       " '(2012)',\n",
       " '(2016)',\n",
       " '(2013)',\n",
       " '(2000)',\n",
       " '(2015)',\n",
       " '(2004)',\n",
       " '(1975)',\n",
       " '(2005)',\n",
       " '(2012)',\n",
       " '(2007)',\n",
       " '(1992)',\n",
       " '(2015)',\n",
       " '(2015)',\n",
       " '(1960)',\n",
       " '(2016)',\n",
       " '(2011)',\n",
       " '(1964)',\n",
       " '(2019)',\n",
       " '(2010)',\n",
       " '(2008)',\n",
       " '(2017)',\n",
       " '(2013)',\n",
       " '(2015)',\n",
       " '(2000)',\n",
       " '(2003)',\n",
       " '(1999)',\n",
       " '(1995)',\n",
       " '(1992)',\n",
       " '(2001)',\n",
       " '(2012)',\n",
       " '(2006)',\n",
       " '(2019)',\n",
       " '(2001)',\n",
       " '(2012)',\n",
       " '(1994)',\n",
       " '(2004)',\n",
       " '(2018)',\n",
       " '(2014)',\n",
       " '(2013)']"
      ]
     },
     "execution_count": 43,
     "metadata": {},
     "output_type": "execute_result"
    }
   ],
   "source": [
    "years = []\n",
    "\n",
    "for i in year:\n",
    "    years.append(i.text.replace('\\n','').strip()) \n",
    "years"
   ]
  },
  {
   "cell_type": "code",
   "execution_count": 44,
   "metadata": {},
   "outputs": [],
   "source": [
    "data=list(zip(title,rating,years))"
   ]
  },
  {
   "cell_type": "code",
   "execution_count": 45,
   "metadata": {},
   "outputs": [],
   "source": [
    "IMDB_Top_100_Indian=pd.DataFrame(data=data, columns = ['Name','IMDB_Rating', 'Year_Of_Release'], index = np.arange(1,101,1))"
   ]
  },
  {
   "cell_type": "code",
   "execution_count": 46,
   "metadata": {},
   "outputs": [
    {
     "data": {
      "text/html": [
       "<div>\n",
       "<style scoped>\n",
       "    .dataframe tbody tr th:only-of-type {\n",
       "        vertical-align: middle;\n",
       "    }\n",
       "\n",
       "    .dataframe tbody tr th {\n",
       "        vertical-align: top;\n",
       "    }\n",
       "\n",
       "    .dataframe thead th {\n",
       "        text-align: right;\n",
       "    }\n",
       "</style>\n",
       "<table border=\"1\" class=\"dataframe\">\n",
       "  <thead>\n",
       "    <tr style=\"text-align: right;\">\n",
       "      <th></th>\n",
       "      <th>Name</th>\n",
       "      <th>IMDB_Rating</th>\n",
       "      <th>Year_Of_Release</th>\n",
       "    </tr>\n",
       "  </thead>\n",
       "  <tbody>\n",
       "    <tr>\n",
       "      <th>1</th>\n",
       "      <td>Pather Panchali</td>\n",
       "      <td>8.5</td>\n",
       "      <td>(1955)</td>\n",
       "    </tr>\n",
       "    <tr>\n",
       "      <th>2</th>\n",
       "      <td>Nayakan</td>\n",
       "      <td>8.5</td>\n",
       "      <td>(1987)</td>\n",
       "    </tr>\n",
       "    <tr>\n",
       "      <th>3</th>\n",
       "      <td>Pariyerum Perumal</td>\n",
       "      <td>8.5</td>\n",
       "      <td>(2018)</td>\n",
       "    </tr>\n",
       "    <tr>\n",
       "      <th>4</th>\n",
       "      <td>Anbe Sivam</td>\n",
       "      <td>8.5</td>\n",
       "      <td>(2003)</td>\n",
       "    </tr>\n",
       "    <tr>\n",
       "      <th>5</th>\n",
       "      <td>Golmaal</td>\n",
       "      <td>8.5</td>\n",
       "      <td>(1979)</td>\n",
       "    </tr>\n",
       "    <tr>\n",
       "      <th>...</th>\n",
       "      <td>...</td>\n",
       "      <td>...</td>\n",
       "      <td>...</td>\n",
       "    </tr>\n",
       "    <tr>\n",
       "      <th>96</th>\n",
       "      <td>Andaz Apna Apna</td>\n",
       "      <td>8.1</td>\n",
       "      <td>(1994)</td>\n",
       "    </tr>\n",
       "    <tr>\n",
       "      <th>97</th>\n",
       "      <td>Virumandi</td>\n",
       "      <td>8.1</td>\n",
       "      <td>(2004)</td>\n",
       "    </tr>\n",
       "    <tr>\n",
       "      <th>98</th>\n",
       "      <td>Uri: The Surgical Strike</td>\n",
       "      <td>8.1</td>\n",
       "      <td>(2018)</td>\n",
       "    </tr>\n",
       "    <tr>\n",
       "      <th>99</th>\n",
       "      <td>PK</td>\n",
       "      <td>8.1</td>\n",
       "      <td>(2014)</td>\n",
       "    </tr>\n",
       "    <tr>\n",
       "      <th>100</th>\n",
       "      <td>Lucia</td>\n",
       "      <td>8.1</td>\n",
       "      <td>(2013)</td>\n",
       "    </tr>\n",
       "  </tbody>\n",
       "</table>\n",
       "<p>100 rows × 3 columns</p>\n",
       "</div>"
      ],
      "text/plain": [
       "                         Name IMDB_Rating Year_Of_Release\n",
       "1             Pather Panchali         8.5          (1955)\n",
       "2                     Nayakan         8.5          (1987)\n",
       "3           Pariyerum Perumal         8.5          (2018)\n",
       "4                  Anbe Sivam         8.5          (2003)\n",
       "5                     Golmaal         8.5          (1979)\n",
       "..                        ...         ...             ...\n",
       "96            Andaz Apna Apna         8.1          (1994)\n",
       "97                  Virumandi         8.1          (2004)\n",
       "98   Uri: The Surgical Strike         8.1          (2018)\n",
       "99                         PK         8.1          (2014)\n",
       "100                     Lucia         8.1          (2013)\n",
       "\n",
       "[100 rows x 3 columns]"
      ]
     },
     "execution_count": 46,
     "metadata": {},
     "output_type": "execute_result"
    }
   ],
   "source": [
    "IMDB_Top_100_Indian"
   ]
  },
  {
   "cell_type": "code",
   "execution_count": 47,
   "metadata": {},
   "outputs": [],
   "source": [
    "IMDB_Top_100_Indian.to_csv('IMDB_Top_100_Indian.csv')"
   ]
  },
  {
   "cell_type": "markdown",
   "metadata": {},
   "source": [
    "### 4. Write a python program to scrap book name, author name, genre and book review of any 5 books from\n",
    "‘www.bookpage.com’"
   ]
  },
  {
   "cell_type": "code",
   "execution_count": 48,
   "metadata": {},
   "outputs": [],
   "source": [
    "books = requests.get('https://bookpage.com/reviews?book_genre=mystery_suspense&page=1')"
   ]
  },
  {
   "cell_type": "code",
   "execution_count": 49,
   "metadata": {},
   "outputs": [],
   "source": [
    "soup = BeautifulSoup(books.text, 'html.parser')"
   ]
  },
  {
   "cell_type": "code",
   "execution_count": 50,
   "metadata": {},
   "outputs": [],
   "source": [
    "#BOOK Name"
   ]
  },
  {
   "cell_type": "code",
   "execution_count": 51,
   "metadata": {},
   "outputs": [],
   "source": [
    "Bname = soup.find_all('h4', class_='italic', limit = 5)"
   ]
  },
  {
   "cell_type": "code",
   "execution_count": 52,
   "metadata": {},
   "outputs": [],
   "source": [
    "BookName = []\n",
    "for i in Bname:\n",
    "    BookName.append(i.text.replace('\\n',''))"
   ]
  },
  {
   "cell_type": "code",
   "execution_count": 53,
   "metadata": {},
   "outputs": [
    {
     "data": {
      "text/plain": [
       "['The Damage',\n",
       " ' ★ Bath Haus',\n",
       " 'The Maidens',\n",
       " 'The Girl Who Died',\n",
       " 'Hour of the Witch']"
      ]
     },
     "execution_count": 53,
     "metadata": {},
     "output_type": "execute_result"
    }
   ],
   "source": [
    "BookName"
   ]
  },
  {
   "cell_type": "code",
   "execution_count": 54,
   "metadata": {},
   "outputs": [],
   "source": [
    "#Author Name"
   ]
  },
  {
   "cell_type": "code",
   "execution_count": 55,
   "metadata": {},
   "outputs": [],
   "source": [
    "Aname = soup.find_all('p', class_='sans bold', limit = 5)"
   ]
  },
  {
   "cell_type": "code",
   "execution_count": 56,
   "metadata": {},
   "outputs": [
    {
     "data": {
      "text/plain": [
       "['Caitlin Wahrer',\n",
       " 'P.J. Vernon',\n",
       " 'Alex Michaelides',\n",
       " 'Ragnar Jónasson',\n",
       " 'Chris Bohjalian']"
      ]
     },
     "execution_count": 56,
     "metadata": {},
     "output_type": "execute_result"
    }
   ],
   "source": [
    "AuthorName = []\n",
    "for i in Aname:\n",
    "    AuthorName.append(i.text.replace('\\n',''))  \n",
    "AuthorName"
   ]
  },
  {
   "cell_type": "code",
   "execution_count": 57,
   "metadata": {},
   "outputs": [],
   "source": [
    "# Genre"
   ]
  },
  {
   "cell_type": "code",
   "execution_count": 58,
   "metadata": {},
   "outputs": [],
   "source": [
    "genre = soup.find_all('p', class_='genre-links hidden-phone', limit = 5)"
   ]
  },
  {
   "cell_type": "code",
   "execution_count": 59,
   "metadata": {},
   "outputs": [
    {
     "data": {
      "text/plain": [
       "['Mystery & Suspense / Suspense',\n",
       " 'Mystery & Suspense / Thriller',\n",
       " 'Mystery & Suspense / Thriller',\n",
       " 'Mystery & Suspense / Mystery',\n",
       " 'Mystery & Suspense / Suspense']"
      ]
     },
     "execution_count": 59,
     "metadata": {},
     "output_type": "execute_result"
    }
   ],
   "source": [
    "Genre = []\n",
    "for i in genre:\n",
    "    Genre.append(i.text.replace('\\n',''))\n",
    "Genre"
   ]
  },
  {
   "cell_type": "code",
   "execution_count": 60,
   "metadata": {},
   "outputs": [],
   "source": [
    "#Review"
   ]
  },
  {
   "cell_type": "code",
   "execution_count": 61,
   "metadata": {},
   "outputs": [],
   "source": [
    "review = soup.find_all(attrs={'class':'excerpt'})[:5]"
   ]
  },
  {
   "cell_type": "code",
   "execution_count": 62,
   "metadata": {},
   "outputs": [
    {
     "data": {
      "text/plain": [
       "['With twists worthy of a season finale of “Law & Order: SVU,” The Damage explores a family’s struggle in the aftermath of a violent sexual assault.',\n",
       " 'When Oliver Park visits a gay bathhouse in search of an anonymous hookup, he’s putting a lot at risk: his comfortable relationship with Nathan, his upper middle-class life, even his hard-won sobriety.',\n",
       " 'Fans of Alex Michaelides’ blockbuster debut\\xa0The Silent Patient will eagerly dive into his newest thriller, The Maidens.',\n",
       " 'The advertisement is simple and honest: “Teacher wanted at the edge of the world.”',\n",
       " 'Chris Bohjalian blends historical fiction with a thrilling courtroom drama in his latest novel, Hour of the Witch.']"
      ]
     },
     "execution_count": 62,
     "metadata": {},
     "output_type": "execute_result"
    }
   ],
   "source": [
    "Review = []\n",
    "for p in review:\n",
    "    Review.append(p.find('p').text.strip())\n",
    "Review"
   ]
  },
  {
   "cell_type": "code",
   "execution_count": 63,
   "metadata": {},
   "outputs": [],
   "source": [
    "#Creating  dataframe"
   ]
  },
  {
   "cell_type": "code",
   "execution_count": 64,
   "metadata": {},
   "outputs": [],
   "source": [
    "data =  list(zip(BookName,AuthorName,Genre,Review))"
   ]
  },
  {
   "cell_type": "code",
   "execution_count": 65,
   "metadata": {},
   "outputs": [],
   "source": [
    "Book_Page_Review = pd.DataFrame(data = data, columns=['Book_Name', 'Author_Name','Genre','Review'], index = np.arange(1,6,1))"
   ]
  },
  {
   "cell_type": "code",
   "execution_count": 66,
   "metadata": {},
   "outputs": [
    {
     "data": {
      "text/html": [
       "<div>\n",
       "<style scoped>\n",
       "    .dataframe tbody tr th:only-of-type {\n",
       "        vertical-align: middle;\n",
       "    }\n",
       "\n",
       "    .dataframe tbody tr th {\n",
       "        vertical-align: top;\n",
       "    }\n",
       "\n",
       "    .dataframe thead th {\n",
       "        text-align: right;\n",
       "    }\n",
       "</style>\n",
       "<table border=\"1\" class=\"dataframe\">\n",
       "  <thead>\n",
       "    <tr style=\"text-align: right;\">\n",
       "      <th></th>\n",
       "      <th>Book_Name</th>\n",
       "      <th>Author_Name</th>\n",
       "      <th>Genre</th>\n",
       "      <th>Review</th>\n",
       "    </tr>\n",
       "  </thead>\n",
       "  <tbody>\n",
       "    <tr>\n",
       "      <th>1</th>\n",
       "      <td>The Damage</td>\n",
       "      <td>Caitlin Wahrer</td>\n",
       "      <td>Mystery &amp; Suspense / Suspense</td>\n",
       "      <td>With twists worthy of a season finale of “Law ...</td>\n",
       "    </tr>\n",
       "    <tr>\n",
       "      <th>2</th>\n",
       "      <td>★ Bath Haus</td>\n",
       "      <td>P.J. Vernon</td>\n",
       "      <td>Mystery &amp; Suspense / Thriller</td>\n",
       "      <td>When Oliver Park visits a gay bathhouse in sea...</td>\n",
       "    </tr>\n",
       "    <tr>\n",
       "      <th>3</th>\n",
       "      <td>The Maidens</td>\n",
       "      <td>Alex Michaelides</td>\n",
       "      <td>Mystery &amp; Suspense / Thriller</td>\n",
       "      <td>Fans of Alex Michaelides’ blockbuster debut Th...</td>\n",
       "    </tr>\n",
       "    <tr>\n",
       "      <th>4</th>\n",
       "      <td>The Girl Who Died</td>\n",
       "      <td>Ragnar Jónasson</td>\n",
       "      <td>Mystery &amp; Suspense / Mystery</td>\n",
       "      <td>The advertisement is simple and honest: “Teach...</td>\n",
       "    </tr>\n",
       "    <tr>\n",
       "      <th>5</th>\n",
       "      <td>Hour of the Witch</td>\n",
       "      <td>Chris Bohjalian</td>\n",
       "      <td>Mystery &amp; Suspense / Suspense</td>\n",
       "      <td>Chris Bohjalian blends historical fiction with...</td>\n",
       "    </tr>\n",
       "  </tbody>\n",
       "</table>\n",
       "</div>"
      ],
      "text/plain": [
       "           Book_Name       Author_Name                          Genre  \\\n",
       "1         The Damage    Caitlin Wahrer  Mystery & Suspense / Suspense   \n",
       "2        ★ Bath Haus       P.J. Vernon  Mystery & Suspense / Thriller   \n",
       "3        The Maidens  Alex Michaelides  Mystery & Suspense / Thriller   \n",
       "4  The Girl Who Died   Ragnar Jónasson   Mystery & Suspense / Mystery   \n",
       "5  Hour of the Witch   Chris Bohjalian  Mystery & Suspense / Suspense   \n",
       "\n",
       "                                              Review  \n",
       "1  With twists worthy of a season finale of “Law ...  \n",
       "2  When Oliver Park visits a gay bathhouse in sea...  \n",
       "3  Fans of Alex Michaelides’ blockbuster debut Th...  \n",
       "4  The advertisement is simple and honest: “Teach...  \n",
       "5  Chris Bohjalian blends historical fiction with...  "
      ]
     },
     "execution_count": 66,
     "metadata": {},
     "output_type": "execute_result"
    }
   ],
   "source": [
    "Book_Page_Review"
   ]
  },
  {
   "cell_type": "code",
   "execution_count": 67,
   "metadata": {},
   "outputs": [],
   "source": [
    "Book_Page_Review.to_csv('Book_Page_Review.csv')"
   ]
  },
  {
   "cell_type": "markdown",
   "metadata": {},
   "source": [
    "### 5. Write a python program to scrape cricket rankings from ‘www.icc-cricket.com’. You have to scrape"
   ]
  },
  {
   "cell_type": "markdown",
   "metadata": {},
   "source": [
    "### i) Top 10 ODI teams in men’s cricket along with the records for matches, points and rating."
   ]
  },
  {
   "cell_type": "code",
   "execution_count": 68,
   "metadata": {},
   "outputs": [],
   "source": [
    "odi = requests.get('https://www.icc-cricket.com/rankings/mens/team-rankings/odi')"
   ]
  },
  {
   "cell_type": "code",
   "execution_count": 69,
   "metadata": {},
   "outputs": [],
   "source": [
    "soup = BeautifulSoup(odi.content)"
   ]
  },
  {
   "cell_type": "code",
   "execution_count": 70,
   "metadata": {},
   "outputs": [],
   "source": [
    "#Name"
   ]
  },
  {
   "cell_type": "code",
   "execution_count": 71,
   "metadata": {},
   "outputs": [],
   "source": [
    "name = soup.find_all('span', class_='u-hide-phablet', limit =10)"
   ]
  },
  {
   "cell_type": "code",
   "execution_count": 72,
   "metadata": {
    "scrolled": true
   },
   "outputs": [
    {
     "data": {
      "text/plain": [
       "['New Zealand',\n",
       " 'Australia',\n",
       " 'India',\n",
       " 'England',\n",
       " 'South Africa',\n",
       " 'Pakistan',\n",
       " 'Bangladesh',\n",
       " 'West Indies',\n",
       " 'Sri Lanka',\n",
       " 'Afghanistan']"
      ]
     },
     "execution_count": 72,
     "metadata": {},
     "output_type": "execute_result"
    }
   ],
   "source": [
    "Team_Name= []\n",
    "\n",
    "for i in name:\n",
    "    Team_Name.append(i.text.replace('\\n','').strip())\n",
    "Team_Name"
   ]
  },
  {
   "cell_type": "code",
   "execution_count": 73,
   "metadata": {},
   "outputs": [],
   "source": [
    "#Macthes"
   ]
  },
  {
   "cell_type": "code",
   "execution_count": 74,
   "metadata": {},
   "outputs": [],
   "source": [
    "match1 = soup.find('td', class_='rankings-block__banner--matches').get_text()\n",
    "\n",
    "Matches = []\n",
    "\n",
    "Matches.append(match1)\n",
    "\n",
    "matches2 = soup.find_all(attrs={'class':\"table-body\"})[:9]\n",
    "\n",
    "for match in matches2: #find all p tag and exclude the first one\n",
    "        Matches.append(match.find('td', class_='table-body__cell u-center-text').text[:2])"
   ]
  },
  {
   "cell_type": "code",
   "execution_count": 75,
   "metadata": {},
   "outputs": [
    {
     "data": {
      "text/plain": [
       "['2,054',\n",
       " ['2,945'],\n",
       " ['3,344'],\n",
       " ['3,100'],\n",
       " ['2,137'],\n",
       " ['2,323'],\n",
       " ['2,438'],\n",
       " ['2,222'],\n",
       " ['1,876'],\n",
       " ['1,054']]"
      ]
     },
     "execution_count": 75,
     "metadata": {},
     "output_type": "execute_result"
    }
   ],
   "source": [
    "#Points\n",
    "\n",
    "points = soup.find('td', class_='rankings-block__banner--points').get_text()\n",
    "\n",
    "Point=[]\n",
    "Point.append(points)\n",
    "\n",
    "cricket= soup.find_all(attrs={'class':'table-body'})[:9]\n",
    "\n",
    "for i in cricket:\n",
    "    Point.append(i.text.split('\\n')[8:9])\n",
    "\n",
    "Point"
   ]
  },
  {
   "cell_type": "code",
   "execution_count": 76,
   "metadata": {},
   "outputs": [
    {
     "data": {
      "text/plain": [
       "['121', '118', '115', '115', '107', '97', '90', '82', '78', '62']"
      ]
     },
     "execution_count": 76,
     "metadata": {},
     "output_type": "execute_result"
    }
   ],
   "source": [
    "#Rating\n",
    "\n",
    "rating1= soup.find('td', class_='rankings-block__banner--rating u-text-right').get_text()\n",
    "\n",
    "Ratings = []\n",
    "\n",
    "Ratings.append(rating1.replace('\\n','').strip())\n",
    "\n",
    "rating2 = soup.find_all('td', class_='table-body__cell u-text-right rating')[:9]\n",
    "\n",
    "for i in rating2:\n",
    "    Ratings.append(i.text)\n",
    "Ratings"
   ]
  },
  {
   "cell_type": "code",
   "execution_count": 77,
   "metadata": {},
   "outputs": [
    {
     "data": {
      "text/html": [
       "<div>\n",
       "<style scoped>\n",
       "    .dataframe tbody tr th:only-of-type {\n",
       "        vertical-align: middle;\n",
       "    }\n",
       "\n",
       "    .dataframe tbody tr th {\n",
       "        vertical-align: top;\n",
       "    }\n",
       "\n",
       "    .dataframe thead th {\n",
       "        text-align: right;\n",
       "    }\n",
       "</style>\n",
       "<table border=\"1\" class=\"dataframe\">\n",
       "  <thead>\n",
       "    <tr style=\"text-align: right;\">\n",
       "      <th></th>\n",
       "      <th>Team</th>\n",
       "      <th>Matches_Played</th>\n",
       "      <th>Points</th>\n",
       "      <th>Rating</th>\n",
       "    </tr>\n",
       "  </thead>\n",
       "  <tbody>\n",
       "    <tr>\n",
       "      <th>1</th>\n",
       "      <td>New Zealand</td>\n",
       "      <td>17</td>\n",
       "      <td>2,054</td>\n",
       "      <td>121</td>\n",
       "    </tr>\n",
       "    <tr>\n",
       "      <th>2</th>\n",
       "      <td>Australia</td>\n",
       "      <td>25</td>\n",
       "      <td>[2,945]</td>\n",
       "      <td>118</td>\n",
       "    </tr>\n",
       "    <tr>\n",
       "      <th>3</th>\n",
       "      <td>India</td>\n",
       "      <td>29</td>\n",
       "      <td>[3,344]</td>\n",
       "      <td>115</td>\n",
       "    </tr>\n",
       "    <tr>\n",
       "      <th>4</th>\n",
       "      <td>England</td>\n",
       "      <td>27</td>\n",
       "      <td>[3,100]</td>\n",
       "      <td>115</td>\n",
       "    </tr>\n",
       "    <tr>\n",
       "      <th>5</th>\n",
       "      <td>South Africa</td>\n",
       "      <td>20</td>\n",
       "      <td>[2,137]</td>\n",
       "      <td>107</td>\n",
       "    </tr>\n",
       "    <tr>\n",
       "      <th>6</th>\n",
       "      <td>Pakistan</td>\n",
       "      <td>24</td>\n",
       "      <td>[2,323]</td>\n",
       "      <td>97</td>\n",
       "    </tr>\n",
       "    <tr>\n",
       "      <th>7</th>\n",
       "      <td>Bangladesh</td>\n",
       "      <td>27</td>\n",
       "      <td>[2,438]</td>\n",
       "      <td>90</td>\n",
       "    </tr>\n",
       "    <tr>\n",
       "      <th>8</th>\n",
       "      <td>West Indies</td>\n",
       "      <td>27</td>\n",
       "      <td>[2,222]</td>\n",
       "      <td>82</td>\n",
       "    </tr>\n",
       "    <tr>\n",
       "      <th>9</th>\n",
       "      <td>Sri Lanka</td>\n",
       "      <td>24</td>\n",
       "      <td>[1,876]</td>\n",
       "      <td>78</td>\n",
       "    </tr>\n",
       "    <tr>\n",
       "      <th>10</th>\n",
       "      <td>Afghanistan</td>\n",
       "      <td>17</td>\n",
       "      <td>[1,054]</td>\n",
       "      <td>62</td>\n",
       "    </tr>\n",
       "  </tbody>\n",
       "</table>\n",
       "</div>"
      ],
      "text/plain": [
       "            Team Matches_Played   Points Rating\n",
       "1    New Zealand             17    2,054    121\n",
       "2      Australia             25  [2,945]    118\n",
       "3          India             29  [3,344]    115\n",
       "4        England             27  [3,100]    115\n",
       "5   South Africa             20  [2,137]    107\n",
       "6       Pakistan             24  [2,323]     97\n",
       "7     Bangladesh             27  [2,438]     90\n",
       "8    West Indies             27  [2,222]     82\n",
       "9      Sri Lanka             24  [1,876]     78\n",
       "10   Afghanistan             17  [1,054]     62"
      ]
     },
     "execution_count": 77,
     "metadata": {},
     "output_type": "execute_result"
    }
   ],
   "source": [
    "# DataFrame\n",
    "\n",
    "data = list(zip(Team_Name,Matches,Point,Ratings))\n",
    "\n",
    "Men_ODI_Teams = pd.DataFrame(data=data, columns = ['Team','Matches_Played','Points','Rating'], index = np.arange(1,11,1))\n",
    "\n",
    "Men_ODI_Teams"
   ]
  },
  {
   "cell_type": "code",
   "execution_count": 78,
   "metadata": {},
   "outputs": [],
   "source": [
    "Men_ODI_Teams.to_csv('Men_ODI_Teams.csv')"
   ]
  },
  {
   "cell_type": "markdown",
   "metadata": {},
   "source": [
    "### ii) Top 10 ODI Batsmen in men along with the records of their team and rating"
   ]
  },
  {
   "cell_type": "code",
   "execution_count": 79,
   "metadata": {},
   "outputs": [],
   "source": [
    "batting = requests.get('https://www.icc-cricket.com/rankings/mens/player-rankings/odi/batting')\n",
    "\n",
    "soup = BeautifulSoup(batting.content)"
   ]
  },
  {
   "cell_type": "code",
   "execution_count": 80,
   "metadata": {},
   "outputs": [
    {
     "data": {
      "text/plain": [
       "['Babar Azam',\n",
       " 'Virat Kohli',\n",
       " 'Rohit Sharma',\n",
       " 'Ross Taylor',\n",
       " 'Aaron Finch',\n",
       " 'Jonny Bairstow',\n",
       " 'Fakhar Zaman',\n",
       " 'Francois du Plessis',\n",
       " 'David Warner',\n",
       " 'Shai Hope']"
      ]
     },
     "execution_count": 80,
     "metadata": {},
     "output_type": "execute_result"
    }
   ],
   "source": [
    "#Names\n",
    "name1 = soup.find('div', class_='rankings-block__banner--name-large').get_text()\n",
    "\n",
    "Names = []\n",
    "    \n",
    "Names.append(name1)\n",
    "\n",
    "name2 = soup.find_all('td', class_='table-body__cell rankings-table__name name')[:9]\n",
    "\n",
    "for i in name2:\n",
    "    Names.append(i.a.text)\n",
    "Names"
   ]
  },
  {
   "cell_type": "code",
   "execution_count": 81,
   "metadata": {},
   "outputs": [
    {
     "data": {
      "text/plain": [
       "['PAK', 'IND', 'IND', 'NZ', 'AUS', 'ENG', 'PAK', 'SA', 'AUS', 'WI']"
      ]
     },
     "execution_count": 81,
     "metadata": {},
     "output_type": "execute_result"
    }
   ],
   "source": [
    "#teams\n",
    "\n",
    "team1 = soup.find('div',class_='rankings-block__banner--nationality').get_text().replace('\\n','').replace('865','').strip()\n",
    "\n",
    "teams = []\n",
    "\n",
    "teams.append(team1)\n",
    "\n",
    "team2 = soup.find_all('span', class_='table-body__logo-text')[:9]\n",
    "\n",
    "for i in team2:\n",
    "    teams.append(i.text)\n",
    "teams"
   ]
  },
  {
   "cell_type": "code",
   "execution_count": 82,
   "metadata": {},
   "outputs": [
    {
     "data": {
      "text/plain": [
       "['865', '857', '825', '801', '791', '785', '778', '778', '773', '773']"
      ]
     },
     "execution_count": 82,
     "metadata": {},
     "output_type": "execute_result"
    }
   ],
   "source": [
    "#Rating\n",
    "\n",
    "rating1 = soup.find('div', class_='rankings-block__banner--rating').get_text()\n",
    "\n",
    "ratings = []\n",
    "\n",
    "ratings.append(rating1)\n",
    "\n",
    "rating2 = soup.find_all('td', class_='table-body__cell rating')[:9]\n",
    "\n",
    "for i in rating2:\n",
    "    ratings.append(i.text)\n",
    "\n",
    "ratings"
   ]
  },
  {
   "cell_type": "code",
   "execution_count": 83,
   "metadata": {},
   "outputs": [
    {
     "data": {
      "text/html": [
       "<div>\n",
       "<style scoped>\n",
       "    .dataframe tbody tr th:only-of-type {\n",
       "        vertical-align: middle;\n",
       "    }\n",
       "\n",
       "    .dataframe tbody tr th {\n",
       "        vertical-align: top;\n",
       "    }\n",
       "\n",
       "    .dataframe thead th {\n",
       "        text-align: right;\n",
       "    }\n",
       "</style>\n",
       "<table border=\"1\" class=\"dataframe\">\n",
       "  <thead>\n",
       "    <tr style=\"text-align: right;\">\n",
       "      <th></th>\n",
       "      <th>Player_Name</th>\n",
       "      <th>Team</th>\n",
       "      <th>Rating</th>\n",
       "    </tr>\n",
       "  </thead>\n",
       "  <tbody>\n",
       "    <tr>\n",
       "      <th>1</th>\n",
       "      <td>Babar Azam</td>\n",
       "      <td>PAK</td>\n",
       "      <td>865</td>\n",
       "    </tr>\n",
       "    <tr>\n",
       "      <th>2</th>\n",
       "      <td>Virat Kohli</td>\n",
       "      <td>IND</td>\n",
       "      <td>857</td>\n",
       "    </tr>\n",
       "    <tr>\n",
       "      <th>3</th>\n",
       "      <td>Rohit Sharma</td>\n",
       "      <td>IND</td>\n",
       "      <td>825</td>\n",
       "    </tr>\n",
       "    <tr>\n",
       "      <th>4</th>\n",
       "      <td>Ross Taylor</td>\n",
       "      <td>NZ</td>\n",
       "      <td>801</td>\n",
       "    </tr>\n",
       "    <tr>\n",
       "      <th>5</th>\n",
       "      <td>Aaron Finch</td>\n",
       "      <td>AUS</td>\n",
       "      <td>791</td>\n",
       "    </tr>\n",
       "    <tr>\n",
       "      <th>6</th>\n",
       "      <td>Jonny Bairstow</td>\n",
       "      <td>ENG</td>\n",
       "      <td>785</td>\n",
       "    </tr>\n",
       "    <tr>\n",
       "      <th>7</th>\n",
       "      <td>Fakhar Zaman</td>\n",
       "      <td>PAK</td>\n",
       "      <td>778</td>\n",
       "    </tr>\n",
       "    <tr>\n",
       "      <th>8</th>\n",
       "      <td>Francois du Plessis</td>\n",
       "      <td>SA</td>\n",
       "      <td>778</td>\n",
       "    </tr>\n",
       "    <tr>\n",
       "      <th>9</th>\n",
       "      <td>David Warner</td>\n",
       "      <td>AUS</td>\n",
       "      <td>773</td>\n",
       "    </tr>\n",
       "    <tr>\n",
       "      <th>10</th>\n",
       "      <td>Shai Hope</td>\n",
       "      <td>WI</td>\n",
       "      <td>773</td>\n",
       "    </tr>\n",
       "  </tbody>\n",
       "</table>\n",
       "</div>"
      ],
      "text/plain": [
       "            Player_Name Team Rating\n",
       "1            Babar Azam  PAK    865\n",
       "2           Virat Kohli  IND    857\n",
       "3          Rohit Sharma  IND    825\n",
       "4           Ross Taylor   NZ    801\n",
       "5           Aaron Finch  AUS    791\n",
       "6        Jonny Bairstow  ENG    785\n",
       "7          Fakhar Zaman  PAK    778\n",
       "8   Francois du Plessis   SA    778\n",
       "9          David Warner  AUS    773\n",
       "10            Shai Hope   WI    773"
      ]
     },
     "execution_count": 83,
     "metadata": {},
     "output_type": "execute_result"
    }
   ],
   "source": [
    "data = list(zip(Names,teams,ratings))\n",
    "\n",
    "Odi_Men_Batting = pd.DataFrame(data=data, columns = ['Player_Name','Team','Rating'], index = np.arange(1,11,1))\n",
    "\n",
    "Odi_Men_Batting"
   ]
  },
  {
   "cell_type": "code",
   "execution_count": 84,
   "metadata": {},
   "outputs": [],
   "source": [
    "Odi_Men_Batting.to_csv('Odi_Men_Batting.csv')"
   ]
  },
  {
   "cell_type": "markdown",
   "metadata": {},
   "source": [
    "### iii) Top 10 ODI bowlers along with the records of their team and rating.\n"
   ]
  },
  {
   "cell_type": "code",
   "execution_count": 85,
   "metadata": {},
   "outputs": [],
   "source": [
    "bowlers = requests.get('https://www.icc-cricket.com/rankings/mens/player-rankings/odi/bowling')\n",
    "\n",
    "soup = BeautifulSoup(bowlers.content)"
   ]
  },
  {
   "cell_type": "code",
   "execution_count": 86,
   "metadata": {},
   "outputs": [
    {
     "data": {
      "text/plain": [
       "['Trent Boult',\n",
       " 'Mehedi Hasan',\n",
       " 'Mujeeb Ur Rahman',\n",
       " 'Matt Henry',\n",
       " 'Jasprit Bumrah',\n",
       " 'Kagiso Rabada',\n",
       " 'Chris Woakes',\n",
       " 'Josh Hazlewood',\n",
       " 'Pat Cummins',\n",
       " 'Mustafizur Rahman']"
      ]
     },
     "execution_count": 86,
     "metadata": {},
     "output_type": "execute_result"
    }
   ],
   "source": [
    "#Names\n",
    "\n",
    "name1 = soup.find('div',class_='rankings-block__banner--name-large').get_text()\n",
    "\n",
    "Name = []\n",
    "Name.append(name1)\n",
    "\n",
    "name2 = soup.find_all('td',class_='table-body__cell rankings-table__name name')[:9]\n",
    "\n",
    "for i in name2:\n",
    "    Name.append(i.a.text)\n",
    "Name"
   ]
  },
  {
   "cell_type": "code",
   "execution_count": 87,
   "metadata": {},
   "outputs": [
    {
     "data": {
      "text/plain": [
       "['NZ', 'BAN', 'AFG', 'NZ', 'IND', 'SA', 'ENG', 'AUS', 'AUS', 'BAN']"
      ]
     },
     "execution_count": 87,
     "metadata": {},
     "output_type": "execute_result"
    }
   ],
   "source": [
    "#teams\n",
    "\n",
    "team1 =soup.find('div',class_='rankings-block__banner--nationality').get_text().replace('\\n','').strip()\n",
    "\n",
    "Team = []\n",
    "Team.append(team1)\n",
    "\n",
    "team2 = soup.find_all('span', class_='table-body__logo-text')[:9]\n",
    "\n",
    "for i in team2:\n",
    "    Team.append(i.text)\n",
    "Team"
   ]
  },
  {
   "cell_type": "code",
   "execution_count": 88,
   "metadata": {},
   "outputs": [
    {
     "data": {
      "text/plain": [
       "['737', '713', '708', '691', '690', '666', '665', '660', '646', '645']"
      ]
     },
     "execution_count": 88,
     "metadata": {},
     "output_type": "execute_result"
    }
   ],
   "source": [
    "#rating\n",
    "\n",
    "rating1 = soup.find('div', class_='rankings-block__banner--rating').get_text()\n",
    "\n",
    "ratings = []\n",
    "ratings.append(rating1)\n",
    "\n",
    "rating2 = soup.find_all('td', class_='table-body__cell rating')[:9]\n",
    "\n",
    "for i in rating2:\n",
    "    ratings.append(i.text)\n",
    "ratings"
   ]
  },
  {
   "cell_type": "code",
   "execution_count": 89,
   "metadata": {},
   "outputs": [
    {
     "data": {
      "text/html": [
       "<div>\n",
       "<style scoped>\n",
       "    .dataframe tbody tr th:only-of-type {\n",
       "        vertical-align: middle;\n",
       "    }\n",
       "\n",
       "    .dataframe tbody tr th {\n",
       "        vertical-align: top;\n",
       "    }\n",
       "\n",
       "    .dataframe thead th {\n",
       "        text-align: right;\n",
       "    }\n",
       "</style>\n",
       "<table border=\"1\" class=\"dataframe\">\n",
       "  <thead>\n",
       "    <tr style=\"text-align: right;\">\n",
       "      <th></th>\n",
       "      <th>Player_Name</th>\n",
       "      <th>Team</th>\n",
       "      <th>Rating</th>\n",
       "    </tr>\n",
       "  </thead>\n",
       "  <tbody>\n",
       "    <tr>\n",
       "      <th>1</th>\n",
       "      <td>Trent Boult</td>\n",
       "      <td>NZ</td>\n",
       "      <td>737</td>\n",
       "    </tr>\n",
       "    <tr>\n",
       "      <th>2</th>\n",
       "      <td>Mehedi Hasan</td>\n",
       "      <td>BAN</td>\n",
       "      <td>713</td>\n",
       "    </tr>\n",
       "    <tr>\n",
       "      <th>3</th>\n",
       "      <td>Mujeeb Ur Rahman</td>\n",
       "      <td>AFG</td>\n",
       "      <td>708</td>\n",
       "    </tr>\n",
       "    <tr>\n",
       "      <th>4</th>\n",
       "      <td>Matt Henry</td>\n",
       "      <td>NZ</td>\n",
       "      <td>691</td>\n",
       "    </tr>\n",
       "    <tr>\n",
       "      <th>5</th>\n",
       "      <td>Jasprit Bumrah</td>\n",
       "      <td>IND</td>\n",
       "      <td>690</td>\n",
       "    </tr>\n",
       "    <tr>\n",
       "      <th>6</th>\n",
       "      <td>Kagiso Rabada</td>\n",
       "      <td>SA</td>\n",
       "      <td>666</td>\n",
       "    </tr>\n",
       "    <tr>\n",
       "      <th>7</th>\n",
       "      <td>Chris Woakes</td>\n",
       "      <td>ENG</td>\n",
       "      <td>665</td>\n",
       "    </tr>\n",
       "    <tr>\n",
       "      <th>8</th>\n",
       "      <td>Josh Hazlewood</td>\n",
       "      <td>AUS</td>\n",
       "      <td>660</td>\n",
       "    </tr>\n",
       "    <tr>\n",
       "      <th>9</th>\n",
       "      <td>Pat Cummins</td>\n",
       "      <td>AUS</td>\n",
       "      <td>646</td>\n",
       "    </tr>\n",
       "    <tr>\n",
       "      <th>10</th>\n",
       "      <td>Mustafizur Rahman</td>\n",
       "      <td>BAN</td>\n",
       "      <td>645</td>\n",
       "    </tr>\n",
       "  </tbody>\n",
       "</table>\n",
       "</div>"
      ],
      "text/plain": [
       "          Player_Name Team Rating\n",
       "1         Trent Boult   NZ    737\n",
       "2        Mehedi Hasan  BAN    713\n",
       "3    Mujeeb Ur Rahman  AFG    708\n",
       "4          Matt Henry   NZ    691\n",
       "5      Jasprit Bumrah  IND    690\n",
       "6       Kagiso Rabada   SA    666\n",
       "7        Chris Woakes  ENG    665\n",
       "8      Josh Hazlewood  AUS    660\n",
       "9         Pat Cummins  AUS    646\n",
       "10  Mustafizur Rahman  BAN    645"
      ]
     },
     "execution_count": 89,
     "metadata": {},
     "output_type": "execute_result"
    }
   ],
   "source": [
    "data = list(zip(Name,Team,ratings))\n",
    "\n",
    "Odi_Men_Bowlers = pd.DataFrame(data=data, columns = ['Player_Name','Team','Rating'], index = np.arange(1,11,1))\n",
    "\n",
    "Odi_Men_Bowlers"
   ]
  },
  {
   "cell_type": "code",
   "execution_count": 90,
   "metadata": {},
   "outputs": [],
   "source": [
    "Odi_Men_Bowlers.to_csv('Odi_Men_Bowlers.csv')"
   ]
  },
  {
   "cell_type": "markdown",
   "metadata": {},
   "source": [
    "### 6. Write a python program to scrape cricket rankings from ‘www.icc-cricket.com’. You have to scrape:"
   ]
  },
  {
   "cell_type": "markdown",
   "metadata": {},
   "source": [
    "### i) Top 10 ODI teams in women’s cricket along with the records for matches, points and rating."
   ]
  },
  {
   "cell_type": "code",
   "execution_count": 91,
   "metadata": {},
   "outputs": [],
   "source": [
    "Women = requests.get('https://www.icc-cricket.com/rankings/womens/team-rankings/odi')\n",
    "soup = BeautifulSoup(Women.content)"
   ]
  },
  {
   "cell_type": "code",
   "execution_count": 92,
   "metadata": {},
   "outputs": [
    {
     "data": {
      "text/plain": [
       "['Australia',\n",
       " 'South Africa',\n",
       " 'England',\n",
       " 'India',\n",
       " 'New Zealand',\n",
       " 'West Indies',\n",
       " 'Pakistan',\n",
       " 'Bangladesh',\n",
       " 'Sri Lanka',\n",
       " 'Ireland']"
      ]
     },
     "execution_count": 92,
     "metadata": {},
     "output_type": "execute_result"
    }
   ],
   "source": [
    "#Teams\n",
    "teams = []\n",
    "team1 = soup.find_all('span', class_='u-hide-phablet')[:10]\n",
    "\n",
    "for i in team1:\n",
    "    teams.append(i.text.replace('\\n',''))\n",
    "teams"
   ]
  },
  {
   "cell_type": "code",
   "execution_count": 93,
   "metadata": {},
   "outputs": [
    {
     "data": {
      "text/plain": [
       "['18', '24', '17', '20', '21', '12', '15', '5', '11', '2']"
      ]
     },
     "execution_count": 93,
     "metadata": {},
     "output_type": "execute_result"
    }
   ],
   "source": [
    "#matches\n",
    "\n",
    "match1 = soup.find('td', class_='rankings-block__banner--matches').get_text()\n",
    "\n",
    "matches = []\n",
    "matches.append(match1)\n",
    "\n",
    "cricket= soup.find_all(attrs={'class':'table-body'})\n",
    "\n",
    "for match in cricket:\n",
    "        matches.append(match.find('td', class_=\"table-body__cell u-center-text\").text[:2])\n",
    "matches"
   ]
  },
  {
   "cell_type": "code",
   "execution_count": 94,
   "metadata": {},
   "outputs": [
    {
     "data": {
      "text/plain": [
       "['2,955',\n",
       " ['2,828'],\n",
       " ['1,993'],\n",
       " ['2,226'],\n",
       " ['1,947'],\n",
       " ['1,025'],\n",
       " ['1,101'],\n",
       " ['306'],\n",
       " ['519'],\n",
       " ['25']]"
      ]
     },
     "execution_count": 94,
     "metadata": {},
     "output_type": "execute_result"
    }
   ],
   "source": [
    "#Points\n",
    "\n",
    "points = soup.find('td', class_='rankings-block__banner--points').get_text()\n",
    "\n",
    "Point=[]\n",
    "Point.append(points)\n",
    "\n",
    "cricket= soup.find_all(attrs={'class':'table-body'})\n",
    "\n",
    "for i in cricket:\n",
    "    Point.append(i.text.split('\\n')[8:9])\n",
    "Point"
   ]
  },
  {
   "cell_type": "code",
   "execution_count": 95,
   "metadata": {},
   "outputs": [
    {
     "data": {
      "text/plain": [
       "['164', '118', '117', '111', '93', '85', '73', '61', '47', '13']"
      ]
     },
     "execution_count": 95,
     "metadata": {},
     "output_type": "execute_result"
    }
   ],
   "source": [
    "#Ratings\n",
    "\n",
    "rating1 = soup.find('td', class_='rankings-block__banner--rating u-text-right').get_text()\n",
    "\n",
    "ratings = []\n",
    "ratings.append(rating1.replace('\\n','').strip())\n",
    "\n",
    "rating2 = soup.find_all('td', class_='table-body__cell u-text-right rating')\n",
    "\n",
    "for i in rating2:\n",
    "    ratings.append(i.text)\n",
    "ratings"
   ]
  },
  {
   "cell_type": "code",
   "execution_count": 96,
   "metadata": {},
   "outputs": [
    {
     "data": {
      "text/html": [
       "<div>\n",
       "<style scoped>\n",
       "    .dataframe tbody tr th:only-of-type {\n",
       "        vertical-align: middle;\n",
       "    }\n",
       "\n",
       "    .dataframe tbody tr th {\n",
       "        vertical-align: top;\n",
       "    }\n",
       "\n",
       "    .dataframe thead th {\n",
       "        text-align: right;\n",
       "    }\n",
       "</style>\n",
       "<table border=\"1\" class=\"dataframe\">\n",
       "  <thead>\n",
       "    <tr style=\"text-align: right;\">\n",
       "      <th></th>\n",
       "      <th>Team</th>\n",
       "      <th>Matches_Played</th>\n",
       "      <th>Points</th>\n",
       "      <th>Rating</th>\n",
       "    </tr>\n",
       "  </thead>\n",
       "  <tbody>\n",
       "    <tr>\n",
       "      <th>1</th>\n",
       "      <td>Australia</td>\n",
       "      <td>18</td>\n",
       "      <td>2,955</td>\n",
       "      <td>164</td>\n",
       "    </tr>\n",
       "    <tr>\n",
       "      <th>2</th>\n",
       "      <td>South Africa</td>\n",
       "      <td>24</td>\n",
       "      <td>[2,828]</td>\n",
       "      <td>118</td>\n",
       "    </tr>\n",
       "    <tr>\n",
       "      <th>3</th>\n",
       "      <td>England</td>\n",
       "      <td>17</td>\n",
       "      <td>[1,993]</td>\n",
       "      <td>117</td>\n",
       "    </tr>\n",
       "    <tr>\n",
       "      <th>4</th>\n",
       "      <td>India</td>\n",
       "      <td>20</td>\n",
       "      <td>[2,226]</td>\n",
       "      <td>111</td>\n",
       "    </tr>\n",
       "    <tr>\n",
       "      <th>5</th>\n",
       "      <td>New Zealand</td>\n",
       "      <td>21</td>\n",
       "      <td>[1,947]</td>\n",
       "      <td>93</td>\n",
       "    </tr>\n",
       "    <tr>\n",
       "      <th>6</th>\n",
       "      <td>West Indies</td>\n",
       "      <td>12</td>\n",
       "      <td>[1,025]</td>\n",
       "      <td>85</td>\n",
       "    </tr>\n",
       "    <tr>\n",
       "      <th>7</th>\n",
       "      <td>Pakistan</td>\n",
       "      <td>15</td>\n",
       "      <td>[1,101]</td>\n",
       "      <td>73</td>\n",
       "    </tr>\n",
       "    <tr>\n",
       "      <th>8</th>\n",
       "      <td>Bangladesh</td>\n",
       "      <td>5</td>\n",
       "      <td>[306]</td>\n",
       "      <td>61</td>\n",
       "    </tr>\n",
       "    <tr>\n",
       "      <th>9</th>\n",
       "      <td>Sri Lanka</td>\n",
       "      <td>11</td>\n",
       "      <td>[519]</td>\n",
       "      <td>47</td>\n",
       "    </tr>\n",
       "    <tr>\n",
       "      <th>10</th>\n",
       "      <td>Ireland</td>\n",
       "      <td>2</td>\n",
       "      <td>[25]</td>\n",
       "      <td>13</td>\n",
       "    </tr>\n",
       "  </tbody>\n",
       "</table>\n",
       "</div>"
      ],
      "text/plain": [
       "            Team Matches_Played   Points Rating\n",
       "1      Australia             18    2,955    164\n",
       "2   South Africa             24  [2,828]    118\n",
       "3        England             17  [1,993]    117\n",
       "4          India             20  [2,226]    111\n",
       "5    New Zealand             21  [1,947]     93\n",
       "6    West Indies             12  [1,025]     85\n",
       "7       Pakistan             15  [1,101]     73\n",
       "8     Bangladesh              5    [306]     61\n",
       "9      Sri Lanka             11    [519]     47\n",
       "10       Ireland              2     [25]     13"
      ]
     },
     "execution_count": 96,
     "metadata": {},
     "output_type": "execute_result"
    }
   ],
   "source": [
    "#DataFrame\n",
    "data = list(zip(teams,matches,Point,ratings))\n",
    "\n",
    "Women_ODI_Teams = pd.DataFrame(data=data, columns = ['Team','Matches_Played','Points','Rating'], index = np.arange(1,11,1))\n",
    "\n",
    "Women_ODI_Teams"
   ]
  },
  {
   "cell_type": "code",
   "execution_count": 97,
   "metadata": {},
   "outputs": [],
   "source": [
    "Women_ODI_Teams.to_csv('Women_ODI_Teams.csv')"
   ]
  },
  {
   "cell_type": "markdown",
   "metadata": {},
   "source": [
    "### ii) Top 10 women’s ODI players along with the records of their team and rating."
   ]
  },
  {
   "cell_type": "code",
   "execution_count": 98,
   "metadata": {},
   "outputs": [],
   "source": [
    "batting = requests.get('https://www.icc-cricket.com/rankings/womens/player-rankings/odi')\n",
    "\n",
    "batting.content\n",
    "soup = BeautifulSoup(batting.content)"
   ]
  },
  {
   "cell_type": "code",
   "execution_count": 99,
   "metadata": {},
   "outputs": [
    {
     "data": {
      "text/plain": [
       "['Tammy Beaumont',\n",
       " 'Lizelle Lee',\n",
       " 'Alyssa Healy',\n",
       " 'Stafanie Taylor',\n",
       " 'Meg Lanning',\n",
       " 'Amy Satterthwaite',\n",
       " 'Smriti Mandhana',\n",
       " 'Mithali Raj',\n",
       " 'Natalie Sciver',\n",
       " 'Laura Wolvaardt']"
      ]
     },
     "execution_count": 99,
     "metadata": {},
     "output_type": "execute_result"
    }
   ],
   "source": [
    "#PLayers\n",
    "player1 = soup.find('div', class_='rankings-block__banner--name').get_text()\n",
    "\n",
    "players = []\n",
    "players.append(player1)\n",
    "\n",
    "player2 = soup.find_all('td', class_='table-body__cell name')[:9]\n",
    "\n",
    "for i in player2:\n",
    "    players.append(i.a.text.strip().replace(\"\\n\", ''))\n",
    "players\n"
   ]
  },
  {
   "cell_type": "code",
   "execution_count": 100,
   "metadata": {},
   "outputs": [
    {
     "data": {
      "text/plain": [
       "['ENG', 'SA', 'AUS', 'WI', 'AUS', 'NZ', 'IND', 'IND', 'ENG', 'SA']"
      ]
     },
     "execution_count": 100,
     "metadata": {},
     "output_type": "execute_result"
    }
   ],
   "source": [
    "#Teams\n",
    "\n",
    "team1=soup.find('div', class_='rankings-block__banner--nationality')\n",
    "\n",
    "teams = []\n",
    "teams.append(team1.text.replace('765', '').replace('\\n','').strip())\n",
    "\n",
    "\n",
    "team2 = soup.find_all('span',class_='table-body__logo-text')[:9]\n",
    "\n",
    "for i in team2:\n",
    "    teams.append(i.text)\n",
    "teams"
   ]
  },
  {
   "cell_type": "code",
   "execution_count": 101,
   "metadata": {},
   "outputs": [
    {
     "data": {
      "text/plain": [
       "['765', '758', '756', '746', '723', '715', '710', '709', '685', '683']"
      ]
     },
     "execution_count": 101,
     "metadata": {},
     "output_type": "execute_result"
    }
   ],
   "source": [
    "#ratings\n",
    "\n",
    "rating1 = soup.find('div', class_='rankings-block__banner--rating').get_text()\n",
    "\n",
    "ratings = []\n",
    "ratings.append(rating1)\n",
    "\n",
    "rating2 = soup.find_all('td',class_=\"table-body__cell u-text-right rating\")[:9]\n",
    "\n",
    "for i in rating2:\n",
    "    ratings.append(i.text)\n",
    "ratings"
   ]
  },
  {
   "cell_type": "code",
   "execution_count": 102,
   "metadata": {},
   "outputs": [
    {
     "data": {
      "text/html": [
       "<div>\n",
       "<style scoped>\n",
       "    .dataframe tbody tr th:only-of-type {\n",
       "        vertical-align: middle;\n",
       "    }\n",
       "\n",
       "    .dataframe tbody tr th {\n",
       "        vertical-align: top;\n",
       "    }\n",
       "\n",
       "    .dataframe thead th {\n",
       "        text-align: right;\n",
       "    }\n",
       "</style>\n",
       "<table border=\"1\" class=\"dataframe\">\n",
       "  <thead>\n",
       "    <tr style=\"text-align: right;\">\n",
       "      <th></th>\n",
       "      <th>Player_Name</th>\n",
       "      <th>Team</th>\n",
       "      <th>Rating</th>\n",
       "    </tr>\n",
       "  </thead>\n",
       "  <tbody>\n",
       "    <tr>\n",
       "      <th>1</th>\n",
       "      <td>Tammy Beaumont</td>\n",
       "      <td>ENG</td>\n",
       "      <td>765</td>\n",
       "    </tr>\n",
       "    <tr>\n",
       "      <th>2</th>\n",
       "      <td>Lizelle Lee</td>\n",
       "      <td>SA</td>\n",
       "      <td>758</td>\n",
       "    </tr>\n",
       "    <tr>\n",
       "      <th>3</th>\n",
       "      <td>Alyssa Healy</td>\n",
       "      <td>AUS</td>\n",
       "      <td>756</td>\n",
       "    </tr>\n",
       "    <tr>\n",
       "      <th>4</th>\n",
       "      <td>Stafanie Taylor</td>\n",
       "      <td>WI</td>\n",
       "      <td>746</td>\n",
       "    </tr>\n",
       "    <tr>\n",
       "      <th>5</th>\n",
       "      <td>Meg Lanning</td>\n",
       "      <td>AUS</td>\n",
       "      <td>723</td>\n",
       "    </tr>\n",
       "    <tr>\n",
       "      <th>6</th>\n",
       "      <td>Amy Satterthwaite</td>\n",
       "      <td>NZ</td>\n",
       "      <td>715</td>\n",
       "    </tr>\n",
       "    <tr>\n",
       "      <th>7</th>\n",
       "      <td>Smriti Mandhana</td>\n",
       "      <td>IND</td>\n",
       "      <td>710</td>\n",
       "    </tr>\n",
       "    <tr>\n",
       "      <th>8</th>\n",
       "      <td>Mithali Raj</td>\n",
       "      <td>IND</td>\n",
       "      <td>709</td>\n",
       "    </tr>\n",
       "    <tr>\n",
       "      <th>9</th>\n",
       "      <td>Natalie Sciver</td>\n",
       "      <td>ENG</td>\n",
       "      <td>685</td>\n",
       "    </tr>\n",
       "    <tr>\n",
       "      <th>10</th>\n",
       "      <td>Laura Wolvaardt</td>\n",
       "      <td>SA</td>\n",
       "      <td>683</td>\n",
       "    </tr>\n",
       "  </tbody>\n",
       "</table>\n",
       "</div>"
      ],
      "text/plain": [
       "          Player_Name Team Rating\n",
       "1      Tammy Beaumont  ENG    765\n",
       "2         Lizelle Lee   SA    758\n",
       "3        Alyssa Healy  AUS    756\n",
       "4     Stafanie Taylor   WI    746\n",
       "5         Meg Lanning  AUS    723\n",
       "6   Amy Satterthwaite   NZ    715\n",
       "7     Smriti Mandhana  IND    710\n",
       "8         Mithali Raj  IND    709\n",
       "9      Natalie Sciver  ENG    685\n",
       "10    Laura Wolvaardt   SA    683"
      ]
     },
     "execution_count": 102,
     "metadata": {},
     "output_type": "execute_result"
    }
   ],
   "source": [
    "#DataFrame\n",
    "data=list(zip(players,teams,ratings))\n",
    "\n",
    "ODI_Players = pd.DataFrame(data=data, columns=['Player_Name','Team','Rating'], index=np.arange(1,11,1))\n",
    "\n",
    "ODI_Players"
   ]
  },
  {
   "cell_type": "code",
   "execution_count": 103,
   "metadata": {},
   "outputs": [],
   "source": [
    "ODI_Players.to_csv('Women_Batsmen.csv')"
   ]
  },
  {
   "cell_type": "markdown",
   "metadata": {},
   "source": [
    "### iii) Top 10 women’s ODI all-rounder along with the records of their team and rating."
   ]
  },
  {
   "cell_type": "code",
   "execution_count": 104,
   "metadata": {},
   "outputs": [],
   "source": [
    "allrounders = requests.get(\"https://www.icc-cricket.com/rankings/womens/player-rankings/odi/all-rounder\")\n",
    "\n",
    "allrounders.content\n",
    "soup = BeautifulSoup(allrounders.content)"
   ]
  },
  {
   "cell_type": "code",
   "execution_count": 105,
   "metadata": {},
   "outputs": [
    {
     "data": {
      "text/plain": [
       "['Marizanne Kapp',\n",
       " 'Ellyse Perry',\n",
       " 'Stafanie Taylor',\n",
       " 'Natalie Sciver',\n",
       " 'Deepti Sharma',\n",
       " 'Jess Jonassen',\n",
       " 'Ashleigh Gardner',\n",
       " 'Dane van Niekerk',\n",
       " 'Sophie Devine',\n",
       " 'Amelia Kerr']"
      ]
     },
     "execution_count": 105,
     "metadata": {},
     "output_type": "execute_result"
    }
   ],
   "source": [
    "#Names\n",
    "name1 = soup.find('div', class_= 'rankings-block__banner--name-large').get_text()\n",
    "\n",
    "player = []\n",
    "player.append(name1)\n",
    "\n",
    "name2 = soup.find_all('td', class_='table-body__cell rankings-table__name name')[:9]\n",
    "\n",
    "for i in name2:\n",
    "    player.append(i.text.replace('\\n',''))\n",
    "player"
   ]
  },
  {
   "cell_type": "code",
   "execution_count": 106,
   "metadata": {},
   "outputs": [
    {
     "data": {
      "text/plain": [
       "['SA', 'AUS', 'WI', 'ENG', 'IND', 'AUS', 'AUS', 'SA', 'NZ', 'NZ']"
      ]
     },
     "execution_count": 106,
     "metadata": {},
     "output_type": "execute_result"
    }
   ],
   "source": [
    "#team\n",
    "\n",
    "team1 = soup.find('div',class_='rankings-block__banner--nationality')\n",
    "\n",
    "team = []    \n",
    "team.append(team1.text.replace('\\n','').strip())\n",
    "\n",
    "team2 = soup.find_all('span', class_='table-body__logo-text')[:9]\n",
    "\n",
    "for i in team2:\n",
    "    team.append(i.text.replace('\\n',''))\n",
    "team"
   ]
  },
  {
   "cell_type": "code",
   "execution_count": 107,
   "metadata": {},
   "outputs": [
    {
     "data": {
      "text/plain": [
       "['418', '418', '410', '349', '343', '307', '252', '243', '242', '236']"
      ]
     },
     "execution_count": 107,
     "metadata": {},
     "output_type": "execute_result"
    }
   ],
   "source": [
    "#rating\n",
    "\n",
    "rating1 = soup.find('div', class_='rankings-block__banner--rating').get_text()\n",
    "\n",
    "rating = []\n",
    "rating.append(rating1)\n",
    "\n",
    "rating2 = soup.find_all('td', class_='table-body__cell rating')[:9]\n",
    "\n",
    "for i in rating2:\n",
    "    rating.append(i.text.replace('\\n',''))\n",
    "rating"
   ]
  },
  {
   "cell_type": "code",
   "execution_count": 108,
   "metadata": {},
   "outputs": [
    {
     "data": {
      "text/html": [
       "<div>\n",
       "<style scoped>\n",
       "    .dataframe tbody tr th:only-of-type {\n",
       "        vertical-align: middle;\n",
       "    }\n",
       "\n",
       "    .dataframe tbody tr th {\n",
       "        vertical-align: top;\n",
       "    }\n",
       "\n",
       "    .dataframe thead th {\n",
       "        text-align: right;\n",
       "    }\n",
       "</style>\n",
       "<table border=\"1\" class=\"dataframe\">\n",
       "  <thead>\n",
       "    <tr style=\"text-align: right;\">\n",
       "      <th></th>\n",
       "      <th>Player_Name</th>\n",
       "      <th>Team</th>\n",
       "      <th>Rating</th>\n",
       "    </tr>\n",
       "  </thead>\n",
       "  <tbody>\n",
       "    <tr>\n",
       "      <th>1</th>\n",
       "      <td>Marizanne Kapp</td>\n",
       "      <td>SA</td>\n",
       "      <td>418</td>\n",
       "    </tr>\n",
       "    <tr>\n",
       "      <th>2</th>\n",
       "      <td>Ellyse Perry</td>\n",
       "      <td>AUS</td>\n",
       "      <td>418</td>\n",
       "    </tr>\n",
       "    <tr>\n",
       "      <th>3</th>\n",
       "      <td>Stafanie Taylor</td>\n",
       "      <td>WI</td>\n",
       "      <td>410</td>\n",
       "    </tr>\n",
       "    <tr>\n",
       "      <th>4</th>\n",
       "      <td>Natalie Sciver</td>\n",
       "      <td>ENG</td>\n",
       "      <td>349</td>\n",
       "    </tr>\n",
       "    <tr>\n",
       "      <th>5</th>\n",
       "      <td>Deepti Sharma</td>\n",
       "      <td>IND</td>\n",
       "      <td>343</td>\n",
       "    </tr>\n",
       "    <tr>\n",
       "      <th>6</th>\n",
       "      <td>Jess Jonassen</td>\n",
       "      <td>AUS</td>\n",
       "      <td>307</td>\n",
       "    </tr>\n",
       "    <tr>\n",
       "      <th>7</th>\n",
       "      <td>Ashleigh Gardner</td>\n",
       "      <td>AUS</td>\n",
       "      <td>252</td>\n",
       "    </tr>\n",
       "    <tr>\n",
       "      <th>8</th>\n",
       "      <td>Dane van Niekerk</td>\n",
       "      <td>SA</td>\n",
       "      <td>243</td>\n",
       "    </tr>\n",
       "    <tr>\n",
       "      <th>9</th>\n",
       "      <td>Sophie Devine</td>\n",
       "      <td>NZ</td>\n",
       "      <td>242</td>\n",
       "    </tr>\n",
       "    <tr>\n",
       "      <th>10</th>\n",
       "      <td>Amelia Kerr</td>\n",
       "      <td>NZ</td>\n",
       "      <td>236</td>\n",
       "    </tr>\n",
       "  </tbody>\n",
       "</table>\n",
       "</div>"
      ],
      "text/plain": [
       "         Player_Name Team Rating\n",
       "1     Marizanne Kapp   SA    418\n",
       "2       Ellyse Perry  AUS    418\n",
       "3    Stafanie Taylor   WI    410\n",
       "4     Natalie Sciver  ENG    349\n",
       "5      Deepti Sharma  IND    343\n",
       "6      Jess Jonassen  AUS    307\n",
       "7   Ashleigh Gardner  AUS    252\n",
       "8   Dane van Niekerk   SA    243\n",
       "9      Sophie Devine   NZ    242\n",
       "10       Amelia Kerr   NZ    236"
      ]
     },
     "execution_count": 108,
     "metadata": {},
     "output_type": "execute_result"
    }
   ],
   "source": [
    "#DataFrane\n",
    "data  = list(zip(player,team,rating))\n",
    "\n",
    "All_Rounders = pd.DataFrame(data = data, columns = ['Player_Name','Team','Rating'], index = np.arange(1,11,1))\n",
    "All_Rounders"
   ]
  },
  {
   "cell_type": "code",
   "execution_count": 109,
   "metadata": {},
   "outputs": [],
   "source": [
    "All_Rounders.to_csv('Women_allrounders.csv')"
   ]
  },
  {
   "cell_type": "markdown",
   "metadata": {},
   "source": [
    "### 7. Write a python program to scrape details of all the mobile phones under Rs. 20,000 listed on Amazon.in. The scraped data should include Product Name, Price, Image URL and Average Rating"
   ]
  },
  {
   "cell_type": "code",
   "execution_count": 110,
   "metadata": {},
   "outputs": [],
   "source": [
    "pages = [str(i) for i in range(1,257)]"
   ]
  },
  {
   "cell_type": "code",
   "execution_count": 111,
   "metadata": {},
   "outputs": [],
   "source": [
    "for page in pages:\n",
    "    amazon = requests.get(\"https://www.amazon.in/s?i=electronics&bbn=1389432031&rh=n%3A1389432031%2Cp_n_condition-type%3A8609960031%2Cp_36%3A-2000000&dc&qid=1624174366&rnid=1318502031&ref=sr_nr_p_36_5\" + page + '.html')\n",
    "    soup = BeautifulSoup(amazon.content,'html.parser')"
   ]
  },
  {
   "cell_type": "code",
   "execution_count": 112,
   "metadata": {},
   "outputs": [
    {
     "data": {
      "text/plain": [
       "<Response [503]>"
      ]
     },
     "execution_count": 112,
     "metadata": {},
     "output_type": "execute_result"
    }
   ],
   "source": [
    "amazon"
   ]
  },
  {
   "cell_type": "markdown",
   "metadata": {},
   "source": [
    "### 8. Write a python program to extract information about the local weather from the National Weather Service website of USA, https://www.weather.gov/ for the city, San Francisco. You need to extract data about 7 day extended forecast display for the city. The data should include period, short description, temperature and description"
   ]
  },
  {
   "cell_type": "code",
   "execution_count": 113,
   "metadata": {},
   "outputs": [],
   "source": [
    "san = requests.get('https://forecast.weather.gov/MapClick.php?lat=37.77493000000004&lon=-122.41941999999995#.YMngdmgzbIU')\n",
    "soup = BeautifulSoup(san.content)"
   ]
  },
  {
   "cell_type": "code",
   "execution_count": 114,
   "metadata": {},
   "outputs": [
    {
     "data": {
      "text/plain": [
       "['Tonight',\n",
       " 'Wednesday',\n",
       " 'WednesdayNight',\n",
       " 'Thursday',\n",
       " 'ThursdayNight',\n",
       " 'Friday',\n",
       " 'FridayNight',\n",
       " 'Saturday',\n",
       " 'SaturdayNight']"
      ]
     },
     "execution_count": 114,
     "metadata": {},
     "output_type": "execute_result"
    }
   ],
   "source": [
    "#Period\n",
    "\n",
    "period = soup.find_all('p',class_='period-name')\n",
    "\n",
    "Period = []\n",
    "\n",
    "for i in period:\n",
    "    Period.append(i.text)\n",
    "Period"
   ]
  },
  {
   "cell_type": "code",
   "execution_count": 115,
   "metadata": {},
   "outputs": [
    {
     "data": {
      "text/plain": [
       "['Mostly Cloudy',\n",
       " 'Slight ChanceDrizzle thenSunny',\n",
       " 'IncreasingClouds',\n",
       " 'Mostly Sunnythen Sunnyand Breezy',\n",
       " 'Mostly Clearand Breezythen MostlyCloudy',\n",
       " 'Mostly Sunny',\n",
       " 'Partly Cloudy',\n",
       " 'Mostly Sunny',\n",
       " 'Partly Cloudy']"
      ]
     },
     "execution_count": 115,
     "metadata": {},
     "output_type": "execute_result"
    }
   ],
   "source": [
    "#Short Description\n",
    "desc= soup.find_all('p', class_='short-desc')\n",
    "\n",
    "shortdesc = []\n",
    "\n",
    "for i in desc:\n",
    "    shortdesc.append(i.text)\n",
    "shortdesc"
   ]
  },
  {
   "cell_type": "code",
   "execution_count": 116,
   "metadata": {},
   "outputs": [
    {
     "data": {
      "text/plain": [
       "['Low: 57 °F',\n",
       " 'High: 70 °F',\n",
       " 'Low: 56 °F',\n",
       " 'High: 68 °F',\n",
       " 'Low: 55 °F',\n",
       " 'High: 68 °F',\n",
       " 'Low: 56 °F',\n",
       " 'High: 71 °F',\n",
       " 'Low: 57 °F']"
      ]
     },
     "execution_count": 116,
     "metadata": {},
     "output_type": "execute_result"
    }
   ],
   "source": [
    "#Temperature\n",
    "tem = soup.find_all('p', class_=['temp temp-high','temp temp-low'])\n",
    "\n",
    "temp = []\n",
    "\n",
    "for i in tem:\n",
    "    temp.append(i.text)\n",
    "temp"
   ]
  },
  {
   "cell_type": "code",
   "execution_count": 117,
   "metadata": {},
   "outputs": [
    {
     "data": {
      "text/plain": [
       "['Mostly cloudy, with a low around 57. West southwest wind around 11 mph. ',\n",
       " 'A slight chance of drizzle before 11am.  Partly sunny, then gradually becoming sunny, with a high near 70. West wind 8 to 18 mph, with gusts as high as 23 mph. ',\n",
       " 'Increasing clouds, with a low around 56. West wind 14 to 18 mph, with gusts as high as 23 mph. ',\n",
       " 'Mostly cloudy through mid morning, then gradual clearing, with a high near 68. Breezy, with a west wind 13 to 22 mph, with gusts as high as 29 mph. ',\n",
       " 'Partly cloudy, with a low around 55. Breezy, with a west southwest wind 19 to 24 mph decreasing to 10 to 15 mph after midnight. Winds could gust as high as 31 mph. ',\n",
       " 'Mostly sunny, with a high near 68.',\n",
       " 'Partly cloudy, with a low around 56.',\n",
       " 'Mostly sunny, with a high near 71.',\n",
       " 'Partly cloudy, with a low around 57.']"
      ]
     },
     "execution_count": 117,
     "metadata": {},
     "output_type": "execute_result"
    }
   ],
   "source": [
    "#Description\n",
    "\n",
    "descp = soup.find_all('div', class_='col-sm-10 forecast-text')[:9]\n",
    "\n",
    "description = []\n",
    "\n",
    "for i in descp:\n",
    "    description.append(i.text)\n",
    "description"
   ]
  },
  {
   "cell_type": "code",
   "execution_count": 118,
   "metadata": {},
   "outputs": [
    {
     "data": {
      "text/html": [
       "<div>\n",
       "<style scoped>\n",
       "    .dataframe tbody tr th:only-of-type {\n",
       "        vertical-align: middle;\n",
       "    }\n",
       "\n",
       "    .dataframe tbody tr th {\n",
       "        vertical-align: top;\n",
       "    }\n",
       "\n",
       "    .dataframe thead th {\n",
       "        text-align: right;\n",
       "    }\n",
       "</style>\n",
       "<table border=\"1\" class=\"dataframe\">\n",
       "  <thead>\n",
       "    <tr style=\"text-align: right;\">\n",
       "      <th></th>\n",
       "      <th>Period</th>\n",
       "      <th>Short_Desc.</th>\n",
       "      <th>Temperation</th>\n",
       "      <th>Description</th>\n",
       "    </tr>\n",
       "  </thead>\n",
       "  <tbody>\n",
       "    <tr>\n",
       "      <th>1</th>\n",
       "      <td>Tonight</td>\n",
       "      <td>Mostly Cloudy</td>\n",
       "      <td>Low: 57 °F</td>\n",
       "      <td>Mostly cloudy, with a low around 57. West sout...</td>\n",
       "    </tr>\n",
       "    <tr>\n",
       "      <th>2</th>\n",
       "      <td>Wednesday</td>\n",
       "      <td>Slight ChanceDrizzle thenSunny</td>\n",
       "      <td>High: 70 °F</td>\n",
       "      <td>A slight chance of drizzle before 11am.  Partl...</td>\n",
       "    </tr>\n",
       "    <tr>\n",
       "      <th>3</th>\n",
       "      <td>WednesdayNight</td>\n",
       "      <td>IncreasingClouds</td>\n",
       "      <td>Low: 56 °F</td>\n",
       "      <td>Increasing clouds, with a low around 56. West ...</td>\n",
       "    </tr>\n",
       "    <tr>\n",
       "      <th>4</th>\n",
       "      <td>Thursday</td>\n",
       "      <td>Mostly Sunnythen Sunnyand Breezy</td>\n",
       "      <td>High: 68 °F</td>\n",
       "      <td>Mostly cloudy through mid morning, then gradua...</td>\n",
       "    </tr>\n",
       "    <tr>\n",
       "      <th>5</th>\n",
       "      <td>ThursdayNight</td>\n",
       "      <td>Mostly Clearand Breezythen MostlyCloudy</td>\n",
       "      <td>Low: 55 °F</td>\n",
       "      <td>Partly cloudy, with a low around 55. Breezy, w...</td>\n",
       "    </tr>\n",
       "    <tr>\n",
       "      <th>6</th>\n",
       "      <td>Friday</td>\n",
       "      <td>Mostly Sunny</td>\n",
       "      <td>High: 68 °F</td>\n",
       "      <td>Mostly sunny, with a high near 68.</td>\n",
       "    </tr>\n",
       "    <tr>\n",
       "      <th>7</th>\n",
       "      <td>FridayNight</td>\n",
       "      <td>Partly Cloudy</td>\n",
       "      <td>Low: 56 °F</td>\n",
       "      <td>Partly cloudy, with a low around 56.</td>\n",
       "    </tr>\n",
       "    <tr>\n",
       "      <th>8</th>\n",
       "      <td>Saturday</td>\n",
       "      <td>Mostly Sunny</td>\n",
       "      <td>High: 71 °F</td>\n",
       "      <td>Mostly sunny, with a high near 71.</td>\n",
       "    </tr>\n",
       "    <tr>\n",
       "      <th>9</th>\n",
       "      <td>SaturdayNight</td>\n",
       "      <td>Partly Cloudy</td>\n",
       "      <td>Low: 57 °F</td>\n",
       "      <td>Partly cloudy, with a low around 57.</td>\n",
       "    </tr>\n",
       "  </tbody>\n",
       "</table>\n",
       "</div>"
      ],
      "text/plain": [
       "           Period                              Short_Desc.  Temperation  \\\n",
       "1         Tonight                            Mostly Cloudy   Low: 57 °F   \n",
       "2       Wednesday           Slight ChanceDrizzle thenSunny  High: 70 °F   \n",
       "3  WednesdayNight                         IncreasingClouds   Low: 56 °F   \n",
       "4        Thursday         Mostly Sunnythen Sunnyand Breezy  High: 68 °F   \n",
       "5   ThursdayNight  Mostly Clearand Breezythen MostlyCloudy   Low: 55 °F   \n",
       "6          Friday                             Mostly Sunny  High: 68 °F   \n",
       "7     FridayNight                            Partly Cloudy   Low: 56 °F   \n",
       "8        Saturday                             Mostly Sunny  High: 71 °F   \n",
       "9   SaturdayNight                            Partly Cloudy   Low: 57 °F   \n",
       "\n",
       "                                         Description  \n",
       "1  Mostly cloudy, with a low around 57. West sout...  \n",
       "2  A slight chance of drizzle before 11am.  Partl...  \n",
       "3  Increasing clouds, with a low around 56. West ...  \n",
       "4  Mostly cloudy through mid morning, then gradua...  \n",
       "5  Partly cloudy, with a low around 55. Breezy, w...  \n",
       "6                 Mostly sunny, with a high near 68.  \n",
       "7               Partly cloudy, with a low around 56.  \n",
       "8                 Mostly sunny, with a high near 71.  \n",
       "9               Partly cloudy, with a low around 57.  "
      ]
     },
     "execution_count": 118,
     "metadata": {},
     "output_type": "execute_result"
    }
   ],
   "source": [
    "#DataFrame\n",
    "data = list(zip(Period,shortdesc,temp,description))\n",
    "\n",
    "Sanfrancisco_Weather = pd.DataFrame(data=data, columns =['Period','Short_Desc.','Temperation','Description'], index = np.arange(1,10,1))\n",
    "\n",
    "Sanfrancisco_Weather"
   ]
  },
  {
   "cell_type": "code",
   "execution_count": 119,
   "metadata": {},
   "outputs": [],
   "source": [
    "Sanfrancisco_Weather.to_csv('Sanfrancisco_Weather.csv')"
   ]
  },
  {
   "cell_type": "markdown",
   "metadata": {},
   "source": [
    "### 9. Write a python program to scrape fresher job listings from ‘https://internshala.com/’. It should include job title, company name, CTC, and apply date."
   ]
  },
  {
   "cell_type": "code",
   "execution_count": 120,
   "metadata": {},
   "outputs": [
    {
     "data": {
      "text/plain": [
       "120"
      ]
     },
     "execution_count": 120,
     "metadata": {},
     "output_type": "execute_result"
    }
   ],
   "source": [
    "#JobTitle\n",
    "\n",
    "pages = [str(i) for i in range(1,4)]\n",
    "\n",
    "Titles = []\n",
    "\n",
    "for page in pages:\n",
    "    jobs = requests.get('https://internshala.com/fresher-jobs/page-' + page + '.html')\n",
    "    soup = BeautifulSoup(jobs.content,'html.parser')\n",
    "\n",
    "for page in pages:\n",
    "    title = soup.find_all('div',class_='heading_4_5 profile')\n",
    "    for i in title:\n",
    "        Titles.append(i.a.text)\n",
    "\n",
    "len(Titles)"
   ]
  },
  {
   "cell_type": "code",
   "execution_count": 121,
   "metadata": {},
   "outputs": [
    {
     "data": {
      "text/plain": [
       "120"
      ]
     },
     "execution_count": 121,
     "metadata": {},
     "output_type": "execute_result"
    }
   ],
   "source": [
    "#Company Name\n",
    "\n",
    "Companies = []\n",
    "\n",
    "for page in pages:\n",
    "    company =  soup.find_all('a', class_='link_display_like_text')\n",
    "    for i in company:\n",
    "        Companies.append(i.text.replace('\\n', '').strip())\n",
    "\n",
    "len(Companies)"
   ]
  },
  {
   "cell_type": "code",
   "execution_count": 122,
   "metadata": {},
   "outputs": [
    {
     "data": {
      "text/plain": [
       "120"
      ]
     },
     "execution_count": 122,
     "metadata": {},
     "output_type": "execute_result"
    }
   ],
   "source": [
    "#CTC\n",
    "\n",
    "CTC = []\n",
    "\n",
    "for page in pages:\n",
    "    ctc = soup.findAll('div', class_='internship_other_details_container')\n",
    "    for i in ctc:\n",
    "        CTC.append(i.text.strip().split('\\n')[13].strip())\n",
    "\n",
    "len(CTC)"
   ]
  },
  {
   "cell_type": "code",
   "execution_count": 123,
   "metadata": {},
   "outputs": [
    {
     "data": {
      "text/plain": [
       "120"
      ]
     },
     "execution_count": 123,
     "metadata": {},
     "output_type": "execute_result"
    }
   ],
   "source": [
    "#ApplyBy\n",
    "\n",
    "ApplyBy = []\n",
    "\n",
    "for page in pages:\n",
    "    apply = soup.findAll('div', class_='internship_other_details_container')\n",
    "    for i in apply:\n",
    "        ApplyBy.append(i.text.strip().split('\\n')[22].strip())\n",
    "\n",
    "len(ApplyBy)"
   ]
  },
  {
   "cell_type": "code",
   "execution_count": 124,
   "metadata": {},
   "outputs": [
    {
     "data": {
      "text/html": [
       "<div>\n",
       "<style scoped>\n",
       "    .dataframe tbody tr th:only-of-type {\n",
       "        vertical-align: middle;\n",
       "    }\n",
       "\n",
       "    .dataframe tbody tr th {\n",
       "        vertical-align: top;\n",
       "    }\n",
       "\n",
       "    .dataframe thead th {\n",
       "        text-align: right;\n",
       "    }\n",
       "</style>\n",
       "<table border=\"1\" class=\"dataframe\">\n",
       "  <thead>\n",
       "    <tr style=\"text-align: right;\">\n",
       "      <th></th>\n",
       "      <th>Job_Title</th>\n",
       "      <th>Company_Name</th>\n",
       "      <th>Annual_CTC</th>\n",
       "      <th>Apply_Date</th>\n",
       "    </tr>\n",
       "  </thead>\n",
       "  <tbody>\n",
       "    <tr>\n",
       "      <th>1</th>\n",
       "      <td>Product Developer - Mathematics</td>\n",
       "      <td>Open Door Education</td>\n",
       "      <td>7 - 8 LPA</td>\n",
       "      <td>22 Jul' 21</td>\n",
       "    </tr>\n",
       "    <tr>\n",
       "      <th>2</th>\n",
       "      <td>Sales Development Representative</td>\n",
       "      <td>Content Beta</td>\n",
       "      <td>3 - 4 LPA</td>\n",
       "      <td>22 Jul' 21</td>\n",
       "    </tr>\n",
       "    <tr>\n",
       "      <th>3</th>\n",
       "      <td>Full Stack Engineer</td>\n",
       "      <td>Softway Solutions Private Limited</td>\n",
       "      <td>5.5 - 9 LPA</td>\n",
       "      <td>22 Jul' 21</td>\n",
       "    </tr>\n",
       "    <tr>\n",
       "      <th>4</th>\n",
       "      <td>Junior ReactJS Developer</td>\n",
       "      <td>DeepThought Edutech Ventures Private Limited</td>\n",
       "      <td>3 - 5 LPA</td>\n",
       "      <td>22 Jul' 21</td>\n",
       "    </tr>\n",
       "    <tr>\n",
       "      <th>5</th>\n",
       "      <td>Marketing Manager</td>\n",
       "      <td>Saltoro Coffee Roasters</td>\n",
       "      <td>3.2 - 3.5 LPA</td>\n",
       "      <td>22 Jul' 21</td>\n",
       "    </tr>\n",
       "    <tr>\n",
       "      <th>...</th>\n",
       "      <td>...</td>\n",
       "      <td>...</td>\n",
       "      <td>...</td>\n",
       "      <td>...</td>\n",
       "    </tr>\n",
       "    <tr>\n",
       "      <th>116</th>\n",
       "      <td>Order Processor</td>\n",
       "      <td>InspectHOA</td>\n",
       "      <td>3 LPA</td>\n",
       "      <td>14 Jul' 21</td>\n",
       "    </tr>\n",
       "    <tr>\n",
       "      <th>117</th>\n",
       "      <td>Full Stack Developer</td>\n",
       "      <td>Nikulsan Technologies Private Limited</td>\n",
       "      <td>3.5 - 5 LPA</td>\n",
       "      <td>14 Jul' 21</td>\n",
       "    </tr>\n",
       "    <tr>\n",
       "      <th>118</th>\n",
       "      <td>Associate Software Developer</td>\n",
       "      <td>IQGateway</td>\n",
       "      <td>3.6 - 10 LPA</td>\n",
       "      <td>11 Jul' 21</td>\n",
       "    </tr>\n",
       "    <tr>\n",
       "      <th>119</th>\n",
       "      <td>Reactjs Developer</td>\n",
       "      <td>Startxlabs Technologies Private Limited</td>\n",
       "      <td>3 - 4 LPA</td>\n",
       "      <td>11 Jul' 21</td>\n",
       "    </tr>\n",
       "    <tr>\n",
       "      <th>120</th>\n",
       "      <td>Full Stack Developer</td>\n",
       "      <td>RavGins International Private Limited (Wobb.ai)</td>\n",
       "      <td>3.3 - 4 LPA</td>\n",
       "      <td>11 Jul' 21</td>\n",
       "    </tr>\n",
       "  </tbody>\n",
       "</table>\n",
       "<p>120 rows × 4 columns</p>\n",
       "</div>"
      ],
      "text/plain": [
       "                            Job_Title  \\\n",
       "1     Product Developer - Mathematics   \n",
       "2    Sales Development Representative   \n",
       "3                 Full Stack Engineer   \n",
       "4            Junior ReactJS Developer   \n",
       "5                   Marketing Manager   \n",
       "..                                ...   \n",
       "116                   Order Processor   \n",
       "117              Full Stack Developer   \n",
       "118      Associate Software Developer   \n",
       "119                 Reactjs Developer   \n",
       "120              Full Stack Developer   \n",
       "\n",
       "                                        Company_Name     Annual_CTC  \\\n",
       "1                                Open Door Education      7 - 8 LPA   \n",
       "2                                       Content Beta      3 - 4 LPA   \n",
       "3                  Softway Solutions Private Limited    5.5 - 9 LPA   \n",
       "4       DeepThought Edutech Ventures Private Limited      3 - 5 LPA   \n",
       "5                            Saltoro Coffee Roasters  3.2 - 3.5 LPA   \n",
       "..                                               ...            ...   \n",
       "116                                       InspectHOA          3 LPA   \n",
       "117            Nikulsan Technologies Private Limited    3.5 - 5 LPA   \n",
       "118                                        IQGateway   3.6 - 10 LPA   \n",
       "119          Startxlabs Technologies Private Limited      3 - 4 LPA   \n",
       "120  RavGins International Private Limited (Wobb.ai)    3.3 - 4 LPA   \n",
       "\n",
       "     Apply_Date  \n",
       "1    22 Jul' 21  \n",
       "2    22 Jul' 21  \n",
       "3    22 Jul' 21  \n",
       "4    22 Jul' 21  \n",
       "5    22 Jul' 21  \n",
       "..          ...  \n",
       "116  14 Jul' 21  \n",
       "117  14 Jul' 21  \n",
       "118  11 Jul' 21  \n",
       "119  11 Jul' 21  \n",
       "120  11 Jul' 21  \n",
       "\n",
       "[120 rows x 4 columns]"
      ]
     },
     "execution_count": 124,
     "metadata": {},
     "output_type": "execute_result"
    }
   ],
   "source": [
    "data =list(zip(Titles, Companies, CTC, ApplyBy))\n",
    "\n",
    "Fresher_Jobs = pd.DataFrame(data=data, columns=['Job_Title','Company_Name','Annual_CTC','Apply_Date'], index = np.arange(1,121,1))\n",
    "\n",
    "Fresher_Jobs"
   ]
  },
  {
   "cell_type": "code",
   "execution_count": 125,
   "metadata": {},
   "outputs": [],
   "source": [
    "Fresher_Jobs.to_csv('Fresher_Jobs.csv')"
   ]
  },
  {
   "cell_type": "markdown",
   "metadata": {},
   "source": [
    "### 10. Write a python program to scrape house details from mentioned url. It should include house title, location, area, emi and price"
   ]
  },
  {
   "cell_type": "code",
   "execution_count": 126,
   "metadata": {},
   "outputs": [],
   "source": [
    "r= requests.get('https://www.nobroker.in/property/sale/bangalore/Electronic%20City?type=BHK4&searchParam=W3sibGF0IjoxMi44NDUyMTQ1LCJsb24iOjc3LjY2MDE2OTUsInBsYWNlSWQiOiJDaElKdy1GUWQ0cHNyanNSSGZkYXpnXzhYRW8iLCJwbGFjZU5hbWUiOiJFbGVjdHJvbmljIENpdHkifV0=&propertyAge=0&radius=2.0')\n",
    "soup = BeautifulSoup(r.content)"
   ]
  },
  {
   "cell_type": "code",
   "execution_count": 127,
   "metadata": {},
   "outputs": [
    {
     "data": {
      "text/plain": [
       "['4 BHK In Independent House  For Sale  In Naganathapura ',\n",
       " '4 BHK For Sale  In Daadys Garden In Electronic City ',\n",
       " '4 BHK In Independent House  For Sale  In Sarjapura ',\n",
       " '4 BHK Flat  For Sale  In Electronic City ',\n",
       " '4 BHK In Independent House  For Sale  In Electronic City,  ',\n",
       " '4 BHK In Independent House  For Sale  In Electronic City ',\n",
       " '4 BHK Apartment  For Sale  In Gopalan Gardenia In Electronic City ',\n",
       " '4 BHK Flat  For Sale  In Electronic City ',\n",
       " '4 BHK Flat  For Sale  In Heena Enclave In Electronic City ',\n",
       " '4 BHK In Independent House  For Sale  In Ananth Nagar ']"
      ]
     },
     "execution_count": 127,
     "metadata": {},
     "output_type": "execute_result"
    }
   ],
   "source": [
    "#Title\n",
    "\n",
    "title = soup.find_all('h2', class_='heading-6 font-semi-bold nb__1AShY')\n",
    "\n",
    "titlename = []\n",
    "\n",
    "for i in title:\n",
    "    titlename.append(i.text)\n",
    "titlename"
   ]
  },
  {
   "cell_type": "code",
   "execution_count": 128,
   "metadata": {},
   "outputs": [
    {
     "data": {
      "text/plain": [
       "['Independent House, Doddanagamangala Rd opposite Sobha Silicon Oasis',\n",
       " 'Daadys Garden\\xa0 Kammasandra Rd, Kammasandra, Electronic City, Bengaluru, Karnataka 560100, India',\n",
       " 'Independent House,  Shantipura Village , S.P Layout , near  Shantipura Panchayat Office',\n",
       " 'Standalone Building, Shikaripalya, near Shams School',\n",
       " 'Independent House,  Krishna reddy layout-Near Maruti Suzuki ARENA (Surakshaa Car Care, Bengaluru, Electronic City)',\n",
       " 'Independent House, Dhruv Dhama LayoutNear Heddari Icon',\n",
       " 'Gopalan Gardenia\\xa0 Gopalan gardenia, Veerasandra Main Rd, Veer Sandra, Electronic City, Bengaluru, Karnataka 560100, India',\n",
       " 'Standalone Building, Konappana Agrahara, Near Saffron Supermarket',\n",
       " 'Neeladri Nagar,Near Pioneer Sun Blossom',\n",
       " 'Independent House, Glass factory Outlet nd cross Near Grand Mart']"
      ]
     },
     "execution_count": 128,
     "metadata": {},
     "output_type": "execute_result"
    }
   ],
   "source": [
    "#For Location\n",
    "\n",
    "location = soup.find_all('div', class_='nb__2CMjv')\n",
    "\n",
    "locations= []\n",
    "\n",
    "for i in location:\n",
    "    locations.append(i.text.strip())\n",
    "locations"
   ]
  },
  {
   "cell_type": "code",
   "execution_count": 129,
   "metadata": {},
   "outputs": [
    {
     "data": {
      "text/plain": [
       "['1,200 sqft',\n",
       " '2,600 sqft',\n",
       " '1,100 sqft',\n",
       " '1,400 sqft',\n",
       " '2,500 sqft',\n",
       " '2,400 sqft',\n",
       " '2,650 sqft',\n",
       " '1,120 sqft',\n",
       " '2,350 sqft',\n",
       " '2,200 sqft']"
      ]
     },
     "execution_count": 129,
     "metadata": {},
     "output_type": "execute_result"
    }
   ],
   "source": [
    "#Area\n",
    "area= soup.find_all('div', class_='nb__3oNyC', limit=None)\n",
    "\n",
    "areas= []\n",
    "\n",
    "for i in area:\n",
    "    areas.append(i.text.strip())\n",
    "areas"
   ]
  },
  {
   "cell_type": "code",
   "execution_count": 130,
   "metadata": {},
   "outputs": [
    {
     "data": {
      "text/plain": [
       "['₹45,851/Month',\n",
       " '₹85,971/Month',\n",
       " '₹40,120/Month',\n",
       " '₹20,060/Month',\n",
       " '₹1.43 Lacs/Month',\n",
       " '₹51,583/Month',\n",
       " '₹63,045/Month',\n",
       " '₹28,657/Month',\n",
       " '₹71,643/Month',\n",
       " '₹56,168/Month']"
      ]
     },
     "execution_count": 130,
     "metadata": {},
     "output_type": "execute_result"
    }
   ],
   "source": [
    "#EMI\n",
    "\n",
    "emi = soup.find_all('div', id='roomType', class_='font-semi-bold heading-6')\n",
    "\n",
    "Emi = []\n",
    "\n",
    "for i in emi:\n",
    "    Emi.append(i.text)\n",
    "Emi"
   ]
  },
  {
   "cell_type": "code",
   "execution_count": 131,
   "metadata": {},
   "outputs": [
    {
     "data": {
      "text/plain": [
       "['₹80 Lacs',\n",
       " '₹1.5 Crores',\n",
       " '₹70 Lacs',\n",
       " '₹35 Lacs',\n",
       " '₹2.5 Crores',\n",
       " '₹90 Lacs',\n",
       " '₹1.1 Crores',\n",
       " '₹50 Lacs',\n",
       " '₹1.25 Crores',\n",
       " '₹98 Lacs']"
      ]
     },
     "execution_count": 131,
     "metadata": {},
     "output_type": "execute_result"
    }
   ],
   "source": [
    "#PRICE\n",
    "\n",
    "Price = []\n",
    "\n",
    "price = soup.find_all('div', class_='nb__2NPHR',id='minDeposit')\n",
    "\n",
    "for rupees in price:\n",
    "    Price.append(rupees.find('span').text)\n",
    "Price"
   ]
  },
  {
   "cell_type": "code",
   "execution_count": 132,
   "metadata": {},
   "outputs": [
    {
     "data": {
      "text/html": [
       "<div>\n",
       "<style scoped>\n",
       "    .dataframe tbody tr th:only-of-type {\n",
       "        vertical-align: middle;\n",
       "    }\n",
       "\n",
       "    .dataframe tbody tr th {\n",
       "        vertical-align: top;\n",
       "    }\n",
       "\n",
       "    .dataframe thead th {\n",
       "        text-align: right;\n",
       "    }\n",
       "</style>\n",
       "<table border=\"1\" class=\"dataframe\">\n",
       "  <thead>\n",
       "    <tr style=\"text-align: right;\">\n",
       "      <th></th>\n",
       "      <th>Title</th>\n",
       "      <th>Location</th>\n",
       "      <th>Area</th>\n",
       "      <th>EMI</th>\n",
       "      <th>Price</th>\n",
       "    </tr>\n",
       "  </thead>\n",
       "  <tbody>\n",
       "    <tr>\n",
       "      <th>1</th>\n",
       "      <td>4 BHK In Independent House  For Sale  In Nagan...</td>\n",
       "      <td>Independent House, Doddanagamangala Rd opposit...</td>\n",
       "      <td>1,200 sqft</td>\n",
       "      <td>₹45,851/Month</td>\n",
       "      <td>₹80 Lacs</td>\n",
       "    </tr>\n",
       "    <tr>\n",
       "      <th>2</th>\n",
       "      <td>4 BHK For Sale  In Daadys Garden In Electronic...</td>\n",
       "      <td>Daadys Garden  Kammasandra Rd, Kammasandra, El...</td>\n",
       "      <td>2,600 sqft</td>\n",
       "      <td>₹85,971/Month</td>\n",
       "      <td>₹1.5 Crores</td>\n",
       "    </tr>\n",
       "    <tr>\n",
       "      <th>3</th>\n",
       "      <td>4 BHK In Independent House  For Sale  In Sarja...</td>\n",
       "      <td>Independent House,  Shantipura Village , S.P L...</td>\n",
       "      <td>1,100 sqft</td>\n",
       "      <td>₹40,120/Month</td>\n",
       "      <td>₹70 Lacs</td>\n",
       "    </tr>\n",
       "    <tr>\n",
       "      <th>4</th>\n",
       "      <td>4 BHK Flat  For Sale  In Electronic City</td>\n",
       "      <td>Standalone Building, Shikaripalya, near Shams ...</td>\n",
       "      <td>1,400 sqft</td>\n",
       "      <td>₹20,060/Month</td>\n",
       "      <td>₹35 Lacs</td>\n",
       "    </tr>\n",
       "    <tr>\n",
       "      <th>5</th>\n",
       "      <td>4 BHK In Independent House  For Sale  In Elect...</td>\n",
       "      <td>Independent House,  Krishna reddy layout-Near ...</td>\n",
       "      <td>2,500 sqft</td>\n",
       "      <td>₹1.43 Lacs/Month</td>\n",
       "      <td>₹2.5 Crores</td>\n",
       "    </tr>\n",
       "    <tr>\n",
       "      <th>6</th>\n",
       "      <td>4 BHK In Independent House  For Sale  In Elect...</td>\n",
       "      <td>Independent House, Dhruv Dhama LayoutNear Hedd...</td>\n",
       "      <td>2,400 sqft</td>\n",
       "      <td>₹51,583/Month</td>\n",
       "      <td>₹90 Lacs</td>\n",
       "    </tr>\n",
       "    <tr>\n",
       "      <th>7</th>\n",
       "      <td>4 BHK Apartment  For Sale  In Gopalan Gardenia...</td>\n",
       "      <td>Gopalan Gardenia  Gopalan gardenia, Veerasandr...</td>\n",
       "      <td>2,650 sqft</td>\n",
       "      <td>₹63,045/Month</td>\n",
       "      <td>₹1.1 Crores</td>\n",
       "    </tr>\n",
       "    <tr>\n",
       "      <th>8</th>\n",
       "      <td>4 BHK Flat  For Sale  In Electronic City</td>\n",
       "      <td>Standalone Building, Konappana Agrahara, Near ...</td>\n",
       "      <td>1,120 sqft</td>\n",
       "      <td>₹28,657/Month</td>\n",
       "      <td>₹50 Lacs</td>\n",
       "    </tr>\n",
       "    <tr>\n",
       "      <th>9</th>\n",
       "      <td>4 BHK Flat  For Sale  In Heena Enclave In Elec...</td>\n",
       "      <td>Neeladri Nagar,Near Pioneer Sun Blossom</td>\n",
       "      <td>2,350 sqft</td>\n",
       "      <td>₹71,643/Month</td>\n",
       "      <td>₹1.25 Crores</td>\n",
       "    </tr>\n",
       "    <tr>\n",
       "      <th>10</th>\n",
       "      <td>4 BHK In Independent House  For Sale  In Anant...</td>\n",
       "      <td>Independent House, Glass factory Outlet nd cro...</td>\n",
       "      <td>2,200 sqft</td>\n",
       "      <td>₹56,168/Month</td>\n",
       "      <td>₹98 Lacs</td>\n",
       "    </tr>\n",
       "  </tbody>\n",
       "</table>\n",
       "</div>"
      ],
      "text/plain": [
       "                                                Title  \\\n",
       "1   4 BHK In Independent House  For Sale  In Nagan...   \n",
       "2   4 BHK For Sale  In Daadys Garden In Electronic...   \n",
       "3   4 BHK In Independent House  For Sale  In Sarja...   \n",
       "4           4 BHK Flat  For Sale  In Electronic City    \n",
       "5   4 BHK In Independent House  For Sale  In Elect...   \n",
       "6   4 BHK In Independent House  For Sale  In Elect...   \n",
       "7   4 BHK Apartment  For Sale  In Gopalan Gardenia...   \n",
       "8           4 BHK Flat  For Sale  In Electronic City    \n",
       "9   4 BHK Flat  For Sale  In Heena Enclave In Elec...   \n",
       "10  4 BHK In Independent House  For Sale  In Anant...   \n",
       "\n",
       "                                             Location        Area  \\\n",
       "1   Independent House, Doddanagamangala Rd opposit...  1,200 sqft   \n",
       "2   Daadys Garden  Kammasandra Rd, Kammasandra, El...  2,600 sqft   \n",
       "3   Independent House,  Shantipura Village , S.P L...  1,100 sqft   \n",
       "4   Standalone Building, Shikaripalya, near Shams ...  1,400 sqft   \n",
       "5   Independent House,  Krishna reddy layout-Near ...  2,500 sqft   \n",
       "6   Independent House, Dhruv Dhama LayoutNear Hedd...  2,400 sqft   \n",
       "7   Gopalan Gardenia  Gopalan gardenia, Veerasandr...  2,650 sqft   \n",
       "8   Standalone Building, Konappana Agrahara, Near ...  1,120 sqft   \n",
       "9             Neeladri Nagar,Near Pioneer Sun Blossom  2,350 sqft   \n",
       "10  Independent House, Glass factory Outlet nd cro...  2,200 sqft   \n",
       "\n",
       "                 EMI         Price  \n",
       "1      ₹45,851/Month      ₹80 Lacs  \n",
       "2      ₹85,971/Month   ₹1.5 Crores  \n",
       "3      ₹40,120/Month      ₹70 Lacs  \n",
       "4      ₹20,060/Month      ₹35 Lacs  \n",
       "5   ₹1.43 Lacs/Month   ₹2.5 Crores  \n",
       "6      ₹51,583/Month      ₹90 Lacs  \n",
       "7      ₹63,045/Month   ₹1.1 Crores  \n",
       "8      ₹28,657/Month      ₹50 Lacs  \n",
       "9      ₹71,643/Month  ₹1.25 Crores  \n",
       "10     ₹56,168/Month      ₹98 Lacs  "
      ]
     },
     "execution_count": 132,
     "metadata": {},
     "output_type": "execute_result"
    }
   ],
   "source": [
    "data = list(zip(titlename,locations,areas,Emi,Price ))\n",
    "\n",
    "House_Details = pd.DataFrame(data =data, columns=['Title','Location','Area','EMI','Price'], index =np.arange(1,11,1))\n",
    "\n",
    "House_Details"
   ]
  },
  {
   "cell_type": "code",
   "execution_count": 133,
   "metadata": {},
   "outputs": [],
   "source": [
    "House_Details.to_csv('House_Details.csv')"
   ]
  },
  {
   "cell_type": "code",
   "execution_count": null,
   "metadata": {},
   "outputs": [],
   "source": []
  }
 ],
 "metadata": {
  "kernelspec": {
   "display_name": "Python 3",
   "language": "python",
   "name": "python3"
  },
  "language_info": {
   "codemirror_mode": {
    "name": "ipython",
    "version": 3
   },
   "file_extension": ".py",
   "mimetype": "text/x-python",
   "name": "python",
   "nbconvert_exporter": "python",
   "pygments_lexer": "ipython3",
   "version": "3.8.5"
  }
 },
 "nbformat": 4,
 "nbformat_minor": 4
}
